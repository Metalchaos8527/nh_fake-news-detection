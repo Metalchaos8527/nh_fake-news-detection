{
 "cells": [
  {
   "cell_type": "markdown",
   "metadata": {},
   "source": [
    "## 모델선정 2\n",
    "- trial_model의 시도를 바탕으로 데이터를 잘 학습하고 분류 정확도가 높은 성능이 좋은 모델을 사용할 필요성이 증대되었습니다\n",
    "- KoBERT모델을 이용하여 학습을 진행하였습니다. 모델 학습과정은 다음의 colab notebook을 참조하여 진행하였습니다\n",
    "    - https://colab.research.google.com/github/SKTBrain/KoBERT/blob/master/scripts/NSMC/naver_review_classifications_pytorch_kobert.ipynb\n",
    "    \n",
    "<br>\n",
    "\n",
    "## 발견한 점\n",
    "- 정확도가 0.98수준으로 매우 높은 분류 정확도를 보였습니다\n",
    "- KoBERT가 본 task에 적합한 모델임을 확인했습니다. 따라서 BERT기반의 모델을 생성할 것으로 결정하였습니다\n",
    "- 다만 본 notebook은 위의 url의 내용을 상당히 참조하였으므로 보다 간결하고 명확한 코드 구성을 위하여 수정된 모델을 생성할 필요성도 느꼈습니다"
   ]
  },
  {
   "cell_type": "code",
   "execution_count": 1,
   "metadata": {
    "colab": {
     "base_uri": "https://localhost:8080/"
    },
    "executionInfo": {
     "elapsed": 21862,
     "status": "ok",
     "timestamp": 1608348975271,
     "user": {
      "displayName": "Metalchaos",
      "photoUrl": "https://lh3.googleusercontent.com/a-/AOh14Ghlgn0MI3bNmK1nVrlfaZHBhr8IHW8BwHTyoNn4qg=s64",
      "userId": "01329456307028669382"
     },
     "user_tz": -540
    },
    "id": "tXA_0-Q1vl6y",
    "outputId": "a8df9528-0198-4faa-ab0c-9be751ee5cab"
   },
   "outputs": [
    {
     "name": "stdout",
     "output_type": "stream",
     "text": [
      "Mounted at /content/drive\n"
     ]
    }
   ],
   "source": [
    "import os, sys\n",
    "from google.colab import drive\n",
    "\n",
    "#내 구글드라이브 디렉토리 설정\n",
    "drive.mount('/content/drive')\n",
    "\n",
    "my_path = '/content/notebooks'\n",
    "# Colab Notebooks 안에 package_collection 폴더에 패키지 저장\n",
    "#매 실행마다 이 코드를 재실행해야 해당 디렉토리에 있는 패키지를 사용할 수 있음\n",
    "os.symlink('/content/drive/MyDrive/Colab Notebooks/py_env', my_path)\n",
    "sys.path.insert(0, my_path)"
   ]
  },
  {
   "cell_type": "code",
   "execution_count": 2,
   "metadata": {
    "colab": {
     "base_uri": "https://localhost:8080/",
     "height": 1000
    },
    "executionInfo": {
     "elapsed": 120599,
     "status": "ok",
     "timestamp": 1608349102632,
     "user": {
      "displayName": "Metalchaos",
      "photoUrl": "https://lh3.googleusercontent.com/a-/AOh14Ghlgn0MI3bNmK1nVrlfaZHBhr8IHW8BwHTyoNn4qg=s64",
      "userId": "01329456307028669382"
     },
     "user_tz": -540
    },
    "id": "pjOh7sScBdUQ",
    "outputId": "36c9bc21-1c02-4c2e-d958-da3f5c5da078"
   },
   "outputs": [
    {
     "name": "stdout",
     "output_type": "stream",
     "text": [
      "Collecting mxnet\n",
      "\u001b[?25l  Downloading https://files.pythonhosted.org/packages/29/bb/54cbabe428351c06d10903c658878d29ee7026efbe45133fd133598d6eb6/mxnet-1.7.0.post1-py2.py3-none-manylinux2014_x86_64.whl (55.0MB)\n",
      "\u001b[K     |████████████████████████████████| 55.0MB 52kB/s \n",
      "\u001b[?25hCollecting requests<3,>=2.20.0\n",
      "\u001b[?25l  Downloading https://files.pythonhosted.org/packages/29/c1/24814557f1d22c56d50280771a17307e6bf87b70727d975fd6b2ce6b014a/requests-2.25.1-py2.py3-none-any.whl (61kB)\n",
      "\u001b[K     |████████████████████████████████| 61kB 10.0MB/s \n",
      "\u001b[?25hCollecting numpy<2.0.0,>1.16.0\n",
      "\u001b[?25l  Downloading https://files.pythonhosted.org/packages/87/86/753182c9085ba4936c0076269a571613387cdb77ae2bf537448bfd63472c/numpy-1.19.4-cp36-cp36m-manylinux2010_x86_64.whl (14.5MB)\n",
      "\u001b[K     |████████████████████████████████| 14.5MB 251kB/s \n",
      "\u001b[?25hCollecting graphviz<0.9.0,>=0.8.1\n",
      "  Downloading https://files.pythonhosted.org/packages/53/39/4ab213673844e0c004bed8a0781a0721a3f6bb23eb8854ee75c236428892/graphviz-0.8.4-py2.py3-none-any.whl\n",
      "Collecting urllib3<1.27,>=1.21.1\n",
      "\u001b[?25l  Downloading https://files.pythonhosted.org/packages/f5/71/45d36a8df68f3ebb098d6861b2c017f3d094538c0fb98fa61d4dc43e69b9/urllib3-1.26.2-py2.py3-none-any.whl (136kB)\n",
      "\u001b[K     |████████████████████████████████| 143kB 59.0MB/s \n",
      "\u001b[?25hCollecting certifi>=2017.4.17\n",
      "\u001b[?25l  Downloading https://files.pythonhosted.org/packages/5e/a0/5f06e1e1d463903cf0c0eebeb751791119ed7a4b3737fdc9a77f1cdfb51f/certifi-2020.12.5-py2.py3-none-any.whl (147kB)\n",
      "\u001b[K     |████████████████████████████████| 153kB 59.5MB/s \n",
      "\u001b[?25hCollecting chardet<5,>=3.0.2\n",
      "\u001b[?25l  Downloading https://files.pythonhosted.org/packages/19/c7/fa589626997dd07bd87d9269342ccb74b1720384a4d739a1872bd84fbe68/chardet-4.0.0-py2.py3-none-any.whl (178kB)\n",
      "\u001b[K     |████████████████████████████████| 184kB 58.1MB/s \n",
      "\u001b[?25hCollecting idna<3,>=2.5\n",
      "\u001b[?25l  Downloading https://files.pythonhosted.org/packages/a2/38/928ddce2273eaa564f6f50de919327bf3a00f091b5baba8dfa9460f3a8a8/idna-2.10-py2.py3-none-any.whl (58kB)\n",
      "\u001b[K     |████████████████████████████████| 61kB 11.1MB/s \n",
      "\u001b[31mERROR: google-colab 1.0.0 has requirement requests~=2.23.0, but you'll have requests 2.25.1 which is incompatible.\u001b[0m\n",
      "\u001b[31mERROR: datascience 0.10.6 has requirement folium==0.2.1, but you'll have folium 0.8.3 which is incompatible.\u001b[0m\n",
      "\u001b[31mERROR: albumentations 0.1.12 has requirement imgaug<0.2.7,>=0.2.5, but you'll have imgaug 0.2.9 which is incompatible.\u001b[0m\n",
      "\u001b[?25hInstalling collected packages: urllib3, certifi, chardet, idna, requests, numpy, graphviz, mxnet\n",
      "Successfully installed certifi-2020.12.5 chardet-4.0.0 graphviz-0.8.4 idna-2.10 mxnet-1.7.0.post1 numpy-1.19.4 requests-2.25.1 urllib3-1.26.2\n"
     ]
    },
    {
     "data": {
      "application/vnd.colab-display-data+json": {
       "pip_warning": {
        "packages": [
         "numpy"
        ]
       }
      }
     },
     "metadata": {
      "tags": []
     },
     "output_type": "display_data"
    },
    {
     "name": "stdout",
     "output_type": "stream",
     "text": [
      "Collecting gluonnlp\n",
      "\u001b[?25l  Downloading https://files.pythonhosted.org/packages/9c/81/a238e47ccba0d7a61dcef4e0b4a7fd4473cb86bed3d84dd4fe28d45a0905/gluonnlp-0.10.0.tar.gz (344kB)\n",
      "\u001b[K     |████████████████████████████████| 348kB 8.4MB/s \n",
      "\u001b[?25hCollecting pandas\n",
      "\u001b[?25l  Downloading https://files.pythonhosted.org/packages/c3/e2/00cacecafbab071c787019f00ad84ca3185952f6bb9bca9550ed83870d4d/pandas-1.1.5-cp36-cp36m-manylinux1_x86_64.whl (9.5MB)\n",
      "\u001b[K     |████████████████████████████████| 9.5MB 11.2MB/s \n",
      "\u001b[?25hCollecting tqdm\n",
      "\u001b[?25l  Downloading https://files.pythonhosted.org/packages/8a/54/115f0c28a61d56674c3a5e05c46d6c3523ad196e1dcd3e2d8b119026df36/tqdm-4.54.1-py2.py3-none-any.whl (69kB)\n",
      "\u001b[K     |████████████████████████████████| 71kB 11.5MB/s \n",
      "\u001b[?25hCollecting numpy>=1.16.0\n",
      "  Using cached https://files.pythonhosted.org/packages/87/86/753182c9085ba4936c0076269a571613387cdb77ae2bf537448bfd63472c/numpy-1.19.4-cp36-cp36m-manylinux2010_x86_64.whl\n",
      "Collecting cython\n",
      "\u001b[?25l  Downloading https://files.pythonhosted.org/packages/19/49/91ebe4a00bf894d08dd9680cd9dfb05936eb2848eebd9402b43885aa74cf/Cython-0.29.21-cp36-cp36m-manylinux1_x86_64.whl (2.0MB)\n",
      "\u001b[K     |████████████████████████████████| 2.0MB 57.2MB/s \n",
      "\u001b[?25hCollecting packaging\n",
      "  Downloading https://files.pythonhosted.org/packages/b1/a7/588bfa063e7763247ab6f7e1d994e331b85e0e7d09f853c59a6eb9696974/packaging-20.8-py2.py3-none-any.whl\n",
      "Collecting python-dateutil>=2.7.3\n",
      "\u001b[?25l  Downloading https://files.pythonhosted.org/packages/d4/70/d60450c3dd48ef87586924207ae8907090de0b306af2bce5d134d78615cb/python_dateutil-2.8.1-py2.py3-none-any.whl (227kB)\n",
      "\u001b[K     |████████████████████████████████| 235kB 50.6MB/s \n",
      "\u001b[?25hCollecting pytz>=2017.2\n",
      "\u001b[?25l  Downloading https://files.pythonhosted.org/packages/12/f8/ff09af6ff61a3efaad5f61ba5facdf17e7722c4393f7d8a66674d2dbd29f/pytz-2020.4-py2.py3-none-any.whl (509kB)\n",
      "\u001b[K     |████████████████████████████████| 512kB 44.6MB/s \n",
      "\u001b[?25hCollecting pyparsing>=2.0.2\n",
      "\u001b[?25l  Downloading https://files.pythonhosted.org/packages/8a/bb/488841f56197b13700afd5658fc279a2025a39e22449b7cf29864669b15d/pyparsing-2.4.7-py2.py3-none-any.whl (67kB)\n",
      "\u001b[K     |████████████████████████████████| 71kB 11.2MB/s \n",
      "\u001b[?25hCollecting six>=1.5\n",
      "  Downloading https://files.pythonhosted.org/packages/ee/ff/48bde5c0f013094d729fe4b0316ba2a24774b3ff1c52d924a8a4cb04078a/six-1.15.0-py2.py3-none-any.whl\n",
      "Building wheels for collected packages: gluonnlp\n",
      "  Building wheel for gluonnlp (setup.py) ... \u001b[?25l\u001b[?25hdone\n",
      "  Created wheel for gluonnlp: filename=gluonnlp-0.10.0-cp36-cp36m-linux_x86_64.whl size=588513 sha256=0f3af968e0c56527e5f6a77b85a7a062352780cbb628ed6adf44ccae1b409e40\n",
      "  Stored in directory: /root/.cache/pip/wheels/37/65/52/63032864a0f31a08b9a88569f803b5bafac8abd207fd7f7534\n",
      "Successfully built gluonnlp\n",
      "\u001b[31mERROR: nbclient 0.5.1 has requirement jupyter-client>=6.1.5, but you'll have jupyter-client 5.3.5 which is incompatible.\u001b[0m\n",
      "\u001b[31mERROR: datascience 0.10.6 has requirement folium==0.2.1, but you'll have folium 0.8.3 which is incompatible.\u001b[0m\n",
      "\u001b[31mERROR: convertdate 2.2.0 has requirement pytz<2020,>=2014.10, but you'll have pytz 2020.4 which is incompatible.\u001b[0m\n",
      "\u001b[31mERROR: albumentations 0.1.12 has requirement imgaug<0.2.7,>=0.2.5, but you'll have imgaug 0.2.9 which is incompatible.\u001b[0m\n",
      "Installing collected packages: numpy, cython, pyparsing, packaging, gluonnlp, six, python-dateutil, pytz, pandas, tqdm\n",
      "Successfully installed cython-0.29.21 gluonnlp-0.10.0 numpy-1.19.4 packaging-20.8 pandas-1.1.5 pyparsing-2.4.7 python-dateutil-2.8.1 pytz-2020.4 six-1.15.0 tqdm-4.54.1\n",
      "\u001b[33mWARNING: Target directory /content/notebooks/numpy.libs already exists. Specify --upgrade to force replacement.\u001b[0m\n",
      "\u001b[33mWARNING: Target directory /content/notebooks/numpy already exists. Specify --upgrade to force replacement.\u001b[0m\n",
      "\u001b[33mWARNING: Target directory /content/notebooks/numpy-1.19.4.dist-info already exists. Specify --upgrade to force replacement.\u001b[0m\n",
      "\u001b[33mWARNING: Target directory /content/notebooks/bin already exists. Specify --upgrade to force replacement.\u001b[0m\n"
     ]
    },
    {
     "data": {
      "application/vnd.colab-display-data+json": {
       "pip_warning": {
        "packages": [
         "dateutil",
         "numpy",
         "pandas",
         "pyparsing",
         "six"
        ]
       }
      }
     },
     "metadata": {
      "tags": []
     },
     "output_type": "display_data"
    },
    {
     "name": "stdout",
     "output_type": "stream",
     "text": [
      "Collecting sentencepiece\n",
      "\u001b[?25l  Downloading https://files.pythonhosted.org/packages/e5/2d/6d4ca4bef9a67070fa1cac508606328329152b1df10bdf31fb6e4e727894/sentencepiece-0.1.94-cp36-cp36m-manylinux2014_x86_64.whl (1.1MB)\n",
      "\u001b[K     |████████████████████████████████| 1.1MB 8.1MB/s \n",
      "\u001b[?25hInstalling collected packages: sentencepiece\n",
      "Successfully installed sentencepiece-0.1.94\n",
      "Collecting transformers==3\n",
      "\u001b[?25l  Downloading https://files.pythonhosted.org/packages/9c/35/1c3f6e62d81f5f0daff1384e6d5e6c5758682a8357ebc765ece2b9def62b/transformers-3.0.0-py3-none-any.whl (754kB)\n",
      "\u001b[K     |████████████████████████████████| 757kB 9.3MB/s \n",
      "\u001b[?25hCollecting regex!=2019.12.17\n",
      "\u001b[?25l  Downloading https://files.pythonhosted.org/packages/0d/8a/3ac62dadb767ace65a5b954265de4031a99b27148fe14b24771f5c2c2dca/regex-2020.11.13-cp36-cp36m-manylinux2014_x86_64.whl (723kB)\n",
      "\u001b[K     |████████████████████████████████| 727kB 16.2MB/s \n",
      "\u001b[?25hCollecting dataclasses; python_version < \"3.7\"\n",
      "  Downloading https://files.pythonhosted.org/packages/fe/ca/75fac5856ab5cfa51bbbcefa250182e50441074fdc3f803f6e76451fab43/dataclasses-0.8-py3-none-any.whl\n",
      "Collecting numpy\n",
      "  Using cached https://files.pythonhosted.org/packages/87/86/753182c9085ba4936c0076269a571613387cdb77ae2bf537448bfd63472c/numpy-1.19.4-cp36-cp36m-manylinux2010_x86_64.whl\n",
      "Collecting tokenizers==0.8.0-rc4\n",
      "\u001b[?25l  Downloading https://files.pythonhosted.org/packages/e8/bd/e5abec46af977c8a1375c1dca7cb1e5b3ec392ef279067af7f6bc50491a0/tokenizers-0.8.0rc4-cp36-cp36m-manylinux1_x86_64.whl (3.0MB)\n",
      "\u001b[K     |████████████████████████████████| 3.0MB 26.0MB/s \n",
      "\u001b[?25hCollecting sentencepiece\n",
      "  Using cached https://files.pythonhosted.org/packages/e5/2d/6d4ca4bef9a67070fa1cac508606328329152b1df10bdf31fb6e4e727894/sentencepiece-0.1.94-cp36-cp36m-manylinux2014_x86_64.whl\n",
      "Collecting packaging\n",
      "  Using cached https://files.pythonhosted.org/packages/b1/a7/588bfa063e7763247ab6f7e1d994e331b85e0e7d09f853c59a6eb9696974/packaging-20.8-py2.py3-none-any.whl\n",
      "Collecting sacremoses\n",
      "\u001b[?25l  Downloading https://files.pythonhosted.org/packages/7d/34/09d19aff26edcc8eb2a01bed8e98f13a1537005d31e95233fd48216eed10/sacremoses-0.0.43.tar.gz (883kB)\n",
      "\u001b[K     |████████████████████████████████| 890kB 45.2MB/s \n",
      "\u001b[?25hCollecting tqdm>=4.27\n",
      "  Using cached https://files.pythonhosted.org/packages/8a/54/115f0c28a61d56674c3a5e05c46d6c3523ad196e1dcd3e2d8b119026df36/tqdm-4.54.1-py2.py3-none-any.whl\n",
      "Collecting filelock\n",
      "  Downloading https://files.pythonhosted.org/packages/93/83/71a2ee6158bb9f39a90c0dea1637f81d5eef866e188e1971a1b1ab01a35a/filelock-3.0.12-py3-none-any.whl\n",
      "Collecting requests\n",
      "  Using cached https://files.pythonhosted.org/packages/29/c1/24814557f1d22c56d50280771a17307e6bf87b70727d975fd6b2ce6b014a/requests-2.25.1-py2.py3-none-any.whl\n",
      "Collecting pyparsing>=2.0.2\n",
      "  Using cached https://files.pythonhosted.org/packages/8a/bb/488841f56197b13700afd5658fc279a2025a39e22449b7cf29864669b15d/pyparsing-2.4.7-py2.py3-none-any.whl\n",
      "Collecting six\n",
      "  Using cached https://files.pythonhosted.org/packages/ee/ff/48bde5c0f013094d729fe4b0316ba2a24774b3ff1c52d924a8a4cb04078a/six-1.15.0-py2.py3-none-any.whl\n",
      "Collecting click\n",
      "\u001b[?25l  Downloading https://files.pythonhosted.org/packages/d2/3d/fa76db83bf75c4f8d338c2fd15c8d33fdd7ad23a9b5e57eb6c5de26b430e/click-7.1.2-py2.py3-none-any.whl (82kB)\n",
      "\u001b[K     |████████████████████████████████| 92kB 13.7MB/s \n",
      "\u001b[?25hCollecting joblib\n",
      "\u001b[?25l  Downloading https://files.pythonhosted.org/packages/34/5b/bd0f0fb5564183884d8e35b81d06d7ec06a20d1a0c8b4c407f1554691dce/joblib-1.0.0-py3-none-any.whl (302kB)\n",
      "\u001b[K     |████████████████████████████████| 307kB 56.9MB/s \n",
      "\u001b[?25hCollecting urllib3<1.27,>=1.21.1\n",
      "  Using cached https://files.pythonhosted.org/packages/f5/71/45d36a8df68f3ebb098d6861b2c017f3d094538c0fb98fa61d4dc43e69b9/urllib3-1.26.2-py2.py3-none-any.whl\n",
      "Collecting certifi>=2017.4.17\n",
      "  Using cached https://files.pythonhosted.org/packages/5e/a0/5f06e1e1d463903cf0c0eebeb751791119ed7a4b3737fdc9a77f1cdfb51f/certifi-2020.12.5-py2.py3-none-any.whl\n",
      "Collecting idna<3,>=2.5\n",
      "  Using cached https://files.pythonhosted.org/packages/a2/38/928ddce2273eaa564f6f50de919327bf3a00f091b5baba8dfa9460f3a8a8/idna-2.10-py2.py3-none-any.whl\n",
      "Collecting chardet<5,>=3.0.2\n",
      "  Using cached https://files.pythonhosted.org/packages/19/c7/fa589626997dd07bd87d9269342ccb74b1720384a4d739a1872bd84fbe68/chardet-4.0.0-py2.py3-none-any.whl\n",
      "Building wheels for collected packages: sacremoses\n",
      "  Building wheel for sacremoses (setup.py) ... \u001b[?25l\u001b[?25hdone\n",
      "  Created wheel for sacremoses: filename=sacremoses-0.0.43-cp36-none-any.whl size=893261 sha256=fcee717e780422b76061920a561e8a71a61ffbb36fe94b109cfd575c7b8496a7\n",
      "  Stored in directory: /root/.cache/pip/wheels/29/3c/fd/7ce5c3f0666dab31a50123635e6fb5e19ceb42ce38d4e58f45\n",
      "Successfully built sacremoses\n",
      "\u001b[31mERROR: nbclient 0.5.1 has requirement jupyter-client>=6.1.5, but you'll have jupyter-client 5.3.5 which is incompatible.\u001b[0m\n",
      "\u001b[31mERROR: google-colab 1.0.0 has requirement requests~=2.23.0, but you'll have requests 2.25.1 which is incompatible.\u001b[0m\n",
      "\u001b[31mERROR: datascience 0.10.6 has requirement folium==0.2.1, but you'll have folium 0.8.3 which is incompatible.\u001b[0m\n",
      "\u001b[31mERROR: albumentations 0.1.12 has requirement imgaug<0.2.7,>=0.2.5, but you'll have imgaug 0.2.9 which is incompatible.\u001b[0m\n",
      "Installing collected packages: regex, dataclasses, numpy, tokenizers, sentencepiece, pyparsing, packaging, six, click, joblib, tqdm, sacremoses, filelock, urllib3, certifi, idna, chardet, requests, transformers\n",
      "Successfully installed certifi-2020.12.5 chardet-4.0.0 click-7.1.2 dataclasses-0.8 filelock-3.0.12 idna-2.10 joblib-1.0.0 numpy-1.19.4 packaging-20.8 pyparsing-2.4.7 regex-2020.11.13 requests-2.25.1 sacremoses-0.0.43 sentencepiece-0.1.94 six-1.15.0 tokenizers-0.8.0rc4 tqdm-4.54.1 transformers-3.0.0 urllib3-1.26.2\n",
      "\u001b[33mWARNING: Target directory /content/notebooks/sentencepiece-0.1.94.dist-info already exists. Specify --upgrade to force replacement.\u001b[0m\n",
      "\u001b[33mWARNING: Target directory /content/notebooks/sentencepiece already exists. Specify --upgrade to force replacement.\u001b[0m\n",
      "\u001b[33mWARNING: Target directory /content/notebooks/six-1.15.0.dist-info already exists. Specify --upgrade to force replacement.\u001b[0m\n",
      "\u001b[33mWARNING: Target directory /content/notebooks/requests-2.25.1.dist-info already exists. Specify --upgrade to force replacement.\u001b[0m\n",
      "\u001b[33mWARNING: Target directory /content/notebooks/pyparsing-2.4.7.dist-info already exists. Specify --upgrade to force replacement.\u001b[0m\n",
      "\u001b[33mWARNING: Target directory /content/notebooks/pyparsing.py already exists. Specify --upgrade to force replacement.\u001b[0m\n",
      "\u001b[33mWARNING: Target directory /content/notebooks/chardet-4.0.0.dist-info already exists. Specify --upgrade to force replacement.\u001b[0m\n",
      "\u001b[33mWARNING: Target directory /content/notebooks/idna already exists. Specify --upgrade to force replacement.\u001b[0m\n",
      "\u001b[33mWARNING: Target directory /content/notebooks/certifi-2020.12.5.dist-info already exists. Specify --upgrade to force replacement.\u001b[0m\n",
      "\u001b[33mWARNING: Target directory /content/notebooks/requests already exists. Specify --upgrade to force replacement.\u001b[0m\n",
      "\u001b[33mWARNING: Target directory /content/notebooks/chardet already exists. Specify --upgrade to force replacement.\u001b[0m\n",
      "\u001b[33mWARNING: Target directory /content/notebooks/tqdm already exists. Specify --upgrade to force replacement.\u001b[0m\n",
      "\u001b[33mWARNING: Target directory /content/notebooks/numpy.libs already exists. Specify --upgrade to force replacement.\u001b[0m\n",
      "\u001b[33mWARNING: Target directory /content/notebooks/__pycache__ already exists. Specify --upgrade to force replacement.\u001b[0m\n",
      "\u001b[33mWARNING: Target directory /content/notebooks/six.py already exists. Specify --upgrade to force replacement.\u001b[0m\n",
      "\u001b[33mWARNING: Target directory /content/notebooks/certifi already exists. Specify --upgrade to force replacement.\u001b[0m\n",
      "\u001b[33mWARNING: Target directory /content/notebooks/urllib3-1.26.2.dist-info already exists. Specify --upgrade to force replacement.\u001b[0m\n",
      "\u001b[33mWARNING: Target directory /content/notebooks/numpy already exists. Specify --upgrade to force replacement.\u001b[0m\n",
      "\u001b[33mWARNING: Target directory /content/notebooks/tqdm-4.54.1.dist-info already exists. Specify --upgrade to force replacement.\u001b[0m\n",
      "\u001b[33mWARNING: Target directory /content/notebooks/packaging-20.8.dist-info already exists. Specify --upgrade to force replacement.\u001b[0m\n",
      "\u001b[33mWARNING: Target directory /content/notebooks/numpy-1.19.4.dist-info already exists. Specify --upgrade to force replacement.\u001b[0m\n",
      "\u001b[33mWARNING: Target directory /content/notebooks/urllib3 already exists. Specify --upgrade to force replacement.\u001b[0m\n",
      "\u001b[33mWARNING: Target directory /content/notebooks/idna-2.10.dist-info already exists. Specify --upgrade to force replacement.\u001b[0m\n",
      "\u001b[33mWARNING: Target directory /content/notebooks/packaging already exists. Specify --upgrade to force replacement.\u001b[0m\n",
      "\u001b[33mWARNING: Target directory /content/notebooks/bin already exists. Specify --upgrade to force replacement.\u001b[0m\n"
     ]
    },
    {
     "data": {
      "application/vnd.colab-display-data+json": {
       "pip_warning": {
        "packages": [
         "numpy",
         "pyparsing",
         "six"
        ]
       }
      }
     },
     "metadata": {
      "tags": []
     },
     "output_type": "display_data"
    },
    {
     "name": "stdout",
     "output_type": "stream",
     "text": [
      "Collecting git+https://****@github.com/SKTBrain/KoBERT.git@master\n",
      "  Cloning https://****@github.com/SKTBrain/KoBERT.git (to revision master) to /tmp/pip-req-build-1cvteg0c\n",
      "  Running command git clone -q 'https://****@github.com/SKTBrain/KoBERT.git' /tmp/pip-req-build-1cvteg0c\n",
      "Building wheels for collected packages: kobert\n",
      "  Building wheel for kobert (setup.py) ... \u001b[?25l\u001b[?25hdone\n",
      "  Created wheel for kobert: filename=kobert-0.1.2-cp36-none-any.whl size=12734 sha256=7a7fa7b5181e88044ef679ab5287c11c1ebd8b0568e13900b9c47599029bd04d\n",
      "  Stored in directory: /tmp/pip-ephem-wheel-cache-jxjc95mx/wheels/a2/b0/41/435ee4e918f91918be41529283c5ff86cd010f02e7525aecf3\n",
      "Successfully built kobert\n",
      "Installing collected packages: kobert\n",
      "Successfully installed kobert-0.1.2\n"
     ]
    }
   ],
   "source": [
    "#https://github.com/SKTBrain/KoBERT/issues/38\n",
    "#해당 이슈가 발생하여 다음의 작업을 시도\n",
    "#원래 폴더에 있던 모듈들을 모두 지우고 다시 설치한것임\n",
    "!pip install --target=$my_path mxnet\n",
    "!pip install --target=$my_path gluonnlp pandas tqdm\n",
    "!pip install --target=$my_path sentencepiece\n",
    "!pip install --target=$my_path transformers==3\n",
    "!pip install --target=$my_path git+https://git@github.com/SKTBrain/KoBERT.git@master"
   ]
  },
  {
   "cell_type": "code",
   "execution_count": 3,
   "metadata": {
    "executionInfo": {
     "elapsed": 8800,
     "status": "ok",
     "timestamp": 1608349149634,
     "user": {
      "displayName": "Metalchaos",
      "photoUrl": "https://lh3.googleusercontent.com/a-/AOh14Ghlgn0MI3bNmK1nVrlfaZHBhr8IHW8BwHTyoNn4qg=s64",
      "userId": "01329456307028669382"
     },
     "user_tz": -540
    },
    "id": "OWFyTjTIvx2X"
   },
   "outputs": [],
   "source": [
    "import torch\n",
    "from torch import nn\n",
    "import torch.nn.functional as F\n",
    "import torch.optim as optim\n",
    "from torch.utils.data import Dataset, DataLoader\n",
    "import gluonnlp as nlp\n",
    "import numpy as np\n",
    "from tqdm import tqdm, tqdm_notebook"
   ]
  },
  {
   "cell_type": "code",
   "execution_count": 4,
   "metadata": {
    "executionInfo": {
     "elapsed": 2394,
     "status": "ok",
     "timestamp": 1608349153504,
     "user": {
      "displayName": "Metalchaos",
      "photoUrl": "https://lh3.googleusercontent.com/a-/AOh14Ghlgn0MI3bNmK1nVrlfaZHBhr8IHW8BwHTyoNn4qg=s64",
      "userId": "01329456307028669382"
     },
     "user_tz": -540
    },
    "id": "BzO8voN6wBV7"
   },
   "outputs": [],
   "source": [
    "from kobert.utils import get_tokenizer\n",
    "from kobert.pytorch_kobert import get_pytorch_kobert_model"
   ]
  },
  {
   "cell_type": "code",
   "execution_count": 5,
   "metadata": {
    "executionInfo": {
     "elapsed": 692,
     "status": "ok",
     "timestamp": 1608349155626,
     "user": {
      "displayName": "Metalchaos",
      "photoUrl": "https://lh3.googleusercontent.com/a-/AOh14Ghlgn0MI3bNmK1nVrlfaZHBhr8IHW8BwHTyoNn4qg=s64",
      "userId": "01329456307028669382"
     },
     "user_tz": -540
    },
    "id": "nqCRqkghwkLd"
   },
   "outputs": [],
   "source": [
    "from transformers import AdamW\n",
    "from transformers.optimization import get_cosine_schedule_with_warmup"
   ]
  },
  {
   "cell_type": "code",
   "execution_count": 6,
   "metadata": {
    "colab": {
     "base_uri": "https://localhost:8080/"
    },
    "executionInfo": {
     "elapsed": 32854,
     "status": "ok",
     "timestamp": 1608349192788,
     "user": {
      "displayName": "Metalchaos",
      "photoUrl": "https://lh3.googleusercontent.com/a-/AOh14Ghlgn0MI3bNmK1nVrlfaZHBhr8IHW8BwHTyoNn4qg=s64",
      "userId": "01329456307028669382"
     },
     "user_tz": -540
    },
    "id": "9cHQiDngw6It",
    "outputId": "74d92f27-7049-4765-e342-e7de1478ba67"
   },
   "outputs": [
    {
     "name": "stdout",
     "output_type": "stream",
     "text": [
      "[██████████████████████████████████████████████████]\n",
      "[██████████████████████████████████████████████████]\n"
     ]
    }
   ],
   "source": [
    "device = torch.device(\"cuda:0\")\n",
    "\n",
    "bertmodel, vocab = get_pytorch_kobert_model()"
   ]
  },
  {
   "cell_type": "code",
   "execution_count": 18,
   "metadata": {
    "executionInfo": {
     "elapsed": 13653,
     "status": "ok",
     "timestamp": 1608344738416,
     "user": {
      "displayName": "Metalchaos",
      "photoUrl": "https://lh3.googleusercontent.com/a-/AOh14Ghlgn0MI3bNmK1nVrlfaZHBhr8IHW8BwHTyoNn4qg=s64",
      "userId": "01329456307028669382"
     },
     "user_tz": -540
    },
    "id": "c47JbC9V0DkE"
   },
   "outputs": [],
   "source": [
    "import pandas as pd\n",
    "\n",
    "train_df = pd.read_csv('/content/drive/MyDrive/dacon/news_train.csv')\n",
    "\n",
    "import re\n",
    "\n",
    "stopwords_kr = pd.read_csv('/content/drive/MyDrive/dacon/stopwords_kr.txt',sep = '\\n', header = None)\n",
    "stop_kr_list = list(stopwords_kr.iloc[:,0])\n",
    "\n",
    "url_with_https = re.compile(r'(https?:\\/\\/){1,}([\\w.\\/%-]+){1,}')\n",
    "rm_email = re.compile(r'([a-zA-Z0-9\\.\\_]+)@([\\w\\.]+){1,}')\n",
    "useless_words = re.compile(r'[-=+,#/\\?:^$.@*\\\"※~&%ㆍ!』\\\\‘|\\(\\)\\[\\]\\<\\>`\\'…》]+')\n",
    "rm_float_num = re.compile(r'(\\d+\\.?\\,?\\d+)+')\n",
    "rm_num = re.compile(r'\\d')\n",
    "\n",
    "#지난 여름 자율프로젝트에서 사용했던 텍스트 전처리 방식 가져옴\n",
    "def clean_kor_text(kor_text):\n",
    "    text = url_with_https.sub('',kor_text)\n",
    "    text = rm_email.sub('', text)\n",
    "    text = useless_words.sub('',text)\n",
    "    text = rm_float_num.sub('',text)\n",
    "    text = rm_num.sub('', text)\n",
    "    text = ' '.join(word for word in text.split() if word not in stop_kr_list)\n",
    "    return text\n",
    "\n",
    "train_df['clean_content'] = train_df['content'].apply(clean_kor_text)"
   ]
  },
  {
   "cell_type": "code",
   "execution_count": 20,
   "metadata": {
    "executionInfo": {
     "elapsed": 475,
     "status": "ok",
     "timestamp": 1608344827195,
     "user": {
      "displayName": "Metalchaos",
      "photoUrl": "https://lh3.googleusercontent.com/a-/AOh14Ghlgn0MI3bNmK1nVrlfaZHBhr8IHW8BwHTyoNn4qg=s64",
      "userId": "01329456307028669382"
     },
     "user_tz": -540
    },
    "id": "jpr0EQ5r0YWs"
   },
   "outputs": [],
   "source": [
    "dataframe = train_df[['clean_content', 'info']]"
   ]
  },
  {
   "cell_type": "code",
   "execution_count": 43,
   "metadata": {
    "executionInfo": {
     "elapsed": 949,
     "status": "ok",
     "timestamp": 1608345321895,
     "user": {
      "displayName": "Metalchaos",
      "photoUrl": "https://lh3.googleusercontent.com/a-/AOh14Ghlgn0MI3bNmK1nVrlfaZHBhr8IHW8BwHTyoNn4qg=s64",
      "userId": "01329456307028669382"
     },
     "user_tz": -540
    },
    "id": "eZp4xT9t0qDf"
   },
   "outputs": [],
   "source": [
    "dataframe.to_csv('/content/drive/MyDrive/dacon/for_glnlp_no_cls.csv', index = False)"
   ]
  },
  {
   "cell_type": "code",
   "execution_count": 20,
   "metadata": {
    "executionInfo": {
     "elapsed": 748,
     "status": "ok",
     "timestamp": 1608345992903,
     "user": {
      "displayName": "Metalchaos",
      "photoUrl": "https://lh3.googleusercontent.com/a-/AOh14Ghlgn0MI3bNmK1nVrlfaZHBhr8IHW8BwHTyoNn4qg=s64",
      "userId": "01329456307028669382"
     },
     "user_tz": -540
    },
    "id": "bDkFOUdA4waR"
   },
   "outputs": [],
   "source": [
    "dataframe.to_csv('/content/drive/MyDrive/dacon/for_glnlp_no_cls.txt',index = False)"
   ]
  },
  {
   "cell_type": "code",
   "execution_count": 7,
   "metadata": {
    "executionInfo": {
     "elapsed": 1347,
     "status": "ok",
     "timestamp": 1608349205344,
     "user": {
      "displayName": "Metalchaos",
      "photoUrl": "https://lh3.googleusercontent.com/a-/AOh14Ghlgn0MI3bNmK1nVrlfaZHBhr8IHW8BwHTyoNn4qg=s64",
      "userId": "01329456307028669382"
     },
     "user_tz": -540
    },
    "id": "gjqtYKzrw9o9"
   },
   "outputs": [],
   "source": [
    "train_dataset = nlp.data.TSVDataset('/content/drive/MyDrive/dacon/for_glnlp_no_cls.txt', num_discard_samples= 1,\n",
    "                                    field_separator = lambda x: x.split(','))"
   ]
  },
  {
   "cell_type": "code",
   "execution_count": 8,
   "metadata": {
    "colab": {
     "base_uri": "https://localhost:8080/"
    },
    "executionInfo": {
     "elapsed": 641,
     "status": "ok",
     "timestamp": 1608349206816,
     "user": {
      "displayName": "Metalchaos",
      "photoUrl": "https://lh3.googleusercontent.com/a-/AOh14Ghlgn0MI3bNmK1nVrlfaZHBhr8IHW8BwHTyoNn4qg=s64",
      "userId": "01329456307028669382"
     },
     "user_tz": -540
    },
    "id": "PnaDJPIB4bt-",
    "outputId": "5695c6fb-da68-4cbc-c9be-3be1d72a4637"
   },
   "outputs": [
    {
     "data": {
      "text/plain": [
       "['이데일리 MARKETPOINT 현재 코스닥 기관 억 순매도', '0']"
      ]
     },
     "execution_count": 8,
     "metadata": {
      "tags": []
     },
     "output_type": "execute_result"
    }
   ],
   "source": [
    "train_dataset[0]"
   ]
  },
  {
   "cell_type": "code",
   "execution_count": 9,
   "metadata": {
    "colab": {
     "base_uri": "https://localhost:8080/"
    },
    "executionInfo": {
     "elapsed": 657,
     "status": "ok",
     "timestamp": 1608349208586,
     "user": {
      "displayName": "Metalchaos",
      "photoUrl": "https://lh3.googleusercontent.com/a-/AOh14Ghlgn0MI3bNmK1nVrlfaZHBhr8IHW8BwHTyoNn4qg=s64",
      "userId": "01329456307028669382"
     },
     "user_tz": -540
    },
    "id": "E-upm1Zj6cO1",
    "outputId": "27fb194a-6cf4-44fc-eead-eec5a921a531"
   },
   "outputs": [
    {
     "name": "stdout",
     "output_type": "stream",
     "text": [
      "using cached model\n"
     ]
    }
   ],
   "source": [
    "tokenizer = get_tokenizer()\n",
    "tok = nlp.data.BERTSPTokenizer(tokenizer, vocab, lower=False)"
   ]
  },
  {
   "cell_type": "code",
   "execution_count": 10,
   "metadata": {
    "executionInfo": {
     "elapsed": 642,
     "status": "ok",
     "timestamp": 1608349210875,
     "user": {
      "displayName": "Metalchaos",
      "photoUrl": "https://lh3.googleusercontent.com/a-/AOh14Ghlgn0MI3bNmK1nVrlfaZHBhr8IHW8BwHTyoNn4qg=s64",
      "userId": "01329456307028669382"
     },
     "user_tz": -540
    },
    "id": "FaztAsWqx1D5"
   },
   "outputs": [],
   "source": [
    "word_to_id = vocab.token_to_idx\n",
    "id_to_word = vocab.idx_to_token"
   ]
  },
  {
   "cell_type": "code",
   "execution_count": 11,
   "metadata": {
    "executionInfo": {
     "elapsed": 425,
     "status": "ok",
     "timestamp": 1608349211616,
     "user": {
      "displayName": "Metalchaos",
      "photoUrl": "https://lh3.googleusercontent.com/a-/AOh14Ghlgn0MI3bNmK1nVrlfaZHBhr8IHW8BwHTyoNn4qg=s64",
      "userId": "01329456307028669382"
     },
     "user_tz": -540
    },
    "id": "iUcb0Aiux2gm"
   },
   "outputs": [],
   "source": [
    "class BERTDataset(Dataset):\n",
    "    def __init__(self, dataset, sent_idx, label_idx, bert_tokenizer, max_len,\n",
    "                 pad, pair):\n",
    "        transform = nlp.data.BERTSentenceTransform(\n",
    "            bert_tokenizer, max_seq_length=max_len, pad=pad, pair=pair)\n",
    "\n",
    "        self.sentences = [transform([i[sent_idx]]) for i in dataset]\n",
    "        self.labels = [np.int32(i[label_idx]) for i in dataset]\n",
    "\n",
    "    def __getitem__(self, i):\n",
    "        return (self.sentences[i] + (self.labels[i], ))\n",
    "\n",
    "    def __len__(self):\n",
    "        return (len(self.labels))"
   ]
  },
  {
   "cell_type": "code",
   "execution_count": 12,
   "metadata": {
    "executionInfo": {
     "elapsed": 710,
     "status": "ok",
     "timestamp": 1608349213352,
     "user": {
      "displayName": "Metalchaos",
      "photoUrl": "https://lh3.googleusercontent.com/a-/AOh14Ghlgn0MI3bNmK1nVrlfaZHBhr8IHW8BwHTyoNn4qg=s64",
      "userId": "01329456307028669382"
     },
     "user_tz": -540
    },
    "id": "rIFsNIlzx6OV"
   },
   "outputs": [],
   "source": [
    "max_len = 128\n",
    "batch_size = 64\n",
    "warmup_ratio = 0.1\n",
    "num_epochs = 5\n",
    "max_grad_norm = 1\n",
    "log_interval = 200\n",
    "learning_rate =  5e-5"
   ]
  },
  {
   "cell_type": "code",
   "execution_count": 13,
   "metadata": {
    "colab": {
     "base_uri": "https://localhost:8080/"
    },
    "executionInfo": {
     "elapsed": 706,
     "status": "ok",
     "timestamp": 1608349214433,
     "user": {
      "displayName": "Metalchaos",
      "photoUrl": "https://lh3.googleusercontent.com/a-/AOh14Ghlgn0MI3bNmK1nVrlfaZHBhr8IHW8BwHTyoNn4qg=s64",
      "userId": "01329456307028669382"
     },
     "user_tz": -540
    },
    "id": "v4-ZdkQDyzZV",
    "outputId": "19de654a-fd15-437b-dcd9-607114da9999"
   },
   "outputs": [
    {
     "data": {
      "text/plain": [
       "['▁이데일리',\n",
       " '▁M',\n",
       " 'AR',\n",
       " 'K',\n",
       " 'E',\n",
       " 'T',\n",
       " 'P',\n",
       " 'O',\n",
       " 'IN',\n",
       " 'T',\n",
       " '▁현재',\n",
       " '▁코스닥',\n",
       " '▁기관',\n",
       " '▁',\n",
       " '억',\n",
       " '▁순매도']"
      ]
     },
     "execution_count": 13,
     "metadata": {
      "tags": []
     },
     "output_type": "execute_result"
    }
   ],
   "source": [
    "tok(train_dataset[0][0])"
   ]
  },
  {
   "cell_type": "code",
   "execution_count": 14,
   "metadata": {
    "executionInfo": {
     "elapsed": 12580,
     "status": "ok",
     "timestamp": 1608349232195,
     "user": {
      "displayName": "Metalchaos",
      "photoUrl": "https://lh3.googleusercontent.com/a-/AOh14Ghlgn0MI3bNmK1nVrlfaZHBhr8IHW8BwHTyoNn4qg=s64",
      "userId": "01329456307028669382"
     },
     "user_tz": -540
    },
    "id": "jX8DlO4ix-jc"
   },
   "outputs": [],
   "source": [
    "data_train = BERTDataset(train_dataset, 0, 1, tok, max_len, True, False)"
   ]
  },
  {
   "cell_type": "code",
   "execution_count": 40,
   "metadata": {
    "colab": {
     "base_uri": "https://localhost:8080/"
    },
    "executionInfo": {
     "elapsed": 744,
     "status": "ok",
     "timestamp": 1608346611598,
     "user": {
      "displayName": "Metalchaos",
      "photoUrl": "https://lh3.googleusercontent.com/a-/AOh14Ghlgn0MI3bNmK1nVrlfaZHBhr8IHW8BwHTyoNn4qg=s64",
      "userId": "01329456307028669382"
     },
     "user_tz": -540
    },
    "id": "sl6RiZHNyG9N",
    "outputId": "2bfdbd57-1a50-422c-ff17-260408087c3b"
   },
   "outputs": [
    {
     "data": {
      "text/plain": [
       "118745"
      ]
     },
     "execution_count": 40,
     "metadata": {
      "tags": []
     },
     "output_type": "execute_result"
    }
   ],
   "source": [
    "#훈련, 검증 데이터셋 분리\n",
    "len(data_train)"
   ]
  },
  {
   "cell_type": "code",
   "execution_count": 41,
   "metadata": {
    "colab": {
     "base_uri": "https://localhost:8080/"
    },
    "executionInfo": {
     "elapsed": 690,
     "status": "ok",
     "timestamp": 1608346622625,
     "user": {
      "displayName": "Metalchaos",
      "photoUrl": "https://lh3.googleusercontent.com/a-/AOh14Ghlgn0MI3bNmK1nVrlfaZHBhr8IHW8BwHTyoNn4qg=s64",
      "userId": "01329456307028669382"
     },
     "user_tz": -540
    },
    "id": "0FAtNNVZ7arx",
    "outputId": "50009349-94c0-4c33-e9bc-e62786583ca6"
   },
   "outputs": [
    {
     "data": {
      "text/plain": [
       "106870.5"
      ]
     },
     "execution_count": 41,
     "metadata": {
      "tags": []
     },
     "output_type": "execute_result"
    }
   ],
   "source": [
    "0.9* len(data_train)"
   ]
  },
  {
   "cell_type": "code",
   "execution_count": 15,
   "metadata": {
    "executionInfo": {
     "elapsed": 749,
     "status": "ok",
     "timestamp": 1608349234860,
     "user": {
      "displayName": "Metalchaos",
      "photoUrl": "https://lh3.googleusercontent.com/a-/AOh14Ghlgn0MI3bNmK1nVrlfaZHBhr8IHW8BwHTyoNn4qg=s64",
      "userId": "01329456307028669382"
     },
     "user_tz": -540
    },
    "id": "v4xk8Pdx7dfR"
   },
   "outputs": [],
   "source": [
    "train_dataset, val_dataset = torch.utils.data.random_split(data_train, [106870, len(data_train) - 106870],\n",
    "                                                           torch.Generator().manual_seed(156))"
   ]
  },
  {
   "cell_type": "code",
   "execution_count": 85,
   "metadata": {
    "colab": {
     "base_uri": "https://localhost:8080/"
    },
    "executionInfo": {
     "elapsed": 646,
     "status": "ok",
     "timestamp": 1608348366409,
     "user": {
      "displayName": "Metalchaos",
      "photoUrl": "https://lh3.googleusercontent.com/a-/AOh14Ghlgn0MI3bNmK1nVrlfaZHBhr8IHW8BwHTyoNn4qg=s64",
      "userId": "01329456307028669382"
     },
     "user_tz": -540
    },
    "id": "Nvt0CsVC7r6m",
    "outputId": "80f1b338-01df-4642-92f3-c988b52ed9bc"
   },
   "outputs": [
    {
     "data": {
      "text/plain": [
       "106870"
      ]
     },
     "execution_count": 85,
     "metadata": {
      "tags": []
     },
     "output_type": "execute_result"
    }
   ],
   "source": [
    "len(train_dataset)"
   ]
  },
  {
   "cell_type": "code",
   "execution_count": 16,
   "metadata": {
    "executionInfo": {
     "elapsed": 683,
     "status": "ok",
     "timestamp": 1608349237452,
     "user": {
      "displayName": "Metalchaos",
      "photoUrl": "https://lh3.googleusercontent.com/a-/AOh14Ghlgn0MI3bNmK1nVrlfaZHBhr8IHW8BwHTyoNn4qg=s64",
      "userId": "01329456307028669382"
     },
     "user_tz": -540
    },
    "id": "rLE9idYx7uVY"
   },
   "outputs": [],
   "source": [
    "train_dataloader = torch.utils.data.DataLoader(train_dataset, batch_size= batch_size, num_workers = 5)\n",
    "val_dataloader = torch.utils.data.DataLoader(val_dataset, batch_size= batch_size, num_workers = 5)"
   ]
  },
  {
   "cell_type": "code",
   "execution_count": 17,
   "metadata": {
    "colab": {
     "base_uri": "https://localhost:8080/"
    },
    "executionInfo": {
     "elapsed": 676,
     "status": "ok",
     "timestamp": 1608349241203,
     "user": {
      "displayName": "Metalchaos",
      "photoUrl": "https://lh3.googleusercontent.com/a-/AOh14Ghlgn0MI3bNmK1nVrlfaZHBhr8IHW8BwHTyoNn4qg=s64",
      "userId": "01329456307028669382"
     },
     "user_tz": -540
    },
    "id": "fd5HIuED8vNx",
    "outputId": "03b08363-5cb9-49ee-f6ca-862a48487c63"
   },
   "outputs": [
    {
     "data": {
      "text/plain": [
       "(array([   2,  517, 5330, 5646,  517, 5435, 5940, 5760, 4617, 7310, 4663,\n",
       "        7565, 4955, 4162, 5336, 7086, 4213, 6180,  517, 5330, 6353, 7010,\n",
       "        1681, 5935, 5402, 3939, 2573, 7483, 7115, 2822, 6280, 7828, 5025,\n",
       "        7112,    3,    1,    1,    1,    1,    1,    1,    1,    1,    1,\n",
       "           1,    1,    1,    1,    1,    1,    1,    1,    1,    1,    1,\n",
       "           1,    1,    1,    1,    1,    1,    1,    1,    1,    1,    1,\n",
       "           1,    1,    1,    1,    1,    1,    1,    1,    1,    1,    1,\n",
       "           1,    1,    1,    1,    1,    1,    1,    1,    1,    1,    1,\n",
       "           1,    1,    1,    1,    1,    1,    1,    1,    1,    1,    1,\n",
       "           1,    1,    1,    1,    1,    1,    1,    1,    1,    1,    1,\n",
       "           1,    1,    1,    1,    1,    1,    1,    1,    1,    1,    1,\n",
       "           1,    1,    1,    1,    1,    1,    1], dtype=int32),\n",
       " array(35, dtype=int32),\n",
       " array([0, 0, 0, 0, 0, 0, 0, 0, 0, 0, 0, 0, 0, 0, 0, 0, 0, 0, 0, 0, 0, 0,\n",
       "        0, 0, 0, 0, 0, 0, 0, 0, 0, 0, 0, 0, 0, 0, 0, 0, 0, 0, 0, 0, 0, 0,\n",
       "        0, 0, 0, 0, 0, 0, 0, 0, 0, 0, 0, 0, 0, 0, 0, 0, 0, 0, 0, 0, 0, 0,\n",
       "        0, 0, 0, 0, 0, 0, 0, 0, 0, 0, 0, 0, 0, 0, 0, 0, 0, 0, 0, 0, 0, 0,\n",
       "        0, 0, 0, 0, 0, 0, 0, 0, 0, 0, 0, 0, 0, 0, 0, 0, 0, 0, 0, 0, 0, 0,\n",
       "        0, 0, 0, 0, 0, 0, 0, 0, 0, 0, 0, 0, 0, 0, 0, 0, 0, 0], dtype=int32),\n",
       " 0)"
      ]
     },
     "execution_count": 17,
     "metadata": {
      "tags": []
     },
     "output_type": "execute_result"
    }
   ],
   "source": [
    "train_dataloader.dataset[0]"
   ]
  },
  {
   "cell_type": "code",
   "execution_count": 18,
   "metadata": {
    "executionInfo": {
     "elapsed": 697,
     "status": "ok",
     "timestamp": 1608349244319,
     "user": {
      "displayName": "Metalchaos",
      "photoUrl": "https://lh3.googleusercontent.com/a-/AOh14Ghlgn0MI3bNmK1nVrlfaZHBhr8IHW8BwHTyoNn4qg=s64",
      "userId": "01329456307028669382"
     },
     "user_tz": -540
    },
    "id": "V3NPPswk8Kje"
   },
   "outputs": [],
   "source": [
    "class BERTClassifier(nn.Module):\n",
    "    def __init__(self,\n",
    "                 bert,\n",
    "                 hidden_size = 768,\n",
    "                 num_classes=2,\n",
    "                 dr_rate=None,\n",
    "                 params=None):\n",
    "        super(BERTClassifier, self).__init__()\n",
    "        self.bert = bert\n",
    "        self.dr_rate = dr_rate\n",
    "                 \n",
    "        self.classifier = nn.Linear(hidden_size , num_classes)\n",
    "        if dr_rate:\n",
    "            self.dropout = nn.Dropout(p=dr_rate)\n",
    "    \n",
    "    def gen_attention_mask(self, token_ids, valid_length):\n",
    "        attention_mask = torch.zeros_like(token_ids)\n",
    "        for i, v in enumerate(valid_length):\n",
    "            attention_mask[i][:v] = 1\n",
    "        return attention_mask.float()\n",
    "\n",
    "    def forward(self, token_ids, valid_length, segment_ids):\n",
    "        attention_mask = self.gen_attention_mask(token_ids, valid_length)\n",
    "        \n",
    "        _, pooler = self.bert(input_ids = token_ids, token_type_ids = segment_ids.long(), attention_mask = attention_mask.float().to(token_ids.device))\n",
    "        if self.dr_rate:\n",
    "            out = self.dropout(pooler)\n",
    "        return self.classifier(out)"
   ]
  },
  {
   "cell_type": "code",
   "execution_count": 19,
   "metadata": {
    "executionInfo": {
     "elapsed": 15012,
     "status": "ok",
     "timestamp": 1608349260339,
     "user": {
      "displayName": "Metalchaos",
      "photoUrl": "https://lh3.googleusercontent.com/a-/AOh14Ghlgn0MI3bNmK1nVrlfaZHBhr8IHW8BwHTyoNn4qg=s64",
      "userId": "01329456307028669382"
     },
     "user_tz": -540
    },
    "id": "CGQAfRO58MV3"
   },
   "outputs": [],
   "source": [
    "model = BERTClassifier(bertmodel,  dr_rate=0.5).to(device)"
   ]
  },
  {
   "cell_type": "code",
   "execution_count": 20,
   "metadata": {
    "executionInfo": {
     "elapsed": 695,
     "status": "ok",
     "timestamp": 1608349262989,
     "user": {
      "displayName": "Metalchaos",
      "photoUrl": "https://lh3.googleusercontent.com/a-/AOh14Ghlgn0MI3bNmK1nVrlfaZHBhr8IHW8BwHTyoNn4qg=s64",
      "userId": "01329456307028669382"
     },
     "user_tz": -540
    },
    "id": "kOG0M0x_8O3A"
   },
   "outputs": [],
   "source": [
    "no_decay = ['bias', 'LayerNorm.weight']\n",
    "optimizer_grouped_parameters = [\n",
    "    {'params': [p for n, p in model.named_parameters() if not any(nd in n for nd in no_decay)], 'weight_decay': 0.01},\n",
    "    {'params': [p for n, p in model.named_parameters() if any(nd in n for nd in no_decay)], 'weight_decay': 0.0}\n",
    "]"
   ]
  },
  {
   "cell_type": "code",
   "execution_count": 21,
   "metadata": {
    "executionInfo": {
     "elapsed": 680,
     "status": "ok",
     "timestamp": 1608349274037,
     "user": {
      "displayName": "Metalchaos",
      "photoUrl": "https://lh3.googleusercontent.com/a-/AOh14Ghlgn0MI3bNmK1nVrlfaZHBhr8IHW8BwHTyoNn4qg=s64",
      "userId": "01329456307028669382"
     },
     "user_tz": -540
    },
    "id": "29RTRWtI8S-3"
   },
   "outputs": [],
   "source": [
    "#옵티마이저 및 손실함수 생성\n",
    "optimizer = AdamW(optimizer_grouped_parameters, lr=learning_rate)\n",
    "loss_fn = nn.CrossEntropyLoss()"
   ]
  },
  {
   "cell_type": "code",
   "execution_count": 22,
   "metadata": {
    "executionInfo": {
     "elapsed": 418,
     "status": "ok",
     "timestamp": 1608349274816,
     "user": {
      "displayName": "Metalchaos",
      "photoUrl": "https://lh3.googleusercontent.com/a-/AOh14Ghlgn0MI3bNmK1nVrlfaZHBhr8IHW8BwHTyoNn4qg=s64",
      "userId": "01329456307028669382"
     },
     "user_tz": -540
    },
    "id": "FqfSy-ig8Viy"
   },
   "outputs": [],
   "source": [
    "t_total = len(train_dataloader) * num_epochs\n",
    "warmup_step = int(t_total * warmup_ratio)"
   ]
  },
  {
   "cell_type": "code",
   "execution_count": 23,
   "metadata": {
    "executionInfo": {
     "elapsed": 551,
     "status": "ok",
     "timestamp": 1608349275821,
     "user": {
      "displayName": "Metalchaos",
      "photoUrl": "https://lh3.googleusercontent.com/a-/AOh14Ghlgn0MI3bNmK1nVrlfaZHBhr8IHW8BwHTyoNn4qg=s64",
      "userId": "01329456307028669382"
     },
     "user_tz": -540
    },
    "id": "fs5LsqGK8XjY"
   },
   "outputs": [],
   "source": [
    "scheduler = get_cosine_schedule_with_warmup(optimizer, num_warmup_steps=warmup_step, num_training_steps=t_total)"
   ]
  },
  {
   "cell_type": "code",
   "execution_count": 24,
   "metadata": {
    "executionInfo": {
     "elapsed": 666,
     "status": "ok",
     "timestamp": 1608349276979,
     "user": {
      "displayName": "Metalchaos",
      "photoUrl": "https://lh3.googleusercontent.com/a-/AOh14Ghlgn0MI3bNmK1nVrlfaZHBhr8IHW8BwHTyoNn4qg=s64",
      "userId": "01329456307028669382"
     },
     "user_tz": -540
    },
    "id": "Yor0CQeF8Ylg"
   },
   "outputs": [],
   "source": [
    "def calc_accuracy(X,Y):\n",
    "    max_vals, max_indices = torch.max(X, 1)\n",
    "    train_acc = (max_indices == Y).sum().data.cpu().numpy()/max_indices.size()[0]\n",
    "    return train_acc"
   ]
  },
  {
   "cell_type": "code",
   "execution_count": 26,
   "metadata": {
    "colab": {
     "base_uri": "https://localhost:8080/",
     "height": 1000,
     "referenced_widgets": [
      "c98a2981eac541e4835881a08f7c7850",
      "a8c53530a4514673be58090234e7748f",
      "11deed0df886450c907a6d223cd9553e",
      "8e0ccd0b2a1d4c5eb52cc29f95754ac0",
      "dfead09f90084ec0be3359901ed5c11f",
      "2b0eec993daa4a4bb4ce34672c4304b7",
      "dea38f653c8d4fcbbf1ed1556bf27975",
      "e3efd41b642847298a7f7e679b15f9ac",
      "5cc951888bfc45b485aeefa92c92e3e1",
      "3296e44da614494db93501ef7b3a244a",
      "9dc02b0b70264d6bb918d16235f4de86",
      "faea4ceb39e4448b934627db235c656c",
      "7ef964977e304bf2b0c7948e694c75aa",
      "8ac81cc8813143dd88c79feeb0e37e39",
      "eec7d254dfc14c0496af1abbb913e0d1",
      "25fb1fea023745e3a0cfd41e71a5da39",
      "af8eb84cd6a047ffb5908bd1ed2689ed",
      "bb21803b9cb5461aa6a49159c5cc3fb6",
      "5116a4591366412ead734b9104a63307",
      "a76bd2bb0d564c44be43f2d459f4a6d7",
      "9061cc2356ac42809e5e570a9b0a0a46",
      "2460752b09654a88826500aaee10d106",
      "a1dd4e5b17f5469291c7ef92036281ac",
      "11984f38592442e0bbb2e7dea1ea8824",
      "d4029dac7ba4467ca404e75d01a0f554",
      "5cfdd460e9cc45b6ae733f13d435cd5a",
      "bc3d2367ff39459494110a30ed6de93a",
      "43a1bf9349e644318db2baec08de544f",
      "3a2b1e5909754794b92c5a8721078bb4",
      "03f441451d834579a88dd5037f7d26fa",
      "30bd3ff940ce4fdf86ac1fee3c1f28c9",
      "31b029d95a284c4585d29b6694afa866",
      "ecbda474938d49c6983a25210f53a9c6",
      "37c73c62f26744a69671d0f3e11c2424",
      "f7da054b351a477096bf85a3ef28092a",
      "45d7b38322314fca90e9ee9fd47c6b65",
      "3e720b1bba264ea88c3f4d8198f4e110",
      "2e66893ba30f440187da68d9648f2d3b",
      "df16d6f14a5f418eac2a574e12d74b93",
      "54e16327d82b4c75a6aa4fca2233bd57",
      "7242d2dd2f734d90aa84a46ef071c00c",
      "bfedc5b60fe04bd8bc46be6c2767611d",
      "91e02e12cd3d4483bbd5c04135a317e2",
      "4d7b882a998947bdb522574a5a8c6772",
      "fd1fa231c54a48fdbc8c6b49a76638f6",
      "325c4395bc914bb4aab2d3263a2d5159",
      "1318350d57b2427e9dac62b2e12daf03",
      "993616c281724c8ca60629099e402f93",
      "b3a7bb94a93d4c2e815af57d5825439c",
      "ca7c3da9848642e399e0109d494a02a3",
      "1002f3b182ea45e9a7b37b90722f7769",
      "01b82b89b9674b7084d0d7951e8654cb",
      "be2dbefa81a4446e920d6349ce5a25fa",
      "da2db46754d04c63a439e42017794977",
      "4417ee98d09b4abdbea261e83c3bd95a",
      "786ae9a695214af481f61e49cb762a67",
      "8c99e2b767224ffb829e3c950eef341b",
      "c8b4a8310a8245869e8f81c5f2080df6",
      "52238d9cda454e98a83b1678c5ac9f9d",
      "fd697e1dd07b4301abd4b39d0fd2ee03",
      "418b19bc0e7a4e59800de4e861e96591",
      "c5d041b787ec405aba9812a47414a126",
      "a187b61e99c74d69a863ac0865b639c8",
      "74a0e577bede46f7b195cb5eb5af7138",
      "ac905a56ef4c4e91af54a05b051e4cbf",
      "5ac4ddaa84f1451c84cfef215867336a",
      "f6c808fabe5747f69aabdc057e307379",
      "9c11e40551c24fc0b84055059a7139ae",
      "f3fb4720437a4a2183b19d2defd78d83",
      "79fc02e8e4b448a8b7aa34da40352d3d",
      "74d74da072a44a7db20085c80082c8fb",
      "7df71741772c4f99a0323e7a93a391ff",
      "d197517168c74c95b39f03de4c430dbc",
      "20d48a37ecbc467abe074d86ab6a4b60",
      "630b235f88584e8998d32706ed34f8de",
      "cf196bb356d14f839d1072a9e39ceacb",
      "6f6265a0798e4ae3839a19f0e64044de",
      "893e92d3a28c4455bc64290f780ff9cc",
      "3a221026bccd49a3ac2598009dac1717",
      "22739792021042a9ad5ffcd7ea22fee6",
      "cc70cc053ad74f98ac1b3e54506e6fc1",
      "9e43c5fa01fc4f0b88232bb0bacf325d",
      "c41b11a61f00412285f81f02a08bcd1a",
      "544d3890118242459cdde3c6ab7165c1",
      "352240d649644a37a5cfa7c46c9247c1",
      "d624cd583dcc43c8b664a5a0a8ccfe89",
      "647256962afa4989bedb290545411f24",
      "eb9264d5f02d4cf8b704c372d5043e23",
      "1a38dcf5c8ec40c9835770fa58e6b570",
      "fa80c7f551f24481b2952e47143a893c",
      "f0431c6690c64d83be73b376d6e34232",
      "3acc5bd111664980a3e470228bfce6bf",
      "a0774fb2a9f644c881bd33b9e0a6293e",
      "cda846bb16a04cbeb60e7b7d642fe132",
      "058d5a1cd5d44ac9827c58a7235d0666",
      "40f76c4ac39849288528eaa967824a88",
      "a02f859d12ba4d3d98e79f7364b73347",
      "acb312f8e05744efab35fdd24c9c4a49",
      "8d04bc8b7d01474d986060876ebdd286",
      "387c9046f69f47d3b62c55b4aa3a2b8a",
      "bf9834bc73f64df39202d6aca6c189a7",
      "e5e7af591999473c91e23bf2be486c1c",
      "6e8e76bb558449cba022eee438de954c",
      "576d8ee10225443fbb8e9b117b8363ce",
      "13f256f3b6654b6281b7669bfe9031c7",
      "e5556553830a4b30badd751cb548feaa",
      "cb467482b582470899bfca4fa318162f",
      "ee27dd4c7fea4595a95c97da5bff5deb",
      "fd97cf4c5bd041f392bb96486e73870b",
      "6a97d20e69b94538a502c1149d48e24d"
     ]
    },
    "executionInfo": {
     "elapsed": 11792278,
     "status": "ok",
     "timestamp": 1608361134369,
     "user": {
      "displayName": "Metalchaos",
      "photoUrl": "https://lh3.googleusercontent.com/a-/AOh14Ghlgn0MI3bNmK1nVrlfaZHBhr8IHW8BwHTyoNn4qg=s64",
      "userId": "01329456307028669382"
     },
     "user_tz": -540
    },
    "id": "vzPOzs5t8Z3w",
    "outputId": "f4d4c3a2-52e0-469f-86a6-31ba23f58fdf"
   },
   "outputs": [
    {
     "name": "stderr",
     "output_type": "stream",
     "text": [
      "/usr/local/lib/python3.6/dist-packages/ipykernel_launcher.py:5: TqdmDeprecationWarning: This function will be removed in tqdm==5.0.0\n",
      "Please use `tqdm.notebook.tqdm` instead of `tqdm.tqdm_notebook`\n",
      "  \"\"\"\n"
     ]
    },
    {
     "data": {
      "application/vnd.jupyter.widget-view+json": {
       "model_id": "c98a2981eac541e4835881a08f7c7850",
       "version_major": 2,
       "version_minor": 0
      },
      "text/plain": [
       "HBox(children=(HTML(value=''), FloatProgress(value=0.0, max=1670.0), HTML(value='')))"
      ]
     },
     "metadata": {
      "tags": []
     },
     "output_type": "display_data"
    },
    {
     "name": "stdout",
     "output_type": "stream",
     "text": [
      "epoch 1 batch id 1 loss 0.9476277232170105 train acc 0.296875\n",
      "epoch 1 batch id 201 loss 0.12110130488872528 train acc 0.8346548507462687\n",
      "epoch 1 batch id 401 loss 0.1252095252275467 train acc 0.9008338528678305\n",
      "epoch 1 batch id 601 loss 0.046764712780714035 train acc 0.9251507903494176\n",
      "epoch 1 batch id 801 loss 0.07999251037836075 train acc 0.9374024656679151\n",
      "epoch 1 batch id 1001 loss 0.11463430523872375 train acc 0.9460383366633367\n",
      "epoch 1 batch id 1201 loss 0.06347007304430008 train acc 0.9514597210657785\n",
      "epoch 1 batch id 1401 loss 0.003913508728146553 train acc 0.9553778551034975\n",
      "epoch 1 batch id 1601 loss 0.0036750147119164467 train acc 0.9593125390381012\n",
      "\n",
      "epoch 1 train acc 0.9603650338212464\n"
     ]
    },
    {
     "name": "stderr",
     "output_type": "stream",
     "text": [
      "/usr/local/lib/python3.6/dist-packages/ipykernel_launcher.py:22: TqdmDeprecationWarning: This function will be removed in tqdm==5.0.0\n",
      "Please use `tqdm.notebook.tqdm` instead of `tqdm.tqdm_notebook`\n"
     ]
    },
    {
     "data": {
      "application/vnd.jupyter.widget-view+json": {
       "model_id": "faea4ceb39e4448b934627db235c656c",
       "version_major": 2,
       "version_minor": 0
      },
      "text/plain": [
       "HBox(children=(HTML(value=''), FloatProgress(value=0.0, max=186.0), HTML(value='')))"
      ]
     },
     "metadata": {
      "tags": []
     },
     "output_type": "display_data"
    },
    {
     "name": "stdout",
     "output_type": "stream",
     "text": [
      "\n",
      "epoch 1 val acc 0.9844734062980031\n"
     ]
    },
    {
     "data": {
      "application/vnd.jupyter.widget-view+json": {
       "model_id": "a1dd4e5b17f5469291c7ef92036281ac",
       "version_major": 2,
       "version_minor": 0
      },
      "text/plain": [
       "HBox(children=(HTML(value=''), FloatProgress(value=0.0, max=1670.0), HTML(value='')))"
      ]
     },
     "metadata": {
      "tags": []
     },
     "output_type": "display_data"
    },
    {
     "name": "stdout",
     "output_type": "stream",
     "text": [
      "epoch 2 batch id 1 loss 0.007401120848953724 train acc 1.0\n",
      "epoch 2 batch id 201 loss 0.02528110146522522 train acc 0.9862406716417911\n",
      "epoch 2 batch id 401 loss 0.12702900171279907 train acc 0.9868687655860349\n",
      "epoch 2 batch id 601 loss 0.005864911712706089 train acc 0.9873648086522463\n",
      "epoch 2 batch id 801 loss 0.00527837174013257 train acc 0.9878082084893882\n",
      "epoch 2 batch id 1001 loss 0.006690469104796648 train acc 0.9884646603396603\n",
      "epoch 2 batch id 1201 loss 0.0008331240969710052 train acc 0.9893968567860116\n",
      "epoch 2 batch id 1401 loss 0.0008620749576948583 train acc 0.9898844575303355\n",
      "epoch 2 batch id 1601 loss 0.0462048165500164 train acc 0.9904551842598376\n",
      "\n",
      "epoch 2 train acc 0.990568862275449\n"
     ]
    },
    {
     "data": {
      "application/vnd.jupyter.widget-view+json": {
       "model_id": "37c73c62f26744a69671d0f3e11c2424",
       "version_major": 2,
       "version_minor": 0
      },
      "text/plain": [
       "HBox(children=(HTML(value=''), FloatProgress(value=0.0, max=186.0), HTML(value='')))"
      ]
     },
     "metadata": {
      "tags": []
     },
     "output_type": "display_data"
    },
    {
     "name": "stdout",
     "output_type": "stream",
     "text": [
      "\n",
      "epoch 2 val acc 0.9885896697388632\n"
     ]
    },
    {
     "data": {
      "application/vnd.jupyter.widget-view+json": {
       "model_id": "fd1fa231c54a48fdbc8c6b49a76638f6",
       "version_major": 2,
       "version_minor": 0
      },
      "text/plain": [
       "HBox(children=(HTML(value=''), FloatProgress(value=0.0, max=1670.0), HTML(value='')))"
      ]
     },
     "metadata": {
      "tags": []
     },
     "output_type": "display_data"
    },
    {
     "name": "stdout",
     "output_type": "stream",
     "text": [
      "epoch 3 batch id 1 loss 0.003526668529957533 train acc 1.0\n",
      "epoch 3 batch id 201 loss 0.004237751942127943 train acc 0.9944029850746269\n",
      "epoch 3 batch id 401 loss 0.10335890203714371 train acc 0.9948176433915212\n",
      "epoch 3 batch id 601 loss 0.004018524661660194 train acc 0.9950863144758736\n",
      "epoch 3 batch id 801 loss 0.0019023041240870953 train acc 0.9950452559300874\n",
      "epoch 3 batch id 1001 loss 0.0004312962992116809 train acc 0.995083041958042\n",
      "epoch 3 batch id 1201 loss 0.0009117959998548031 train acc 0.9954074729392173\n",
      "epoch 3 batch id 1401 loss 0.0007475349702872336 train acc 0.9954162205567452\n",
      "epoch 3 batch id 1601 loss 0.0002250822726637125 train acc 0.9955789350405996\n",
      "\n",
      "epoch 3 train acc 0.9956586826347306\n"
     ]
    },
    {
     "data": {
      "application/vnd.jupyter.widget-view+json": {
       "model_id": "786ae9a695214af481f61e49cb762a67",
       "version_major": 2,
       "version_minor": 0
      },
      "text/plain": [
       "HBox(children=(HTML(value=''), FloatProgress(value=0.0, max=186.0), HTML(value='')))"
      ]
     },
     "metadata": {
      "tags": []
     },
     "output_type": "display_data"
    },
    {
     "name": "stdout",
     "output_type": "stream",
     "text": [
      "\n",
      "epoch 3 val acc 0.991263440860215\n"
     ]
    },
    {
     "data": {
      "application/vnd.jupyter.widget-view+json": {
       "model_id": "f6c808fabe5747f69aabdc057e307379",
       "version_major": 2,
       "version_minor": 0
      },
      "text/plain": [
       "HBox(children=(HTML(value=''), FloatProgress(value=0.0, max=1670.0), HTML(value='')))"
      ]
     },
     "metadata": {
      "tags": []
     },
     "output_type": "display_data"
    },
    {
     "name": "stdout",
     "output_type": "stream",
     "text": [
      "epoch 4 batch id 1 loss 0.0018559291493147612 train acc 1.0\n",
      "epoch 4 batch id 201 loss 0.0015884003369137645 train acc 0.997978855721393\n",
      "epoch 4 batch id 401 loss 0.06874649971723557 train acc 0.9975451995012469\n",
      "epoch 4 batch id 601 loss 0.003892687615007162 train acc 0.9974781613976705\n",
      "epoch 4 batch id 801 loss 0.04626983404159546 train acc 0.9972885455680399\n",
      "epoch 4 batch id 1001 loss 0.00018035073298960924 train acc 0.9975493256743256\n",
      "epoch 4 batch id 1201 loss 0.0001671194186201319 train acc 0.9977883014154871\n",
      "epoch 4 batch id 1401 loss 0.00019342500308994204 train acc 0.9978586723768736\n",
      "epoch 4 batch id 1601 loss 0.00014779255434405059 train acc 0.9979504996876952\n",
      "\n",
      "epoch 4 train acc 0.9980164670658682\n"
     ]
    },
    {
     "data": {
      "application/vnd.jupyter.widget-view+json": {
       "model_id": "893e92d3a28c4455bc64290f780ff9cc",
       "version_major": 2,
       "version_minor": 0
      },
      "text/plain": [
       "HBox(children=(HTML(value=''), FloatProgress(value=0.0, max=186.0), HTML(value='')))"
      ]
     },
     "metadata": {
      "tags": []
     },
     "output_type": "display_data"
    },
    {
     "name": "stdout",
     "output_type": "stream",
     "text": [
      "\n",
      "epoch 4 val acc 0.9919354838709677\n"
     ]
    },
    {
     "data": {
      "application/vnd.jupyter.widget-view+json": {
       "model_id": "1a38dcf5c8ec40c9835770fa58e6b570",
       "version_major": 2,
       "version_minor": 0
      },
      "text/plain": [
       "HBox(children=(HTML(value=''), FloatProgress(value=0.0, max=1670.0), HTML(value='')))"
      ]
     },
     "metadata": {
      "tags": []
     },
     "output_type": "display_data"
    },
    {
     "name": "stdout",
     "output_type": "stream",
     "text": [
      "epoch 5 batch id 1 loss 0.0009059857111424208 train acc 1.0\n",
      "epoch 5 batch id 201 loss 0.0027909823693335056 train acc 0.9990671641791045\n",
      "epoch 5 batch id 401 loss 0.0030444017611443996 train acc 0.9989869077306733\n",
      "epoch 5 batch id 601 loss 0.00019194385095033795 train acc 0.9989600665557404\n",
      "epoch 5 batch id 801 loss 0.0001697242696536705 train acc 0.9989271223470662\n",
      "epoch 5 batch id 1001 loss 0.00013839890016242862 train acc 0.999000999000999\n",
      "epoch 5 batch id 1201 loss 0.00013379621668718755 train acc 0.9990502706078268\n",
      "epoch 5 batch id 1401 loss 0.00013402276090346277 train acc 0.999040863668808\n",
      "epoch 5 batch id 1601 loss 0.0001387248485116288 train acc 0.9990338069956277\n",
      "\n",
      "epoch 5 train acc 0.9990737275449102\n"
     ]
    },
    {
     "data": {
      "application/vnd.jupyter.widget-view+json": {
       "model_id": "387c9046f69f47d3b62c55b4aa3a2b8a",
       "version_major": 2,
       "version_minor": 0
      },
      "text/plain": [
       "HBox(children=(HTML(value=''), FloatProgress(value=0.0, max=186.0), HTML(value='')))"
      ]
     },
     "metadata": {
      "tags": []
     },
     "output_type": "display_data"
    },
    {
     "name": "stdout",
     "output_type": "stream",
     "text": [
      "\n",
      "epoch 5 val acc 0.9919354838709677\n"
     ]
    }
   ],
   "source": [
    "for epoch in range(num_epochs):\n",
    "  train_acc = 0.0\n",
    "  val_acc = 0.0\n",
    "  model.train()\n",
    "  for batch_id, (token_ids, valid_length, segment_ids, label) in enumerate(tqdm_notebook(train_dataloader)):\n",
    "    optimizer.zero_grad()\n",
    "    token_ids = token_ids.long().to(device)\n",
    "    segment_ids = segment_ids.long().to(device)\n",
    "    valid_length = valid_length\n",
    "    label = label.long().to(device)\n",
    "    out = model(token_ids, valid_length, segment_ids)\n",
    "    loss = loss_fn(out, label)\n",
    "    loss.backward()\n",
    "    torch.nn.utils.clip_grad_norm_(model.parameters(), max_grad_norm)\n",
    "    optimizer.step()\n",
    "    scheduler.step()\n",
    "    train_acc += calc_accuracy(out, label)\n",
    "    if batch_id % log_interval == 0:\n",
    "      print(\"epoch {} batch id {} loss {} train acc {}\".format(epoch+1, batch_id+1, loss.data.cpu().numpy(), train_acc / (batch_id+1)))\n",
    "  print(\"epoch {} train acc {}\".format(epoch+1, train_acc / (batch_id+1)))\n",
    "  model.eval()\n",
    "  for batch_id, (token_ids, valid_length, segment_ids, label) in enumerate(tqdm_notebook(val_dataloader)):\n",
    "    token_ids = token_ids.long().to(device)\n",
    "    segment_ids = segment_ids.long().to(device)\n",
    "    valid_length = valid_length\n",
    "    label = label.long().to(device)\n",
    "    out = model(token_ids, valid_length, segment_ids)\n",
    "    val_acc += calc_accuracy(out, label)\n",
    "  print(\"epoch {} val acc {}\".format(epoch+1, val_acc / (batch_id+1)))\n",
    "    #2 epoch부터 정확도가 0.99에 수렴해감"
   ]
  },
  {
   "cell_type": "code",
   "execution_count": 27,
   "metadata": {
    "executionInfo": {
     "elapsed": 5872,
     "status": "ok",
     "timestamp": 1608361304759,
     "user": {
      "displayName": "Metalchaos",
      "photoUrl": "https://lh3.googleusercontent.com/a-/AOh14Ghlgn0MI3bNmK1nVrlfaZHBhr8IHW8BwHTyoNn4qg=s64",
      "userId": "01329456307028669382"
     },
     "user_tz": -540
    },
    "id": "yFbiHVHev8C1"
   },
   "outputs": [],
   "source": [
    "#모델 저장\n",
    "#https://honeyjamtech.tistory.com/39\n",
    "\n",
    "def save_checkpoint(epoch, model, optimizer, filename):\n",
    "  state = {\n",
    "      'Epoch' : epoch,\n",
    "      'State_dict' : model.state_dict(),\n",
    "      'optimizer' : optimizer.state_dict()\n",
    "  }\n",
    "  torch.save(state, filename)\n",
    "\n",
    "save_checkpoint(num_epochs, model, optimizer, '/content/drive/MyDrive/dacon/bert_1219.pt')"
   ]
  },
  {
   "cell_type": "code",
   "execution_count": 28,
   "metadata": {
    "executionInfo": {
     "elapsed": 18314,
     "status": "ok",
     "timestamp": 1608361328777,
     "user": {
      "displayName": "Metalchaos",
      "photoUrl": "https://lh3.googleusercontent.com/a-/AOh14Ghlgn0MI3bNmK1nVrlfaZHBhr8IHW8BwHTyoNn4qg=s64",
      "userId": "01329456307028669382"
     },
     "user_tz": -540
    },
    "id": "elDTlY3gzegQ"
   },
   "outputs": [],
   "source": [
    "save_checkpoint(num_epochs, model, optimizer, '/content/drive/MyDrive/dacon/bert_1219.pth')"
   ]
  },
  {
   "cell_type": "code",
   "execution_count": 30,
   "metadata": {
    "executionInfo": {
     "elapsed": 16248,
     "status": "ok",
     "timestamp": 1608361685506,
     "user": {
      "displayName": "Metalchaos",
      "photoUrl": "https://lh3.googleusercontent.com/a-/AOh14Ghlgn0MI3bNmK1nVrlfaZHBhr8IHW8BwHTyoNn4qg=s64",
      "userId": "01329456307028669382"
     },
     "user_tz": -540
    },
    "id": "ieyzJiAoxweI"
   },
   "outputs": [],
   "source": [
    "#테스트 데이터 전처리 및 토큰화\n",
    "import pandas as pd\n",
    "import re\n",
    "\n",
    "stopwords_kr = pd.read_csv('/content/drive/MyDrive/dacon/stopwords_kr.txt',sep = '\\n', header = None)\n",
    "stop_kr_list = list(stopwords_kr.iloc[:,0])\n",
    "\n",
    "url_with_https = re.compile(r'(https?:\\/\\/){1,}([\\w.\\/%-]+){1,}')\n",
    "rm_email = re.compile(r'([a-zA-Z0-9\\.\\_]+)@([\\w\\.]+){1,}')\n",
    "useless_words = re.compile(r'[-=+,#/\\?:^$.@*\\\"※~&%ㆍ!』\\\\‘|\\(\\)\\[\\]\\<\\>`\\'…》]+')\n",
    "rm_float_num = re.compile(r'(\\d+\\.?\\,?\\d+)+')\n",
    "rm_num = re.compile(r'\\d')\n",
    "\n",
    "#지난 여름 자율프로젝트에서 사용했던 텍스트 전처리 방식 가져옴\n",
    "def clean_kor_text(kor_text):\n",
    "    text = url_with_https.sub('',kor_text)\n",
    "    text = rm_email.sub('', text)\n",
    "    text = useless_words.sub('',text)\n",
    "    text = rm_float_num.sub('',text)\n",
    "    text = rm_num.sub('', text)\n",
    "    text = ' '.join(word for word in text.split() if word not in stop_kr_list)\n",
    "    return text\n",
    "\n",
    "test_df = pd.read_csv('/content/drive/MyDrive/dacon/news_test.csv')\n",
    "\n",
    "test_df['clean_cont'] = test_df['content'].apply(clean_kor_text)"
   ]
  },
  {
   "cell_type": "code",
   "execution_count": 41,
   "metadata": {
    "executionInfo": {
     "elapsed": 948,
     "status": "ok",
     "timestamp": 1608362299469,
     "user": {
      "displayName": "Metalchaos",
      "photoUrl": "https://lh3.googleusercontent.com/a-/AOh14Ghlgn0MI3bNmK1nVrlfaZHBhr8IHW8BwHTyoNn4qg=s64",
      "userId": "01329456307028669382"
     },
     "user_tz": -540
    },
    "id": "thV62w4t1icf"
   },
   "outputs": [],
   "source": [
    "test_dataframe = test_df[['clean_cont', 'info']].to_csv('/content/drive/MyDrive/dacon/for_glnlp_no_cls_test.txt',index = False)"
   ]
  },
  {
   "cell_type": "code",
   "execution_count": 42,
   "metadata": {
    "executionInfo": {
     "elapsed": 1008,
     "status": "ok",
     "timestamp": 1608362360204,
     "user": {
      "displayName": "Metalchaos",
      "photoUrl": "https://lh3.googleusercontent.com/a-/AOh14Ghlgn0MI3bNmK1nVrlfaZHBhr8IHW8BwHTyoNn4qg=s64",
      "userId": "01329456307028669382"
     },
     "user_tz": -540
    },
    "id": "sVZwK-9f2Vbk"
   },
   "outputs": [],
   "source": [
    "test_dataset = nlp.data.TSVDataset('/content/drive/MyDrive/dacon/for_glnlp_no_cls_test.txt', num_discard_samples= 1,\n",
    "                                   field_separator = lambda x: x.split(','))"
   ]
  },
  {
   "cell_type": "code",
   "execution_count": 43,
   "metadata": {
    "colab": {
     "base_uri": "https://localhost:8080/"
    },
    "executionInfo": {
     "elapsed": 442,
     "status": "ok",
     "timestamp": 1608362361044,
     "user": {
      "displayName": "Metalchaos",
      "photoUrl": "https://lh3.googleusercontent.com/a-/AOh14Ghlgn0MI3bNmK1nVrlfaZHBhr8IHW8BwHTyoNn4qg=s64",
      "userId": "01329456307028669382"
     },
     "user_tz": -540
    },
    "id": "g4diuTVl2h13",
    "outputId": "a1c07f54-e204-4c30-9d7b-98e35b96f9e2"
   },
   "outputs": [
    {
     "data": {
      "text/plain": [
       "['마이크로 LED TV 장비 양산 돌입 전방업체 투자 확대로 본업도 호조연일 신고가', '0']"
      ]
     },
     "execution_count": 43,
     "metadata": {
      "tags": []
     },
     "output_type": "execute_result"
    }
   ],
   "source": [
    "test_dataset[0]"
   ]
  },
  {
   "cell_type": "code",
   "execution_count": 44,
   "metadata": {
    "executionInfo": {
     "elapsed": 14804,
     "status": "ok",
     "timestamp": 1608362394991,
     "user": {
      "displayName": "Metalchaos",
      "photoUrl": "https://lh3.googleusercontent.com/a-/AOh14Ghlgn0MI3bNmK1nVrlfaZHBhr8IHW8BwHTyoNn4qg=s64",
      "userId": "01329456307028669382"
     },
     "user_tz": -540
    },
    "id": "jDsWWp0E1Hge"
   },
   "outputs": [],
   "source": [
    "data_test = BERTDataset(test_dataset, sent_idx = 0, label_idx= 1,bert_tokenizer= tok, max_len = max_len, pad = True, pair = False)"
   ]
  },
  {
   "cell_type": "code",
   "execution_count": 45,
   "metadata": {
    "colab": {
     "base_uri": "https://localhost:8080/"
    },
    "executionInfo": {
     "elapsed": 727,
     "status": "ok",
     "timestamp": 1608362400187,
     "user": {
      "displayName": "Metalchaos",
      "photoUrl": "https://lh3.googleusercontent.com/a-/AOh14Ghlgn0MI3bNmK1nVrlfaZHBhr8IHW8BwHTyoNn4qg=s64",
      "userId": "01329456307028669382"
     },
     "user_tz": -540
    },
    "id": "ZVea5oXl1Ikn",
    "outputId": "5e7c3bc7-eab7-476c-9e18-ad056dda6e54"
   },
   "outputs": [
    {
     "data": {
      "text/plain": [
       "(array([   2, 1907, 7096, 7565, 6079,  517,  312,  694, 3961, 3214, 6516,\n",
       "        1738, 4012, 6305, 6879, 4768, 5125, 6079, 2408, 6873, 5859, 5093,\n",
       "        6928, 7126, 3012, 5330,    3,    1,    1,    1,    1,    1,    1,\n",
       "           1,    1,    1,    1,    1,    1,    1,    1,    1,    1,    1,\n",
       "           1,    1,    1,    1,    1,    1,    1,    1,    1,    1,    1,\n",
       "           1,    1,    1,    1,    1,    1,    1,    1,    1,    1,    1,\n",
       "           1,    1,    1,    1,    1,    1,    1,    1,    1,    1,    1,\n",
       "           1,    1,    1,    1,    1,    1,    1,    1,    1,    1,    1,\n",
       "           1,    1,    1,    1,    1,    1,    1,    1,    1,    1,    1,\n",
       "           1,    1,    1,    1,    1,    1,    1,    1,    1,    1,    1,\n",
       "           1,    1,    1,    1,    1,    1,    1,    1,    1,    1,    1,\n",
       "           1,    1,    1,    1,    1,    1,    1], dtype=int32),\n",
       " array(27, dtype=int32),\n",
       " array([0, 0, 0, 0, 0, 0, 0, 0, 0, 0, 0, 0, 0, 0, 0, 0, 0, 0, 0, 0, 0, 0,\n",
       "        0, 0, 0, 0, 0, 0, 0, 0, 0, 0, 0, 0, 0, 0, 0, 0, 0, 0, 0, 0, 0, 0,\n",
       "        0, 0, 0, 0, 0, 0, 0, 0, 0, 0, 0, 0, 0, 0, 0, 0, 0, 0, 0, 0, 0, 0,\n",
       "        0, 0, 0, 0, 0, 0, 0, 0, 0, 0, 0, 0, 0, 0, 0, 0, 0, 0, 0, 0, 0, 0,\n",
       "        0, 0, 0, 0, 0, 0, 0, 0, 0, 0, 0, 0, 0, 0, 0, 0, 0, 0, 0, 0, 0, 0,\n",
       "        0, 0, 0, 0, 0, 0, 0, 0, 0, 0, 0, 0, 0, 0, 0, 0, 0, 0], dtype=int32),\n",
       " 0)"
      ]
     },
     "execution_count": 45,
     "metadata": {
      "tags": []
     },
     "output_type": "execute_result"
    }
   ],
   "source": [
    "data_test[0]"
   ]
  },
  {
   "cell_type": "code",
   "execution_count": 47,
   "metadata": {
    "executionInfo": {
     "elapsed": 710,
     "status": "ok",
     "timestamp": 1608363375501,
     "user": {
      "displayName": "Metalchaos",
      "photoUrl": "https://lh3.googleusercontent.com/a-/AOh14Ghlgn0MI3bNmK1nVrlfaZHBhr8IHW8BwHTyoNn4qg=s64",
      "userId": "01329456307028669382"
     },
     "user_tz": -540
    },
    "id": "FozHDS6X1IcG"
   },
   "outputs": [],
   "source": [
    "test_dataloader = torch.utils.data.DataLoader(data_test, batch_size= batch_size, num_workers = 5, shuffle= False)"
   ]
  },
  {
   "cell_type": "code",
   "execution_count": 49,
   "metadata": {
    "colab": {
     "base_uri": "https://localhost:8080/",
     "height": 141,
     "referenced_widgets": [
      "8fa62bdee6f14e2fa59bc3b4852f94f6",
      "248c347f67e6436fbeec3947cb8cc035",
      "f1da887358ca43219a83979a4de05e49",
      "631b991af5c846e191651e05206c2751",
      "4afe29bf63514970935c4fb894c0474f",
      "a1b7858a93dc4158bc7315246b4ca608",
      "e70cc8fefaf7477aa8fc067df1d033a6",
      "1478b6fd8ef74fa2b023f35b641b3909",
      "08c6530818ca424086c22d2416c3c8ef",
      "03c6180e65c1457e9eff1090956ed5c8",
      "49de1a24c912408a8b3e699050181cc6"
     ]
    },
    "executionInfo": {
     "elapsed": 1072255,
     "status": "ok",
     "timestamp": 1608364753147,
     "user": {
      "displayName": "Metalchaos",
      "photoUrl": "https://lh3.googleusercontent.com/a-/AOh14Ghlgn0MI3bNmK1nVrlfaZHBhr8IHW8BwHTyoNn4qg=s64",
      "userId": "01329456307028669382"
     },
     "user_tz": -540
    },
    "id": "ddo28qrf5ZAv",
    "outputId": "d762b64a-4120-4011-8aaa-93b95cb251ed"
   },
   "outputs": [
    {
     "name": "stderr",
     "output_type": "stream",
     "text": [
      "/usr/local/lib/python3.6/dist-packages/ipykernel_launcher.py:7: TqdmDeprecationWarning: This function will be removed in tqdm==5.0.0\n",
      "Please use `tqdm.notebook.tqdm` instead of `tqdm.tqdm_notebook`\n",
      "  import sys\n"
     ]
    },
    {
     "data": {
      "application/vnd.jupyter.widget-view+json": {
       "model_id": "8fa62bdee6f14e2fa59bc3b4852f94f6",
       "version_major": 2,
       "version_minor": 0
      },
      "text/plain": [
       "HBox(children=(HTML(value=''), FloatProgress(value=0.0, max=2228.0), HTML(value='')))"
      ]
     },
     "metadata": {
      "tags": []
     },
     "output_type": "display_data"
    },
    {
     "name": "stdout",
     "output_type": "stream",
     "text": [
      "\n"
     ]
    }
   ],
   "source": [
    "#테스트 데이터셋 평가\n",
    "\n",
    "pred = []\n",
    "\n",
    "model.eval() #모델을 평가모드로\n",
    "\n",
    "for batch_id, (token_ids, valid_length, segment_ids, label) in enumerate(tqdm_notebook(test_dataloader)):\n",
    "    token_ids = token_ids.long().to(device)\n",
    "    segment_ids = segment_ids.long().to(device)\n",
    "    valid_length = valid_length\n",
    "\n",
    "    with torch.no_grad(): #학습을 하지 않아야 하므로 꼭 명시해야함\n",
    "      out = model(token_ids, valid_length, segment_ids) \n",
    "\n",
    "    logits = out.detach().cpu().numpy() #최종 산출물 \n",
    " \n",
    "    pred.append(logits) #예측 리스트에 저장"
   ]
  },
  {
   "cell_type": "code",
   "execution_count": 54,
   "metadata": {
    "colab": {
     "base_uri": "https://localhost:8080/"
    },
    "executionInfo": {
     "elapsed": 678,
     "status": "ok",
     "timestamp": 1608364871261,
     "user": {
      "displayName": "Metalchaos",
      "photoUrl": "https://lh3.googleusercontent.com/a-/AOh14Ghlgn0MI3bNmK1nVrlfaZHBhr8IHW8BwHTyoNn4qg=s64",
      "userId": "01329456307028669382"
     },
     "user_tz": -540
    },
    "id": "Bim-AAtK3mOc",
    "outputId": "3408346d-d1ff-4bc2-a438-e7f12f5af982"
   },
   "outputs": [
    {
     "name": "stdout",
     "output_type": "stream",
     "text": [
      "2228\n"
     ]
    }
   ],
   "source": [
    "print(len(pred)) #각 배치마다 output을 최고 값 기준으로 하도록"
   ]
  },
  {
   "cell_type": "code",
   "execution_count": 55,
   "metadata": {
    "colab": {
     "base_uri": "https://localhost:8080/"
    },
    "executionInfo": {
     "elapsed": 750,
     "status": "ok",
     "timestamp": 1608364882204,
     "user": {
      "displayName": "Metalchaos",
      "photoUrl": "https://lh3.googleusercontent.com/a-/AOh14Ghlgn0MI3bNmK1nVrlfaZHBhr8IHW8BwHTyoNn4qg=s64",
      "userId": "01329456307028669382"
     },
     "user_tz": -540
    },
    "id": "HdXLRbq8BFml",
    "outputId": "f2881a7c-9211-4b95-960f-902412fb6301"
   },
   "outputs": [
    {
     "name": "stdout",
     "output_type": "stream",
     "text": [
      "64\n"
     ]
    }
   ],
   "source": [
    "print(len(pred[0]))"
   ]
  },
  {
   "cell_type": "code",
   "execution_count": 65,
   "metadata": {
    "colab": {
     "base_uri": "https://localhost:8080/"
    },
    "executionInfo": {
     "elapsed": 695,
     "status": "ok",
     "timestamp": 1608365084988,
     "user": {
      "displayName": "Metalchaos",
      "photoUrl": "https://lh3.googleusercontent.com/a-/AOh14Ghlgn0MI3bNmK1nVrlfaZHBhr8IHW8BwHTyoNn4qg=s64",
      "userId": "01329456307028669382"
     },
     "user_tz": -540
    },
    "id": "EOo8u7t6BjjG",
    "outputId": "c4bd47a4-bde0-43d2-fbad-b25a11e9b5d9"
   },
   "outputs": [
    {
     "data": {
      "text/plain": [
       "torch.Size([2])"
      ]
     },
     "execution_count": 65,
     "metadata": {
      "tags": []
     },
     "output_type": "execute_result"
    }
   ],
   "source": [
    "torch.Tensor(pred[0][0]).shape"
   ]
  },
  {
   "cell_type": "code",
   "execution_count": 59,
   "metadata": {
    "colab": {
     "base_uri": "https://localhost:8080/"
    },
    "executionInfo": {
     "elapsed": 692,
     "status": "ok",
     "timestamp": 1608365010886,
     "user": {
      "displayName": "Metalchaos",
      "photoUrl": "https://lh3.googleusercontent.com/a-/AOh14Ghlgn0MI3bNmK1nVrlfaZHBhr8IHW8BwHTyoNn4qg=s64",
      "userId": "01329456307028669382"
     },
     "user_tz": -540
    },
    "id": "289KqWs9BlFs",
    "outputId": "0d2c3463-05ef-49d3-c080-5c7f4d84a582"
   },
   "outputs": [
    {
     "data": {
      "text/plain": [
       "array([-1.0992062,  0.8840941], dtype=float32)"
      ]
     },
     "execution_count": 59,
     "metadata": {
      "tags": []
     },
     "output_type": "execute_result"
    }
   ],
   "source": [
    "pred[0][0]"
   ]
  },
  {
   "cell_type": "code",
   "execution_count": 67,
   "metadata": {
    "executionInfo": {
     "elapsed": 723,
     "status": "ok",
     "timestamp": 1608365223170,
     "user": {
      "displayName": "Metalchaos",
      "photoUrl": "https://lh3.googleusercontent.com/a-/AOh14Ghlgn0MI3bNmK1nVrlfaZHBhr8IHW8BwHTyoNn4qg=s64",
      "userId": "01329456307028669382"
     },
     "user_tz": -540
    },
    "id": "1zoiDqNkBV3g"
   },
   "outputs": [],
   "source": [
    "test_val, test_indices = torch.max(torch.Tensor(pred[0]), 1)"
   ]
  },
  {
   "cell_type": "code",
   "execution_count": 68,
   "metadata": {
    "colab": {
     "base_uri": "https://localhost:8080/"
    },
    "executionInfo": {
     "elapsed": 720,
     "status": "ok",
     "timestamp": 1608365228938,
     "user": {
      "displayName": "Metalchaos",
      "photoUrl": "https://lh3.googleusercontent.com/a-/AOh14Ghlgn0MI3bNmK1nVrlfaZHBhr8IHW8BwHTyoNn4qg=s64",
      "userId": "01329456307028669382"
     },
     "user_tz": -540
    },
    "id": "XKQoiPoOCbiy",
    "outputId": "b6d0f318-9d50-46eb-eadb-cb6e19b2ef7f"
   },
   "outputs": [
    {
     "data": {
      "text/plain": [
       "tensor([1, 0, 0, 0, 0, 0, 0, 0, 0, 0, 0, 0, 0, 0, 0, 0, 0, 0, 0, 0, 1, 1, 0, 0,\n",
       "        0, 0, 0, 0, 0, 0, 0, 0, 0, 0, 0, 0, 0, 1, 1, 0, 0, 0, 0, 0, 0, 0, 0, 0,\n",
       "        0, 1, 1, 0, 0, 0, 0, 1, 1, 0, 0, 0, 0, 0, 0, 0])"
      ]
     },
     "execution_count": 68,
     "metadata": {
      "tags": []
     },
     "output_type": "execute_result"
    }
   ],
   "source": [
    "test_indices"
   ]
  },
  {
   "cell_type": "code",
   "execution_count": 74,
   "metadata": {
    "executionInfo": {
     "elapsed": 708,
     "status": "ok",
     "timestamp": 1608365486305,
     "user": {
      "displayName": "Metalchaos",
      "photoUrl": "https://lh3.googleusercontent.com/a-/AOh14Ghlgn0MI3bNmK1nVrlfaZHBhr8IHW8BwHTyoNn4qg=s64",
      "userId": "01329456307028669382"
     },
     "user_tz": -540
    },
    "id": "UAFB6SBqBIbo"
   },
   "outputs": [],
   "source": [
    "#최종으로 최고값으로 예측\n",
    "pred_result = []\n",
    "for i in range(len(pred)):\n",
    "  logits = pred[i]\n",
    "  max_vals, max_indices = torch.max(torch.Tensor(pred[i]), 1)\n",
    "  max_indices = max_indices.detach().cpu().numpy()\n",
    "  pred_result.extend(max_indices)"
   ]
  },
  {
   "cell_type": "code",
   "execution_count": 75,
   "metadata": {
    "colab": {
     "base_uri": "https://localhost:8080/"
    },
    "executionInfo": {
     "elapsed": 656,
     "status": "ok",
     "timestamp": 1608365491664,
     "user": {
      "displayName": "Metalchaos",
      "photoUrl": "https://lh3.googleusercontent.com/a-/AOh14Ghlgn0MI3bNmK1nVrlfaZHBhr8IHW8BwHTyoNn4qg=s64",
      "userId": "01329456307028669382"
     },
     "user_tz": -540
    },
    "id": "sgURDgdCC-d7",
    "outputId": "431be9ec-f81b-4221-9e48-d9266ee2254d"
   },
   "outputs": [
    {
     "data": {
      "text/plain": [
       "142565"
      ]
     },
     "execution_count": 75,
     "metadata": {
      "tags": []
     },
     "output_type": "execute_result"
    }
   ],
   "source": [
    "len(pred_result)"
   ]
  },
  {
   "cell_type": "code",
   "execution_count": 78,
   "metadata": {
    "colab": {
     "base_uri": "https://localhost:8080/"
    },
    "executionInfo": {
     "elapsed": 672,
     "status": "ok",
     "timestamp": 1608365514950,
     "user": {
      "displayName": "Metalchaos",
      "photoUrl": "https://lh3.googleusercontent.com/a-/AOh14Ghlgn0MI3bNmK1nVrlfaZHBhr8IHW8BwHTyoNn4qg=s64",
      "userId": "01329456307028669382"
     },
     "user_tz": -540
    },
    "id": "rQKpyFAEDciW",
    "outputId": "39ff9295-7a28-427a-9743-0fb5282810db"
   },
   "outputs": [
    {
     "data": {
      "text/plain": [
       "numpy.int64"
      ]
     },
     "execution_count": 78,
     "metadata": {
      "tags": []
     },
     "output_type": "execute_result"
    }
   ],
   "source": [
    "type(pred_result[0])"
   ]
  },
  {
   "cell_type": "code",
   "execution_count": 79,
   "metadata": {
    "colab": {
     "base_uri": "https://localhost:8080/",
     "height": 204
    },
    "executionInfo": {
     "elapsed": 1022,
     "status": "ok",
     "timestamp": 1608365576659,
     "user": {
      "displayName": "Metalchaos",
      "photoUrl": "https://lh3.googleusercontent.com/a-/AOh14Ghlgn0MI3bNmK1nVrlfaZHBhr8IHW8BwHTyoNn4qg=s64",
      "userId": "01329456307028669382"
     },
     "user_tz": -540
    },
    "id": "_1w3sWZkDjM-",
    "outputId": "aaed2156-79c2-49a1-bd1a-74091433ff8c"
   },
   "outputs": [
    {
     "data": {
      "text/html": [
       "<div>\n",
       "<style scoped>\n",
       "    .dataframe tbody tr th:only-of-type {\n",
       "        vertical-align: middle;\n",
       "    }\n",
       "\n",
       "    .dataframe tbody tr th {\n",
       "        vertical-align: top;\n",
       "    }\n",
       "\n",
       "    .dataframe thead th {\n",
       "        text-align: right;\n",
       "    }\n",
       "</style>\n",
       "<table border=\"1\" class=\"dataframe\">\n",
       "  <thead>\n",
       "    <tr style=\"text-align: right;\">\n",
       "      <th></th>\n",
       "      <th>id</th>\n",
       "      <th>info</th>\n",
       "    </tr>\n",
       "  </thead>\n",
       "  <tbody>\n",
       "    <tr>\n",
       "      <th>0</th>\n",
       "      <td>NEWS00237_1</td>\n",
       "      <td>0</td>\n",
       "    </tr>\n",
       "    <tr>\n",
       "      <th>1</th>\n",
       "      <td>NEWS00237_2</td>\n",
       "      <td>0</td>\n",
       "    </tr>\n",
       "    <tr>\n",
       "      <th>2</th>\n",
       "      <td>NEWS00237_3</td>\n",
       "      <td>0</td>\n",
       "    </tr>\n",
       "    <tr>\n",
       "      <th>3</th>\n",
       "      <td>NEWS00237_4</td>\n",
       "      <td>0</td>\n",
       "    </tr>\n",
       "    <tr>\n",
       "      <th>4</th>\n",
       "      <td>NEWS00237_5</td>\n",
       "      <td>0</td>\n",
       "    </tr>\n",
       "  </tbody>\n",
       "</table>\n",
       "</div>"
      ],
      "text/plain": [
       "            id  info\n",
       "0  NEWS00237_1     0\n",
       "1  NEWS00237_2     0\n",
       "2  NEWS00237_3     0\n",
       "3  NEWS00237_4     0\n",
       "4  NEWS00237_5     0"
      ]
     },
     "execution_count": 79,
     "metadata": {
      "tags": []
     },
     "output_type": "execute_result"
    }
   ],
   "source": [
    "#최종 submission_df에 합치기\n",
    "\n",
    "test_submission = pd.read_csv('/content/drive/MyDrive/dacon/sample_submission.csv')\n",
    "test_submission.head()"
   ]
  },
  {
   "cell_type": "code",
   "execution_count": 80,
   "metadata": {
    "executionInfo": {
     "elapsed": 674,
     "status": "ok",
     "timestamp": 1608365592195,
     "user": {
      "displayName": "Metalchaos",
      "photoUrl": "https://lh3.googleusercontent.com/a-/AOh14Ghlgn0MI3bNmK1nVrlfaZHBhr8IHW8BwHTyoNn4qg=s64",
      "userId": "01329456307028669382"
     },
     "user_tz": -540
    },
    "id": "LCWrgDoGDxgD"
   },
   "outputs": [],
   "source": [
    "test_submission['info'] = pred_result"
   ]
  },
  {
   "cell_type": "code",
   "execution_count": 84,
   "metadata": {
    "executionInfo": {
     "elapsed": 703,
     "status": "ok",
     "timestamp": 1608365702052,
     "user": {
      "displayName": "Metalchaos",
      "photoUrl": "https://lh3.googleusercontent.com/a-/AOh14Ghlgn0MI3bNmK1nVrlfaZHBhr8IHW8BwHTyoNn4qg=s64",
      "userId": "01329456307028669382"
     },
     "user_tz": -540
    },
    "id": "5av1yVaYD1K9"
   },
   "outputs": [],
   "source": [
    "test_submission.to_csv('/content/drive/MyDrive/dacon/mh_second_submission_bert.csv', index = False)\n",
    "  #최종 제출 결과 0.98의 정확도가 산출됨"
   ]
  }
 ],
 "metadata": {
  "accelerator": "GPU",
  "colab": {
   "authorship_tag": "ABX9TyNWAZf3BEae9gL64YEXwn04",
   "collapsed_sections": [],
   "name": "BERT모델 만들어보기2.ipynb",
   "provenance": []
  },
  "kernelspec": {
   "display_name": "Python 3",
   "language": "python",
   "name": "python3"
  },
  "language_info": {
   "codemirror_mode": {
    "name": "ipython",
    "version": 3
   },
   "file_extension": ".py",
   "mimetype": "text/x-python",
   "name": "python",
   "nbconvert_exporter": "python",
   "pygments_lexer": "ipython3",
   "version": "3.7.7"
  },
  "widgets": {
   "application/vnd.jupyter.widget-state+json": {
    "01b82b89b9674b7084d0d7951e8654cb": {
     "model_module": "@jupyter-widgets/controls",
     "model_name": "ProgressStyleModel",
     "state": {
      "_model_module": "@jupyter-widgets/controls",
      "_model_module_version": "1.5.0",
      "_model_name": "ProgressStyleModel",
      "_view_count": null,
      "_view_module": "@jupyter-widgets/base",
      "_view_module_version": "1.2.0",
      "_view_name": "StyleView",
      "bar_color": null,
      "description_width": ""
     }
    },
    "03c6180e65c1457e9eff1090956ed5c8": {
     "model_module": "@jupyter-widgets/controls",
     "model_name": "DescriptionStyleModel",
     "state": {
      "_model_module": "@jupyter-widgets/controls",
      "_model_module_version": "1.5.0",
      "_model_name": "DescriptionStyleModel",
      "_view_count": null,
      "_view_module": "@jupyter-widgets/base",
      "_view_module_version": "1.2.0",
      "_view_name": "StyleView",
      "description_width": ""
     }
    },
    "03f441451d834579a88dd5037f7d26fa": {
     "model_module": "@jupyter-widgets/controls",
     "model_name": "ProgressStyleModel",
     "state": {
      "_model_module": "@jupyter-widgets/controls",
      "_model_module_version": "1.5.0",
      "_model_name": "ProgressStyleModel",
      "_view_count": null,
      "_view_module": "@jupyter-widgets/base",
      "_view_module_version": "1.2.0",
      "_view_name": "StyleView",
      "bar_color": null,
      "description_width": ""
     }
    },
    "058d5a1cd5d44ac9827c58a7235d0666": {
     "model_module": "@jupyter-widgets/base",
     "model_name": "LayoutModel",
     "state": {
      "_model_module": "@jupyter-widgets/base",
      "_model_module_version": "1.2.0",
      "_model_name": "LayoutModel",
      "_view_count": null,
      "_view_module": "@jupyter-widgets/base",
      "_view_module_version": "1.2.0",
      "_view_name": "LayoutView",
      "align_content": null,
      "align_items": null,
      "align_self": null,
      "border": null,
      "bottom": null,
      "display": null,
      "flex": null,
      "flex_flow": null,
      "grid_area": null,
      "grid_auto_columns": null,
      "grid_auto_flow": null,
      "grid_auto_rows": null,
      "grid_column": null,
      "grid_gap": null,
      "grid_row": null,
      "grid_template_areas": null,
      "grid_template_columns": null,
      "grid_template_rows": null,
      "height": null,
      "justify_content": null,
      "justify_items": null,
      "left": null,
      "margin": null,
      "max_height": null,
      "max_width": null,
      "min_height": null,
      "min_width": null,
      "object_fit": null,
      "object_position": null,
      "order": null,
      "overflow": null,
      "overflow_x": null,
      "overflow_y": null,
      "padding": null,
      "right": null,
      "top": null,
      "visibility": null,
      "width": null
     }
    },
    "08c6530818ca424086c22d2416c3c8ef": {
     "model_module": "@jupyter-widgets/base",
     "model_name": "LayoutModel",
     "state": {
      "_model_module": "@jupyter-widgets/base",
      "_model_module_version": "1.2.0",
      "_model_name": "LayoutModel",
      "_view_count": null,
      "_view_module": "@jupyter-widgets/base",
      "_view_module_version": "1.2.0",
      "_view_name": "LayoutView",
      "align_content": null,
      "align_items": null,
      "align_self": null,
      "border": null,
      "bottom": null,
      "display": null,
      "flex": null,
      "flex_flow": null,
      "grid_area": null,
      "grid_auto_columns": null,
      "grid_auto_flow": null,
      "grid_auto_rows": null,
      "grid_column": null,
      "grid_gap": null,
      "grid_row": null,
      "grid_template_areas": null,
      "grid_template_columns": null,
      "grid_template_rows": null,
      "height": null,
      "justify_content": null,
      "justify_items": null,
      "left": null,
      "margin": null,
      "max_height": null,
      "max_width": null,
      "min_height": null,
      "min_width": null,
      "object_fit": null,
      "object_position": null,
      "order": null,
      "overflow": null,
      "overflow_x": null,
      "overflow_y": null,
      "padding": null,
      "right": null,
      "top": null,
      "visibility": null,
      "width": null
     }
    },
    "1002f3b182ea45e9a7b37b90722f7769": {
     "model_module": "@jupyter-widgets/base",
     "model_name": "LayoutModel",
     "state": {
      "_model_module": "@jupyter-widgets/base",
      "_model_module_version": "1.2.0",
      "_model_name": "LayoutModel",
      "_view_count": null,
      "_view_module": "@jupyter-widgets/base",
      "_view_module_version": "1.2.0",
      "_view_name": "LayoutView",
      "align_content": null,
      "align_items": null,
      "align_self": null,
      "border": null,
      "bottom": null,
      "display": null,
      "flex": null,
      "flex_flow": null,
      "grid_area": null,
      "grid_auto_columns": null,
      "grid_auto_flow": null,
      "grid_auto_rows": null,
      "grid_column": null,
      "grid_gap": null,
      "grid_row": null,
      "grid_template_areas": null,
      "grid_template_columns": null,
      "grid_template_rows": null,
      "height": null,
      "justify_content": null,
      "justify_items": null,
      "left": null,
      "margin": null,
      "max_height": null,
      "max_width": null,
      "min_height": null,
      "min_width": null,
      "object_fit": null,
      "object_position": null,
      "order": null,
      "overflow": null,
      "overflow_x": null,
      "overflow_y": null,
      "padding": null,
      "right": null,
      "top": null,
      "visibility": null,
      "width": null
     }
    },
    "11984f38592442e0bbb2e7dea1ea8824": {
     "model_module": "@jupyter-widgets/base",
     "model_name": "LayoutModel",
     "state": {
      "_model_module": "@jupyter-widgets/base",
      "_model_module_version": "1.2.0",
      "_model_name": "LayoutModel",
      "_view_count": null,
      "_view_module": "@jupyter-widgets/base",
      "_view_module_version": "1.2.0",
      "_view_name": "LayoutView",
      "align_content": null,
      "align_items": null,
      "align_self": null,
      "border": null,
      "bottom": null,
      "display": null,
      "flex": null,
      "flex_flow": null,
      "grid_area": null,
      "grid_auto_columns": null,
      "grid_auto_flow": null,
      "grid_auto_rows": null,
      "grid_column": null,
      "grid_gap": null,
      "grid_row": null,
      "grid_template_areas": null,
      "grid_template_columns": null,
      "grid_template_rows": null,
      "height": null,
      "justify_content": null,
      "justify_items": null,
      "left": null,
      "margin": null,
      "max_height": null,
      "max_width": null,
      "min_height": null,
      "min_width": null,
      "object_fit": null,
      "object_position": null,
      "order": null,
      "overflow": null,
      "overflow_x": null,
      "overflow_y": null,
      "padding": null,
      "right": null,
      "top": null,
      "visibility": null,
      "width": null
     }
    },
    "11deed0df886450c907a6d223cd9553e": {
     "model_module": "@jupyter-widgets/controls",
     "model_name": "HTMLModel",
     "state": {
      "_dom_classes": [],
      "_model_module": "@jupyter-widgets/controls",
      "_model_module_version": "1.5.0",
      "_model_name": "HTMLModel",
      "_view_count": null,
      "_view_module": "@jupyter-widgets/controls",
      "_view_module_version": "1.5.0",
      "_view_name": "HTMLView",
      "description": "",
      "description_tooltip": null,
      "layout": "IPY_MODEL_dea38f653c8d4fcbbf1ed1556bf27975",
      "placeholder": "​",
      "style": "IPY_MODEL_2b0eec993daa4a4bb4ce34672c4304b7",
      "value": "100%"
     }
    },
    "1318350d57b2427e9dac62b2e12daf03": {
     "model_module": "@jupyter-widgets/controls",
     "model_name": "HTMLModel",
     "state": {
      "_dom_classes": [],
      "_model_module": "@jupyter-widgets/controls",
      "_model_module_version": "1.5.0",
      "_model_name": "HTMLModel",
      "_view_count": null,
      "_view_module": "@jupyter-widgets/controls",
      "_view_module_version": "1.5.0",
      "_view_name": "HTMLView",
      "description": "",
      "description_tooltip": null,
      "layout": "IPY_MODEL_1002f3b182ea45e9a7b37b90722f7769",
      "placeholder": "​",
      "style": "IPY_MODEL_ca7c3da9848642e399e0109d494a02a3",
      "value": "100%"
     }
    },
    "13f256f3b6654b6281b7669bfe9031c7": {
     "model_module": "@jupyter-widgets/controls",
     "model_name": "DescriptionStyleModel",
     "state": {
      "_model_module": "@jupyter-widgets/controls",
      "_model_module_version": "1.5.0",
      "_model_name": "DescriptionStyleModel",
      "_view_count": null,
      "_view_module": "@jupyter-widgets/base",
      "_view_module_version": "1.2.0",
      "_view_name": "StyleView",
      "description_width": ""
     }
    },
    "1478b6fd8ef74fa2b023f35b641b3909": {
     "model_module": "@jupyter-widgets/controls",
     "model_name": "ProgressStyleModel",
     "state": {
      "_model_module": "@jupyter-widgets/controls",
      "_model_module_version": "1.5.0",
      "_model_name": "ProgressStyleModel",
      "_view_count": null,
      "_view_module": "@jupyter-widgets/base",
      "_view_module_version": "1.2.0",
      "_view_name": "StyleView",
      "bar_color": null,
      "description_width": ""
     }
    },
    "1a38dcf5c8ec40c9835770fa58e6b570": {
     "model_module": "@jupyter-widgets/controls",
     "model_name": "HBoxModel",
     "state": {
      "_dom_classes": [],
      "_model_module": "@jupyter-widgets/controls",
      "_model_module_version": "1.5.0",
      "_model_name": "HBoxModel",
      "_view_count": null,
      "_view_module": "@jupyter-widgets/controls",
      "_view_module_version": "1.5.0",
      "_view_name": "HBoxView",
      "box_style": "",
      "children": [
       "IPY_MODEL_f0431c6690c64d83be73b376d6e34232",
       "IPY_MODEL_3acc5bd111664980a3e470228bfce6bf",
       "IPY_MODEL_a0774fb2a9f644c881bd33b9e0a6293e"
      ],
      "layout": "IPY_MODEL_fa80c7f551f24481b2952e47143a893c"
     }
    },
    "20d48a37ecbc467abe074d86ab6a4b60": {
     "model_module": "@jupyter-widgets/controls",
     "model_name": "ProgressStyleModel",
     "state": {
      "_model_module": "@jupyter-widgets/controls",
      "_model_module_version": "1.5.0",
      "_model_name": "ProgressStyleModel",
      "_view_count": null,
      "_view_module": "@jupyter-widgets/base",
      "_view_module_version": "1.2.0",
      "_view_name": "StyleView",
      "bar_color": null,
      "description_width": ""
     }
    },
    "22739792021042a9ad5ffcd7ea22fee6": {
     "model_module": "@jupyter-widgets/controls",
     "model_name": "HTMLModel",
     "state": {
      "_dom_classes": [],
      "_model_module": "@jupyter-widgets/controls",
      "_model_module_version": "1.5.0",
      "_model_name": "HTMLModel",
      "_view_count": null,
      "_view_module": "@jupyter-widgets/controls",
      "_view_module_version": "1.5.0",
      "_view_name": "HTMLView",
      "description": "",
      "description_tooltip": null,
      "layout": "IPY_MODEL_544d3890118242459cdde3c6ab7165c1",
      "placeholder": "​",
      "style": "IPY_MODEL_c41b11a61f00412285f81f02a08bcd1a",
      "value": "100%"
     }
    },
    "2460752b09654a88826500aaee10d106": {
     "model_module": "@jupyter-widgets/base",
     "model_name": "LayoutModel",
     "state": {
      "_model_module": "@jupyter-widgets/base",
      "_model_module_version": "1.2.0",
      "_model_name": "LayoutModel",
      "_view_count": null,
      "_view_module": "@jupyter-widgets/base",
      "_view_module_version": "1.2.0",
      "_view_name": "LayoutView",
      "align_content": null,
      "align_items": null,
      "align_self": null,
      "border": null,
      "bottom": null,
      "display": null,
      "flex": null,
      "flex_flow": null,
      "grid_area": null,
      "grid_auto_columns": null,
      "grid_auto_flow": null,
      "grid_auto_rows": null,
      "grid_column": null,
      "grid_gap": null,
      "grid_row": null,
      "grid_template_areas": null,
      "grid_template_columns": null,
      "grid_template_rows": null,
      "height": null,
      "justify_content": null,
      "justify_items": null,
      "left": null,
      "margin": null,
      "max_height": null,
      "max_width": null,
      "min_height": null,
      "min_width": null,
      "object_fit": null,
      "object_position": null,
      "order": null,
      "overflow": null,
      "overflow_x": null,
      "overflow_y": null,
      "padding": null,
      "right": null,
      "top": null,
      "visibility": null,
      "width": null
     }
    },
    "248c347f67e6436fbeec3947cb8cc035": {
     "model_module": "@jupyter-widgets/base",
     "model_name": "LayoutModel",
     "state": {
      "_model_module": "@jupyter-widgets/base",
      "_model_module_version": "1.2.0",
      "_model_name": "LayoutModel",
      "_view_count": null,
      "_view_module": "@jupyter-widgets/base",
      "_view_module_version": "1.2.0",
      "_view_name": "LayoutView",
      "align_content": null,
      "align_items": null,
      "align_self": null,
      "border": null,
      "bottom": null,
      "display": null,
      "flex": null,
      "flex_flow": null,
      "grid_area": null,
      "grid_auto_columns": null,
      "grid_auto_flow": null,
      "grid_auto_rows": null,
      "grid_column": null,
      "grid_gap": null,
      "grid_row": null,
      "grid_template_areas": null,
      "grid_template_columns": null,
      "grid_template_rows": null,
      "height": null,
      "justify_content": null,
      "justify_items": null,
      "left": null,
      "margin": null,
      "max_height": null,
      "max_width": null,
      "min_height": null,
      "min_width": null,
      "object_fit": null,
      "object_position": null,
      "order": null,
      "overflow": null,
      "overflow_x": null,
      "overflow_y": null,
      "padding": null,
      "right": null,
      "top": null,
      "visibility": null,
      "width": null
     }
    },
    "25fb1fea023745e3a0cfd41e71a5da39": {
     "model_module": "@jupyter-widgets/controls",
     "model_name": "HTMLModel",
     "state": {
      "_dom_classes": [],
      "_model_module": "@jupyter-widgets/controls",
      "_model_module_version": "1.5.0",
      "_model_name": "HTMLModel",
      "_view_count": null,
      "_view_module": "@jupyter-widgets/controls",
      "_view_module_version": "1.5.0",
      "_view_name": "HTMLView",
      "description": "",
      "description_tooltip": null,
      "layout": "IPY_MODEL_2460752b09654a88826500aaee10d106",
      "placeholder": "​",
      "style": "IPY_MODEL_9061cc2356ac42809e5e570a9b0a0a46",
      "value": " 186/186 [01:31&lt;00:00,  2.03it/s]"
     }
    },
    "2b0eec993daa4a4bb4ce34672c4304b7": {
     "model_module": "@jupyter-widgets/controls",
     "model_name": "DescriptionStyleModel",
     "state": {
      "_model_module": "@jupyter-widgets/controls",
      "_model_module_version": "1.5.0",
      "_model_name": "DescriptionStyleModel",
      "_view_count": null,
      "_view_module": "@jupyter-widgets/base",
      "_view_module_version": "1.2.0",
      "_view_name": "StyleView",
      "description_width": ""
     }
    },
    "2e66893ba30f440187da68d9648f2d3b": {
     "model_module": "@jupyter-widgets/controls",
     "model_name": "HTMLModel",
     "state": {
      "_dom_classes": [],
      "_model_module": "@jupyter-widgets/controls",
      "_model_module_version": "1.5.0",
      "_model_name": "HTMLModel",
      "_view_count": null,
      "_view_module": "@jupyter-widgets/controls",
      "_view_module_version": "1.5.0",
      "_view_name": "HTMLView",
      "description": "",
      "description_tooltip": null,
      "layout": "IPY_MODEL_4d7b882a998947bdb522574a5a8c6772",
      "placeholder": "​",
      "style": "IPY_MODEL_91e02e12cd3d4483bbd5c04135a317e2",
      "value": " 186/186 [01:31&lt;00:00,  2.03it/s]"
     }
    },
    "30bd3ff940ce4fdf86ac1fee3c1f28c9": {
     "model_module": "@jupyter-widgets/base",
     "model_name": "LayoutModel",
     "state": {
      "_model_module": "@jupyter-widgets/base",
      "_model_module_version": "1.2.0",
      "_model_name": "LayoutModel",
      "_view_count": null,
      "_view_module": "@jupyter-widgets/base",
      "_view_module_version": "1.2.0",
      "_view_name": "LayoutView",
      "align_content": null,
      "align_items": null,
      "align_self": null,
      "border": null,
      "bottom": null,
      "display": null,
      "flex": null,
      "flex_flow": null,
      "grid_area": null,
      "grid_auto_columns": null,
      "grid_auto_flow": null,
      "grid_auto_rows": null,
      "grid_column": null,
      "grid_gap": null,
      "grid_row": null,
      "grid_template_areas": null,
      "grid_template_columns": null,
      "grid_template_rows": null,
      "height": null,
      "justify_content": null,
      "justify_items": null,
      "left": null,
      "margin": null,
      "max_height": null,
      "max_width": null,
      "min_height": null,
      "min_width": null,
      "object_fit": null,
      "object_position": null,
      "order": null,
      "overflow": null,
      "overflow_x": null,
      "overflow_y": null,
      "padding": null,
      "right": null,
      "top": null,
      "visibility": null,
      "width": null
     }
    },
    "31b029d95a284c4585d29b6694afa866": {
     "model_module": "@jupyter-widgets/controls",
     "model_name": "DescriptionStyleModel",
     "state": {
      "_model_module": "@jupyter-widgets/controls",
      "_model_module_version": "1.5.0",
      "_model_name": "DescriptionStyleModel",
      "_view_count": null,
      "_view_module": "@jupyter-widgets/base",
      "_view_module_version": "1.2.0",
      "_view_name": "StyleView",
      "description_width": ""
     }
    },
    "325c4395bc914bb4aab2d3263a2d5159": {
     "model_module": "@jupyter-widgets/base",
     "model_name": "LayoutModel",
     "state": {
      "_model_module": "@jupyter-widgets/base",
      "_model_module_version": "1.2.0",
      "_model_name": "LayoutModel",
      "_view_count": null,
      "_view_module": "@jupyter-widgets/base",
      "_view_module_version": "1.2.0",
      "_view_name": "LayoutView",
      "align_content": null,
      "align_items": null,
      "align_self": null,
      "border": null,
      "bottom": null,
      "display": null,
      "flex": null,
      "flex_flow": null,
      "grid_area": null,
      "grid_auto_columns": null,
      "grid_auto_flow": null,
      "grid_auto_rows": null,
      "grid_column": null,
      "grid_gap": null,
      "grid_row": null,
      "grid_template_areas": null,
      "grid_template_columns": null,
      "grid_template_rows": null,
      "height": null,
      "justify_content": null,
      "justify_items": null,
      "left": null,
      "margin": null,
      "max_height": null,
      "max_width": null,
      "min_height": null,
      "min_width": null,
      "object_fit": null,
      "object_position": null,
      "order": null,
      "overflow": null,
      "overflow_x": null,
      "overflow_y": null,
      "padding": null,
      "right": null,
      "top": null,
      "visibility": null,
      "width": null
     }
    },
    "3296e44da614494db93501ef7b3a244a": {
     "model_module": "@jupyter-widgets/controls",
     "model_name": "DescriptionStyleModel",
     "state": {
      "_model_module": "@jupyter-widgets/controls",
      "_model_module_version": "1.5.0",
      "_model_name": "DescriptionStyleModel",
      "_view_count": null,
      "_view_module": "@jupyter-widgets/base",
      "_view_module_version": "1.2.0",
      "_view_name": "StyleView",
      "description_width": ""
     }
    },
    "352240d649644a37a5cfa7c46c9247c1": {
     "model_module": "@jupyter-widgets/controls",
     "model_name": "ProgressStyleModel",
     "state": {
      "_model_module": "@jupyter-widgets/controls",
      "_model_module_version": "1.5.0",
      "_model_name": "ProgressStyleModel",
      "_view_count": null,
      "_view_module": "@jupyter-widgets/base",
      "_view_module_version": "1.2.0",
      "_view_name": "StyleView",
      "bar_color": null,
      "description_width": ""
     }
    },
    "37c73c62f26744a69671d0f3e11c2424": {
     "model_module": "@jupyter-widgets/controls",
     "model_name": "HBoxModel",
     "state": {
      "_dom_classes": [],
      "_model_module": "@jupyter-widgets/controls",
      "_model_module_version": "1.5.0",
      "_model_name": "HBoxModel",
      "_view_count": null,
      "_view_module": "@jupyter-widgets/controls",
      "_view_module_version": "1.5.0",
      "_view_name": "HBoxView",
      "box_style": "",
      "children": [
       "IPY_MODEL_45d7b38322314fca90e9ee9fd47c6b65",
       "IPY_MODEL_3e720b1bba264ea88c3f4d8198f4e110",
       "IPY_MODEL_2e66893ba30f440187da68d9648f2d3b"
      ],
      "layout": "IPY_MODEL_f7da054b351a477096bf85a3ef28092a"
     }
    },
    "387c9046f69f47d3b62c55b4aa3a2b8a": {
     "model_module": "@jupyter-widgets/controls",
     "model_name": "HBoxModel",
     "state": {
      "_dom_classes": [],
      "_model_module": "@jupyter-widgets/controls",
      "_model_module_version": "1.5.0",
      "_model_name": "HBoxModel",
      "_view_count": null,
      "_view_module": "@jupyter-widgets/controls",
      "_view_module_version": "1.5.0",
      "_view_name": "HBoxView",
      "box_style": "",
      "children": [
       "IPY_MODEL_e5e7af591999473c91e23bf2be486c1c",
       "IPY_MODEL_6e8e76bb558449cba022eee438de954c",
       "IPY_MODEL_576d8ee10225443fbb8e9b117b8363ce"
      ],
      "layout": "IPY_MODEL_bf9834bc73f64df39202d6aca6c189a7"
     }
    },
    "3a221026bccd49a3ac2598009dac1717": {
     "model_module": "@jupyter-widgets/base",
     "model_name": "LayoutModel",
     "state": {
      "_model_module": "@jupyter-widgets/base",
      "_model_module_version": "1.2.0",
      "_model_name": "LayoutModel",
      "_view_count": null,
      "_view_module": "@jupyter-widgets/base",
      "_view_module_version": "1.2.0",
      "_view_name": "LayoutView",
      "align_content": null,
      "align_items": null,
      "align_self": null,
      "border": null,
      "bottom": null,
      "display": null,
      "flex": null,
      "flex_flow": null,
      "grid_area": null,
      "grid_auto_columns": null,
      "grid_auto_flow": null,
      "grid_auto_rows": null,
      "grid_column": null,
      "grid_gap": null,
      "grid_row": null,
      "grid_template_areas": null,
      "grid_template_columns": null,
      "grid_template_rows": null,
      "height": null,
      "justify_content": null,
      "justify_items": null,
      "left": null,
      "margin": null,
      "max_height": null,
      "max_width": null,
      "min_height": null,
      "min_width": null,
      "object_fit": null,
      "object_position": null,
      "order": null,
      "overflow": null,
      "overflow_x": null,
      "overflow_y": null,
      "padding": null,
      "right": null,
      "top": null,
      "visibility": null,
      "width": null
     }
    },
    "3a2b1e5909754794b92c5a8721078bb4": {
     "model_module": "@jupyter-widgets/base",
     "model_name": "LayoutModel",
     "state": {
      "_model_module": "@jupyter-widgets/base",
      "_model_module_version": "1.2.0",
      "_model_name": "LayoutModel",
      "_view_count": null,
      "_view_module": "@jupyter-widgets/base",
      "_view_module_version": "1.2.0",
      "_view_name": "LayoutView",
      "align_content": null,
      "align_items": null,
      "align_self": null,
      "border": null,
      "bottom": null,
      "display": null,
      "flex": null,
      "flex_flow": null,
      "grid_area": null,
      "grid_auto_columns": null,
      "grid_auto_flow": null,
      "grid_auto_rows": null,
      "grid_column": null,
      "grid_gap": null,
      "grid_row": null,
      "grid_template_areas": null,
      "grid_template_columns": null,
      "grid_template_rows": null,
      "height": null,
      "justify_content": null,
      "justify_items": null,
      "left": null,
      "margin": null,
      "max_height": null,
      "max_width": null,
      "min_height": null,
      "min_width": null,
      "object_fit": null,
      "object_position": null,
      "order": null,
      "overflow": null,
      "overflow_x": null,
      "overflow_y": null,
      "padding": null,
      "right": null,
      "top": null,
      "visibility": null,
      "width": null
     }
    },
    "3acc5bd111664980a3e470228bfce6bf": {
     "model_module": "@jupyter-widgets/controls",
     "model_name": "FloatProgressModel",
     "state": {
      "_dom_classes": [],
      "_model_module": "@jupyter-widgets/controls",
      "_model_module_version": "1.5.0",
      "_model_name": "FloatProgressModel",
      "_view_count": null,
      "_view_module": "@jupyter-widgets/controls",
      "_view_module_version": "1.5.0",
      "_view_name": "ProgressView",
      "bar_style": "success",
      "description": "",
      "description_tooltip": null,
      "layout": "IPY_MODEL_a02f859d12ba4d3d98e79f7364b73347",
      "max": 1670,
      "min": 0,
      "orientation": "horizontal",
      "style": "IPY_MODEL_40f76c4ac39849288528eaa967824a88",
      "value": 1670
     }
    },
    "3e720b1bba264ea88c3f4d8198f4e110": {
     "model_module": "@jupyter-widgets/controls",
     "model_name": "FloatProgressModel",
     "state": {
      "_dom_classes": [],
      "_model_module": "@jupyter-widgets/controls",
      "_model_module_version": "1.5.0",
      "_model_name": "FloatProgressModel",
      "_view_count": null,
      "_view_module": "@jupyter-widgets/controls",
      "_view_module_version": "1.5.0",
      "_view_name": "ProgressView",
      "bar_style": "success",
      "description": "",
      "description_tooltip": null,
      "layout": "IPY_MODEL_bfedc5b60fe04bd8bc46be6c2767611d",
      "max": 186,
      "min": 0,
      "orientation": "horizontal",
      "style": "IPY_MODEL_7242d2dd2f734d90aa84a46ef071c00c",
      "value": 186
     }
    },
    "40f76c4ac39849288528eaa967824a88": {
     "model_module": "@jupyter-widgets/controls",
     "model_name": "ProgressStyleModel",
     "state": {
      "_model_module": "@jupyter-widgets/controls",
      "_model_module_version": "1.5.0",
      "_model_name": "ProgressStyleModel",
      "_view_count": null,
      "_view_module": "@jupyter-widgets/base",
      "_view_module_version": "1.2.0",
      "_view_name": "StyleView",
      "bar_color": null,
      "description_width": ""
     }
    },
    "418b19bc0e7a4e59800de4e861e96591": {
     "model_module": "@jupyter-widgets/controls",
     "model_name": "DescriptionStyleModel",
     "state": {
      "_model_module": "@jupyter-widgets/controls",
      "_model_module_version": "1.5.0",
      "_model_name": "DescriptionStyleModel",
      "_view_count": null,
      "_view_module": "@jupyter-widgets/base",
      "_view_module_version": "1.2.0",
      "_view_name": "StyleView",
      "description_width": ""
     }
    },
    "43a1bf9349e644318db2baec08de544f": {
     "model_module": "@jupyter-widgets/controls",
     "model_name": "DescriptionStyleModel",
     "state": {
      "_model_module": "@jupyter-widgets/controls",
      "_model_module_version": "1.5.0",
      "_model_name": "DescriptionStyleModel",
      "_view_count": null,
      "_view_module": "@jupyter-widgets/base",
      "_view_module_version": "1.2.0",
      "_view_name": "StyleView",
      "description_width": ""
     }
    },
    "4417ee98d09b4abdbea261e83c3bd95a": {
     "model_module": "@jupyter-widgets/base",
     "model_name": "LayoutModel",
     "state": {
      "_model_module": "@jupyter-widgets/base",
      "_model_module_version": "1.2.0",
      "_model_name": "LayoutModel",
      "_view_count": null,
      "_view_module": "@jupyter-widgets/base",
      "_view_module_version": "1.2.0",
      "_view_name": "LayoutView",
      "align_content": null,
      "align_items": null,
      "align_self": null,
      "border": null,
      "bottom": null,
      "display": null,
      "flex": null,
      "flex_flow": null,
      "grid_area": null,
      "grid_auto_columns": null,
      "grid_auto_flow": null,
      "grid_auto_rows": null,
      "grid_column": null,
      "grid_gap": null,
      "grid_row": null,
      "grid_template_areas": null,
      "grid_template_columns": null,
      "grid_template_rows": null,
      "height": null,
      "justify_content": null,
      "justify_items": null,
      "left": null,
      "margin": null,
      "max_height": null,
      "max_width": null,
      "min_height": null,
      "min_width": null,
      "object_fit": null,
      "object_position": null,
      "order": null,
      "overflow": null,
      "overflow_x": null,
      "overflow_y": null,
      "padding": null,
      "right": null,
      "top": null,
      "visibility": null,
      "width": null
     }
    },
    "45d7b38322314fca90e9ee9fd47c6b65": {
     "model_module": "@jupyter-widgets/controls",
     "model_name": "HTMLModel",
     "state": {
      "_dom_classes": [],
      "_model_module": "@jupyter-widgets/controls",
      "_model_module_version": "1.5.0",
      "_model_name": "HTMLModel",
      "_view_count": null,
      "_view_module": "@jupyter-widgets/controls",
      "_view_module_version": "1.5.0",
      "_view_name": "HTMLView",
      "description": "",
      "description_tooltip": null,
      "layout": "IPY_MODEL_54e16327d82b4c75a6aa4fca2233bd57",
      "placeholder": "​",
      "style": "IPY_MODEL_df16d6f14a5f418eac2a574e12d74b93",
      "value": "100%"
     }
    },
    "49de1a24c912408a8b3e699050181cc6": {
     "model_module": "@jupyter-widgets/base",
     "model_name": "LayoutModel",
     "state": {
      "_model_module": "@jupyter-widgets/base",
      "_model_module_version": "1.2.0",
      "_model_name": "LayoutModel",
      "_view_count": null,
      "_view_module": "@jupyter-widgets/base",
      "_view_module_version": "1.2.0",
      "_view_name": "LayoutView",
      "align_content": null,
      "align_items": null,
      "align_self": null,
      "border": null,
      "bottom": null,
      "display": null,
      "flex": null,
      "flex_flow": null,
      "grid_area": null,
      "grid_auto_columns": null,
      "grid_auto_flow": null,
      "grid_auto_rows": null,
      "grid_column": null,
      "grid_gap": null,
      "grid_row": null,
      "grid_template_areas": null,
      "grid_template_columns": null,
      "grid_template_rows": null,
      "height": null,
      "justify_content": null,
      "justify_items": null,
      "left": null,
      "margin": null,
      "max_height": null,
      "max_width": null,
      "min_height": null,
      "min_width": null,
      "object_fit": null,
      "object_position": null,
      "order": null,
      "overflow": null,
      "overflow_x": null,
      "overflow_y": null,
      "padding": null,
      "right": null,
      "top": null,
      "visibility": null,
      "width": null
     }
    },
    "4afe29bf63514970935c4fb894c0474f": {
     "model_module": "@jupyter-widgets/controls",
     "model_name": "HTMLModel",
     "state": {
      "_dom_classes": [],
      "_model_module": "@jupyter-widgets/controls",
      "_model_module_version": "1.5.0",
      "_model_name": "HTMLModel",
      "_view_count": null,
      "_view_module": "@jupyter-widgets/controls",
      "_view_module_version": "1.5.0",
      "_view_name": "HTMLView",
      "description": "",
      "description_tooltip": null,
      "layout": "IPY_MODEL_49de1a24c912408a8b3e699050181cc6",
      "placeholder": "​",
      "style": "IPY_MODEL_03c6180e65c1457e9eff1090956ed5c8",
      "value": " 2228/2228 [28:07&lt;00:00,  1.32it/s]"
     }
    },
    "4d7b882a998947bdb522574a5a8c6772": {
     "model_module": "@jupyter-widgets/base",
     "model_name": "LayoutModel",
     "state": {
      "_model_module": "@jupyter-widgets/base",
      "_model_module_version": "1.2.0",
      "_model_name": "LayoutModel",
      "_view_count": null,
      "_view_module": "@jupyter-widgets/base",
      "_view_module_version": "1.2.0",
      "_view_name": "LayoutView",
      "align_content": null,
      "align_items": null,
      "align_self": null,
      "border": null,
      "bottom": null,
      "display": null,
      "flex": null,
      "flex_flow": null,
      "grid_area": null,
      "grid_auto_columns": null,
      "grid_auto_flow": null,
      "grid_auto_rows": null,
      "grid_column": null,
      "grid_gap": null,
      "grid_row": null,
      "grid_template_areas": null,
      "grid_template_columns": null,
      "grid_template_rows": null,
      "height": null,
      "justify_content": null,
      "justify_items": null,
      "left": null,
      "margin": null,
      "max_height": null,
      "max_width": null,
      "min_height": null,
      "min_width": null,
      "object_fit": null,
      "object_position": null,
      "order": null,
      "overflow": null,
      "overflow_x": null,
      "overflow_y": null,
      "padding": null,
      "right": null,
      "top": null,
      "visibility": null,
      "width": null
     }
    },
    "5116a4591366412ead734b9104a63307": {
     "model_module": "@jupyter-widgets/controls",
     "model_name": "ProgressStyleModel",
     "state": {
      "_model_module": "@jupyter-widgets/controls",
      "_model_module_version": "1.5.0",
      "_model_name": "ProgressStyleModel",
      "_view_count": null,
      "_view_module": "@jupyter-widgets/base",
      "_view_module_version": "1.2.0",
      "_view_name": "StyleView",
      "bar_color": null,
      "description_width": ""
     }
    },
    "52238d9cda454e98a83b1678c5ac9f9d": {
     "model_module": "@jupyter-widgets/controls",
     "model_name": "FloatProgressModel",
     "state": {
      "_dom_classes": [],
      "_model_module": "@jupyter-widgets/controls",
      "_model_module_version": "1.5.0",
      "_model_name": "FloatProgressModel",
      "_view_count": null,
      "_view_module": "@jupyter-widgets/controls",
      "_view_module_version": "1.5.0",
      "_view_name": "ProgressView",
      "bar_style": "success",
      "description": "",
      "description_tooltip": null,
      "layout": "IPY_MODEL_74a0e577bede46f7b195cb5eb5af7138",
      "max": 186,
      "min": 0,
      "orientation": "horizontal",
      "style": "IPY_MODEL_a187b61e99c74d69a863ac0865b639c8",
      "value": 186
     }
    },
    "544d3890118242459cdde3c6ab7165c1": {
     "model_module": "@jupyter-widgets/base",
     "model_name": "LayoutModel",
     "state": {
      "_model_module": "@jupyter-widgets/base",
      "_model_module_version": "1.2.0",
      "_model_name": "LayoutModel",
      "_view_count": null,
      "_view_module": "@jupyter-widgets/base",
      "_view_module_version": "1.2.0",
      "_view_name": "LayoutView",
      "align_content": null,
      "align_items": null,
      "align_self": null,
      "border": null,
      "bottom": null,
      "display": null,
      "flex": null,
      "flex_flow": null,
      "grid_area": null,
      "grid_auto_columns": null,
      "grid_auto_flow": null,
      "grid_auto_rows": null,
      "grid_column": null,
      "grid_gap": null,
      "grid_row": null,
      "grid_template_areas": null,
      "grid_template_columns": null,
      "grid_template_rows": null,
      "height": null,
      "justify_content": null,
      "justify_items": null,
      "left": null,
      "margin": null,
      "max_height": null,
      "max_width": null,
      "min_height": null,
      "min_width": null,
      "object_fit": null,
      "object_position": null,
      "order": null,
      "overflow": null,
      "overflow_x": null,
      "overflow_y": null,
      "padding": null,
      "right": null,
      "top": null,
      "visibility": null,
      "width": null
     }
    },
    "54e16327d82b4c75a6aa4fca2233bd57": {
     "model_module": "@jupyter-widgets/base",
     "model_name": "LayoutModel",
     "state": {
      "_model_module": "@jupyter-widgets/base",
      "_model_module_version": "1.2.0",
      "_model_name": "LayoutModel",
      "_view_count": null,
      "_view_module": "@jupyter-widgets/base",
      "_view_module_version": "1.2.0",
      "_view_name": "LayoutView",
      "align_content": null,
      "align_items": null,
      "align_self": null,
      "border": null,
      "bottom": null,
      "display": null,
      "flex": null,
      "flex_flow": null,
      "grid_area": null,
      "grid_auto_columns": null,
      "grid_auto_flow": null,
      "grid_auto_rows": null,
      "grid_column": null,
      "grid_gap": null,
      "grid_row": null,
      "grid_template_areas": null,
      "grid_template_columns": null,
      "grid_template_rows": null,
      "height": null,
      "justify_content": null,
      "justify_items": null,
      "left": null,
      "margin": null,
      "max_height": null,
      "max_width": null,
      "min_height": null,
      "min_width": null,
      "object_fit": null,
      "object_position": null,
      "order": null,
      "overflow": null,
      "overflow_x": null,
      "overflow_y": null,
      "padding": null,
      "right": null,
      "top": null,
      "visibility": null,
      "width": null
     }
    },
    "576d8ee10225443fbb8e9b117b8363ce": {
     "model_module": "@jupyter-widgets/controls",
     "model_name": "HTMLModel",
     "state": {
      "_dom_classes": [],
      "_model_module": "@jupyter-widgets/controls",
      "_model_module_version": "1.5.0",
      "_model_name": "HTMLModel",
      "_view_count": null,
      "_view_module": "@jupyter-widgets/controls",
      "_view_module_version": "1.5.0",
      "_view_name": "HTMLView",
      "description": "",
      "description_tooltip": null,
      "layout": "IPY_MODEL_6a97d20e69b94538a502c1149d48e24d",
      "placeholder": "​",
      "style": "IPY_MODEL_fd97cf4c5bd041f392bb96486e73870b",
      "value": " 186/186 [01:31&lt;00:00,  2.04it/s]"
     }
    },
    "5ac4ddaa84f1451c84cfef215867336a": {
     "model_module": "@jupyter-widgets/base",
     "model_name": "LayoutModel",
     "state": {
      "_model_module": "@jupyter-widgets/base",
      "_model_module_version": "1.2.0",
      "_model_name": "LayoutModel",
      "_view_count": null,
      "_view_module": "@jupyter-widgets/base",
      "_view_module_version": "1.2.0",
      "_view_name": "LayoutView",
      "align_content": null,
      "align_items": null,
      "align_self": null,
      "border": null,
      "bottom": null,
      "display": null,
      "flex": null,
      "flex_flow": null,
      "grid_area": null,
      "grid_auto_columns": null,
      "grid_auto_flow": null,
      "grid_auto_rows": null,
      "grid_column": null,
      "grid_gap": null,
      "grid_row": null,
      "grid_template_areas": null,
      "grid_template_columns": null,
      "grid_template_rows": null,
      "height": null,
      "justify_content": null,
      "justify_items": null,
      "left": null,
      "margin": null,
      "max_height": null,
      "max_width": null,
      "min_height": null,
      "min_width": null,
      "object_fit": null,
      "object_position": null,
      "order": null,
      "overflow": null,
      "overflow_x": null,
      "overflow_y": null,
      "padding": null,
      "right": null,
      "top": null,
      "visibility": null,
      "width": null
     }
    },
    "5cc951888bfc45b485aeefa92c92e3e1": {
     "model_module": "@jupyter-widgets/base",
     "model_name": "LayoutModel",
     "state": {
      "_model_module": "@jupyter-widgets/base",
      "_model_module_version": "1.2.0",
      "_model_name": "LayoutModel",
      "_view_count": null,
      "_view_module": "@jupyter-widgets/base",
      "_view_module_version": "1.2.0",
      "_view_name": "LayoutView",
      "align_content": null,
      "align_items": null,
      "align_self": null,
      "border": null,
      "bottom": null,
      "display": null,
      "flex": null,
      "flex_flow": null,
      "grid_area": null,
      "grid_auto_columns": null,
      "grid_auto_flow": null,
      "grid_auto_rows": null,
      "grid_column": null,
      "grid_gap": null,
      "grid_row": null,
      "grid_template_areas": null,
      "grid_template_columns": null,
      "grid_template_rows": null,
      "height": null,
      "justify_content": null,
      "justify_items": null,
      "left": null,
      "margin": null,
      "max_height": null,
      "max_width": null,
      "min_height": null,
      "min_width": null,
      "object_fit": null,
      "object_position": null,
      "order": null,
      "overflow": null,
      "overflow_x": null,
      "overflow_y": null,
      "padding": null,
      "right": null,
      "top": null,
      "visibility": null,
      "width": null
     }
    },
    "5cfdd460e9cc45b6ae733f13d435cd5a": {
     "model_module": "@jupyter-widgets/controls",
     "model_name": "FloatProgressModel",
     "state": {
      "_dom_classes": [],
      "_model_module": "@jupyter-widgets/controls",
      "_model_module_version": "1.5.0",
      "_model_name": "FloatProgressModel",
      "_view_count": null,
      "_view_module": "@jupyter-widgets/controls",
      "_view_module_version": "1.5.0",
      "_view_name": "ProgressView",
      "bar_style": "success",
      "description": "",
      "description_tooltip": null,
      "layout": "IPY_MODEL_30bd3ff940ce4fdf86ac1fee3c1f28c9",
      "max": 1670,
      "min": 0,
      "orientation": "horizontal",
      "style": "IPY_MODEL_03f441451d834579a88dd5037f7d26fa",
      "value": 1670
     }
    },
    "630b235f88584e8998d32706ed34f8de": {
     "model_module": "@jupyter-widgets/base",
     "model_name": "LayoutModel",
     "state": {
      "_model_module": "@jupyter-widgets/base",
      "_model_module_version": "1.2.0",
      "_model_name": "LayoutModel",
      "_view_count": null,
      "_view_module": "@jupyter-widgets/base",
      "_view_module_version": "1.2.0",
      "_view_name": "LayoutView",
      "align_content": null,
      "align_items": null,
      "align_self": null,
      "border": null,
      "bottom": null,
      "display": null,
      "flex": null,
      "flex_flow": null,
      "grid_area": null,
      "grid_auto_columns": null,
      "grid_auto_flow": null,
      "grid_auto_rows": null,
      "grid_column": null,
      "grid_gap": null,
      "grid_row": null,
      "grid_template_areas": null,
      "grid_template_columns": null,
      "grid_template_rows": null,
      "height": null,
      "justify_content": null,
      "justify_items": null,
      "left": null,
      "margin": null,
      "max_height": null,
      "max_width": null,
      "min_height": null,
      "min_width": null,
      "object_fit": null,
      "object_position": null,
      "order": null,
      "overflow": null,
      "overflow_x": null,
      "overflow_y": null,
      "padding": null,
      "right": null,
      "top": null,
      "visibility": null,
      "width": null
     }
    },
    "631b991af5c846e191651e05206c2751": {
     "model_module": "@jupyter-widgets/controls",
     "model_name": "FloatProgressModel",
     "state": {
      "_dom_classes": [],
      "_model_module": "@jupyter-widgets/controls",
      "_model_module_version": "1.5.0",
      "_model_name": "FloatProgressModel",
      "_view_count": null,
      "_view_module": "@jupyter-widgets/controls",
      "_view_module_version": "1.5.0",
      "_view_name": "ProgressView",
      "bar_style": "success",
      "description": "",
      "description_tooltip": null,
      "layout": "IPY_MODEL_08c6530818ca424086c22d2416c3c8ef",
      "max": 2228,
      "min": 0,
      "orientation": "horizontal",
      "style": "IPY_MODEL_1478b6fd8ef74fa2b023f35b641b3909",
      "value": 2228
     }
    },
    "647256962afa4989bedb290545411f24": {
     "model_module": "@jupyter-widgets/controls",
     "model_name": "DescriptionStyleModel",
     "state": {
      "_model_module": "@jupyter-widgets/controls",
      "_model_module_version": "1.5.0",
      "_model_name": "DescriptionStyleModel",
      "_view_count": null,
      "_view_module": "@jupyter-widgets/base",
      "_view_module_version": "1.2.0",
      "_view_name": "StyleView",
      "description_width": ""
     }
    },
    "6a97d20e69b94538a502c1149d48e24d": {
     "model_module": "@jupyter-widgets/base",
     "model_name": "LayoutModel",
     "state": {
      "_model_module": "@jupyter-widgets/base",
      "_model_module_version": "1.2.0",
      "_model_name": "LayoutModel",
      "_view_count": null,
      "_view_module": "@jupyter-widgets/base",
      "_view_module_version": "1.2.0",
      "_view_name": "LayoutView",
      "align_content": null,
      "align_items": null,
      "align_self": null,
      "border": null,
      "bottom": null,
      "display": null,
      "flex": null,
      "flex_flow": null,
      "grid_area": null,
      "grid_auto_columns": null,
      "grid_auto_flow": null,
      "grid_auto_rows": null,
      "grid_column": null,
      "grid_gap": null,
      "grid_row": null,
      "grid_template_areas": null,
      "grid_template_columns": null,
      "grid_template_rows": null,
      "height": null,
      "justify_content": null,
      "justify_items": null,
      "left": null,
      "margin": null,
      "max_height": null,
      "max_width": null,
      "min_height": null,
      "min_width": null,
      "object_fit": null,
      "object_position": null,
      "order": null,
      "overflow": null,
      "overflow_x": null,
      "overflow_y": null,
      "padding": null,
      "right": null,
      "top": null,
      "visibility": null,
      "width": null
     }
    },
    "6e8e76bb558449cba022eee438de954c": {
     "model_module": "@jupyter-widgets/controls",
     "model_name": "FloatProgressModel",
     "state": {
      "_dom_classes": [],
      "_model_module": "@jupyter-widgets/controls",
      "_model_module_version": "1.5.0",
      "_model_name": "FloatProgressModel",
      "_view_count": null,
      "_view_module": "@jupyter-widgets/controls",
      "_view_module_version": "1.5.0",
      "_view_name": "ProgressView",
      "bar_style": "success",
      "description": "",
      "description_tooltip": null,
      "layout": "IPY_MODEL_ee27dd4c7fea4595a95c97da5bff5deb",
      "max": 186,
      "min": 0,
      "orientation": "horizontal",
      "style": "IPY_MODEL_cb467482b582470899bfca4fa318162f",
      "value": 186
     }
    },
    "6f6265a0798e4ae3839a19f0e64044de": {
     "model_module": "@jupyter-widgets/base",
     "model_name": "LayoutModel",
     "state": {
      "_model_module": "@jupyter-widgets/base",
      "_model_module_version": "1.2.0",
      "_model_name": "LayoutModel",
      "_view_count": null,
      "_view_module": "@jupyter-widgets/base",
      "_view_module_version": "1.2.0",
      "_view_name": "LayoutView",
      "align_content": null,
      "align_items": null,
      "align_self": null,
      "border": null,
      "bottom": null,
      "display": null,
      "flex": null,
      "flex_flow": null,
      "grid_area": null,
      "grid_auto_columns": null,
      "grid_auto_flow": null,
      "grid_auto_rows": null,
      "grid_column": null,
      "grid_gap": null,
      "grid_row": null,
      "grid_template_areas": null,
      "grid_template_columns": null,
      "grid_template_rows": null,
      "height": null,
      "justify_content": null,
      "justify_items": null,
      "left": null,
      "margin": null,
      "max_height": null,
      "max_width": null,
      "min_height": null,
      "min_width": null,
      "object_fit": null,
      "object_position": null,
      "order": null,
      "overflow": null,
      "overflow_x": null,
      "overflow_y": null,
      "padding": null,
      "right": null,
      "top": null,
      "visibility": null,
      "width": null
     }
    },
    "7242d2dd2f734d90aa84a46ef071c00c": {
     "model_module": "@jupyter-widgets/controls",
     "model_name": "ProgressStyleModel",
     "state": {
      "_model_module": "@jupyter-widgets/controls",
      "_model_module_version": "1.5.0",
      "_model_name": "ProgressStyleModel",
      "_view_count": null,
      "_view_module": "@jupyter-widgets/base",
      "_view_module_version": "1.2.0",
      "_view_name": "StyleView",
      "bar_color": null,
      "description_width": ""
     }
    },
    "74a0e577bede46f7b195cb5eb5af7138": {
     "model_module": "@jupyter-widgets/base",
     "model_name": "LayoutModel",
     "state": {
      "_model_module": "@jupyter-widgets/base",
      "_model_module_version": "1.2.0",
      "_model_name": "LayoutModel",
      "_view_count": null,
      "_view_module": "@jupyter-widgets/base",
      "_view_module_version": "1.2.0",
      "_view_name": "LayoutView",
      "align_content": null,
      "align_items": null,
      "align_self": null,
      "border": null,
      "bottom": null,
      "display": null,
      "flex": null,
      "flex_flow": null,
      "grid_area": null,
      "grid_auto_columns": null,
      "grid_auto_flow": null,
      "grid_auto_rows": null,
      "grid_column": null,
      "grid_gap": null,
      "grid_row": null,
      "grid_template_areas": null,
      "grid_template_columns": null,
      "grid_template_rows": null,
      "height": null,
      "justify_content": null,
      "justify_items": null,
      "left": null,
      "margin": null,
      "max_height": null,
      "max_width": null,
      "min_height": null,
      "min_width": null,
      "object_fit": null,
      "object_position": null,
      "order": null,
      "overflow": null,
      "overflow_x": null,
      "overflow_y": null,
      "padding": null,
      "right": null,
      "top": null,
      "visibility": null,
      "width": null
     }
    },
    "74d74da072a44a7db20085c80082c8fb": {
     "model_module": "@jupyter-widgets/controls",
     "model_name": "HTMLModel",
     "state": {
      "_dom_classes": [],
      "_model_module": "@jupyter-widgets/controls",
      "_model_module_version": "1.5.0",
      "_model_name": "HTMLModel",
      "_view_count": null,
      "_view_module": "@jupyter-widgets/controls",
      "_view_module_version": "1.5.0",
      "_view_name": "HTMLView",
      "description": "",
      "description_tooltip": null,
      "layout": "IPY_MODEL_6f6265a0798e4ae3839a19f0e64044de",
      "placeholder": "​",
      "style": "IPY_MODEL_cf196bb356d14f839d1072a9e39ceacb",
      "value": " 1670/1670 [1:34:47&lt;00:00,  3.41s/it]"
     }
    },
    "786ae9a695214af481f61e49cb762a67": {
     "model_module": "@jupyter-widgets/controls",
     "model_name": "HBoxModel",
     "state": {
      "_dom_classes": [],
      "_model_module": "@jupyter-widgets/controls",
      "_model_module_version": "1.5.0",
      "_model_name": "HBoxModel",
      "_view_count": null,
      "_view_module": "@jupyter-widgets/controls",
      "_view_module_version": "1.5.0",
      "_view_name": "HBoxView",
      "box_style": "",
      "children": [
       "IPY_MODEL_c8b4a8310a8245869e8f81c5f2080df6",
       "IPY_MODEL_52238d9cda454e98a83b1678c5ac9f9d",
       "IPY_MODEL_fd697e1dd07b4301abd4b39d0fd2ee03"
      ],
      "layout": "IPY_MODEL_8c99e2b767224ffb829e3c950eef341b"
     }
    },
    "79fc02e8e4b448a8b7aa34da40352d3d": {
     "model_module": "@jupyter-widgets/controls",
     "model_name": "FloatProgressModel",
     "state": {
      "_dom_classes": [],
      "_model_module": "@jupyter-widgets/controls",
      "_model_module_version": "1.5.0",
      "_model_name": "FloatProgressModel",
      "_view_count": null,
      "_view_module": "@jupyter-widgets/controls",
      "_view_module_version": "1.5.0",
      "_view_name": "ProgressView",
      "bar_style": "success",
      "description": "",
      "description_tooltip": null,
      "layout": "IPY_MODEL_630b235f88584e8998d32706ed34f8de",
      "max": 1670,
      "min": 0,
      "orientation": "horizontal",
      "style": "IPY_MODEL_20d48a37ecbc467abe074d86ab6a4b60",
      "value": 1670
     }
    },
    "7df71741772c4f99a0323e7a93a391ff": {
     "model_module": "@jupyter-widgets/controls",
     "model_name": "DescriptionStyleModel",
     "state": {
      "_model_module": "@jupyter-widgets/controls",
      "_model_module_version": "1.5.0",
      "_model_name": "DescriptionStyleModel",
      "_view_count": null,
      "_view_module": "@jupyter-widgets/base",
      "_view_module_version": "1.2.0",
      "_view_name": "StyleView",
      "description_width": ""
     }
    },
    "7ef964977e304bf2b0c7948e694c75aa": {
     "model_module": "@jupyter-widgets/base",
     "model_name": "LayoutModel",
     "state": {
      "_model_module": "@jupyter-widgets/base",
      "_model_module_version": "1.2.0",
      "_model_name": "LayoutModel",
      "_view_count": null,
      "_view_module": "@jupyter-widgets/base",
      "_view_module_version": "1.2.0",
      "_view_name": "LayoutView",
      "align_content": null,
      "align_items": null,
      "align_self": null,
      "border": null,
      "bottom": null,
      "display": null,
      "flex": null,
      "flex_flow": null,
      "grid_area": null,
      "grid_auto_columns": null,
      "grid_auto_flow": null,
      "grid_auto_rows": null,
      "grid_column": null,
      "grid_gap": null,
      "grid_row": null,
      "grid_template_areas": null,
      "grid_template_columns": null,
      "grid_template_rows": null,
      "height": null,
      "justify_content": null,
      "justify_items": null,
      "left": null,
      "margin": null,
      "max_height": null,
      "max_width": null,
      "min_height": null,
      "min_width": null,
      "object_fit": null,
      "object_position": null,
      "order": null,
      "overflow": null,
      "overflow_x": null,
      "overflow_y": null,
      "padding": null,
      "right": null,
      "top": null,
      "visibility": null,
      "width": null
     }
    },
    "893e92d3a28c4455bc64290f780ff9cc": {
     "model_module": "@jupyter-widgets/controls",
     "model_name": "HBoxModel",
     "state": {
      "_dom_classes": [],
      "_model_module": "@jupyter-widgets/controls",
      "_model_module_version": "1.5.0",
      "_model_name": "HBoxModel",
      "_view_count": null,
      "_view_module": "@jupyter-widgets/controls",
      "_view_module_version": "1.5.0",
      "_view_name": "HBoxView",
      "box_style": "",
      "children": [
       "IPY_MODEL_22739792021042a9ad5ffcd7ea22fee6",
       "IPY_MODEL_cc70cc053ad74f98ac1b3e54506e6fc1",
       "IPY_MODEL_9e43c5fa01fc4f0b88232bb0bacf325d"
      ],
      "layout": "IPY_MODEL_3a221026bccd49a3ac2598009dac1717"
     }
    },
    "8ac81cc8813143dd88c79feeb0e37e39": {
     "model_module": "@jupyter-widgets/controls",
     "model_name": "HTMLModel",
     "state": {
      "_dom_classes": [],
      "_model_module": "@jupyter-widgets/controls",
      "_model_module_version": "1.5.0",
      "_model_name": "HTMLModel",
      "_view_count": null,
      "_view_module": "@jupyter-widgets/controls",
      "_view_module_version": "1.5.0",
      "_view_name": "HTMLView",
      "description": "",
      "description_tooltip": null,
      "layout": "IPY_MODEL_bb21803b9cb5461aa6a49159c5cc3fb6",
      "placeholder": "​",
      "style": "IPY_MODEL_af8eb84cd6a047ffb5908bd1ed2689ed",
      "value": "100%"
     }
    },
    "8c99e2b767224ffb829e3c950eef341b": {
     "model_module": "@jupyter-widgets/base",
     "model_name": "LayoutModel",
     "state": {
      "_model_module": "@jupyter-widgets/base",
      "_model_module_version": "1.2.0",
      "_model_name": "LayoutModel",
      "_view_count": null,
      "_view_module": "@jupyter-widgets/base",
      "_view_module_version": "1.2.0",
      "_view_name": "LayoutView",
      "align_content": null,
      "align_items": null,
      "align_self": null,
      "border": null,
      "bottom": null,
      "display": null,
      "flex": null,
      "flex_flow": null,
      "grid_area": null,
      "grid_auto_columns": null,
      "grid_auto_flow": null,
      "grid_auto_rows": null,
      "grid_column": null,
      "grid_gap": null,
      "grid_row": null,
      "grid_template_areas": null,
      "grid_template_columns": null,
      "grid_template_rows": null,
      "height": null,
      "justify_content": null,
      "justify_items": null,
      "left": null,
      "margin": null,
      "max_height": null,
      "max_width": null,
      "min_height": null,
      "min_width": null,
      "object_fit": null,
      "object_position": null,
      "order": null,
      "overflow": null,
      "overflow_x": null,
      "overflow_y": null,
      "padding": null,
      "right": null,
      "top": null,
      "visibility": null,
      "width": null
     }
    },
    "8d04bc8b7d01474d986060876ebdd286": {
     "model_module": "@jupyter-widgets/base",
     "model_name": "LayoutModel",
     "state": {
      "_model_module": "@jupyter-widgets/base",
      "_model_module_version": "1.2.0",
      "_model_name": "LayoutModel",
      "_view_count": null,
      "_view_module": "@jupyter-widgets/base",
      "_view_module_version": "1.2.0",
      "_view_name": "LayoutView",
      "align_content": null,
      "align_items": null,
      "align_self": null,
      "border": null,
      "bottom": null,
      "display": null,
      "flex": null,
      "flex_flow": null,
      "grid_area": null,
      "grid_auto_columns": null,
      "grid_auto_flow": null,
      "grid_auto_rows": null,
      "grid_column": null,
      "grid_gap": null,
      "grid_row": null,
      "grid_template_areas": null,
      "grid_template_columns": null,
      "grid_template_rows": null,
      "height": null,
      "justify_content": null,
      "justify_items": null,
      "left": null,
      "margin": null,
      "max_height": null,
      "max_width": null,
      "min_height": null,
      "min_width": null,
      "object_fit": null,
      "object_position": null,
      "order": null,
      "overflow": null,
      "overflow_x": null,
      "overflow_y": null,
      "padding": null,
      "right": null,
      "top": null,
      "visibility": null,
      "width": null
     }
    },
    "8e0ccd0b2a1d4c5eb52cc29f95754ac0": {
     "model_module": "@jupyter-widgets/controls",
     "model_name": "FloatProgressModel",
     "state": {
      "_dom_classes": [],
      "_model_module": "@jupyter-widgets/controls",
      "_model_module_version": "1.5.0",
      "_model_name": "FloatProgressModel",
      "_view_count": null,
      "_view_module": "@jupyter-widgets/controls",
      "_view_module_version": "1.5.0",
      "_view_name": "ProgressView",
      "bar_style": "success",
      "description": "",
      "description_tooltip": null,
      "layout": "IPY_MODEL_5cc951888bfc45b485aeefa92c92e3e1",
      "max": 1670,
      "min": 0,
      "orientation": "horizontal",
      "style": "IPY_MODEL_e3efd41b642847298a7f7e679b15f9ac",
      "value": 1670
     }
    },
    "8fa62bdee6f14e2fa59bc3b4852f94f6": {
     "model_module": "@jupyter-widgets/controls",
     "model_name": "HBoxModel",
     "state": {
      "_dom_classes": [],
      "_model_module": "@jupyter-widgets/controls",
      "_model_module_version": "1.5.0",
      "_model_name": "HBoxModel",
      "_view_count": null,
      "_view_module": "@jupyter-widgets/controls",
      "_view_module_version": "1.5.0",
      "_view_name": "HBoxView",
      "box_style": "",
      "children": [
       "IPY_MODEL_f1da887358ca43219a83979a4de05e49",
       "IPY_MODEL_631b991af5c846e191651e05206c2751",
       "IPY_MODEL_4afe29bf63514970935c4fb894c0474f"
      ],
      "layout": "IPY_MODEL_248c347f67e6436fbeec3947cb8cc035"
     }
    },
    "9061cc2356ac42809e5e570a9b0a0a46": {
     "model_module": "@jupyter-widgets/controls",
     "model_name": "DescriptionStyleModel",
     "state": {
      "_model_module": "@jupyter-widgets/controls",
      "_model_module_version": "1.5.0",
      "_model_name": "DescriptionStyleModel",
      "_view_count": null,
      "_view_module": "@jupyter-widgets/base",
      "_view_module_version": "1.2.0",
      "_view_name": "StyleView",
      "description_width": ""
     }
    },
    "91e02e12cd3d4483bbd5c04135a317e2": {
     "model_module": "@jupyter-widgets/controls",
     "model_name": "DescriptionStyleModel",
     "state": {
      "_model_module": "@jupyter-widgets/controls",
      "_model_module_version": "1.5.0",
      "_model_name": "DescriptionStyleModel",
      "_view_count": null,
      "_view_module": "@jupyter-widgets/base",
      "_view_module_version": "1.2.0",
      "_view_name": "StyleView",
      "description_width": ""
     }
    },
    "993616c281724c8ca60629099e402f93": {
     "model_module": "@jupyter-widgets/controls",
     "model_name": "FloatProgressModel",
     "state": {
      "_dom_classes": [],
      "_model_module": "@jupyter-widgets/controls",
      "_model_module_version": "1.5.0",
      "_model_name": "FloatProgressModel",
      "_view_count": null,
      "_view_module": "@jupyter-widgets/controls",
      "_view_module_version": "1.5.0",
      "_view_name": "ProgressView",
      "bar_style": "success",
      "description": "",
      "description_tooltip": null,
      "layout": "IPY_MODEL_be2dbefa81a4446e920d6349ce5a25fa",
      "max": 1670,
      "min": 0,
      "orientation": "horizontal",
      "style": "IPY_MODEL_01b82b89b9674b7084d0d7951e8654cb",
      "value": 1670
     }
    },
    "9c11e40551c24fc0b84055059a7139ae": {
     "model_module": "@jupyter-widgets/base",
     "model_name": "LayoutModel",
     "state": {
      "_model_module": "@jupyter-widgets/base",
      "_model_module_version": "1.2.0",
      "_model_name": "LayoutModel",
      "_view_count": null,
      "_view_module": "@jupyter-widgets/base",
      "_view_module_version": "1.2.0",
      "_view_name": "LayoutView",
      "align_content": null,
      "align_items": null,
      "align_self": null,
      "border": null,
      "bottom": null,
      "display": null,
      "flex": null,
      "flex_flow": null,
      "grid_area": null,
      "grid_auto_columns": null,
      "grid_auto_flow": null,
      "grid_auto_rows": null,
      "grid_column": null,
      "grid_gap": null,
      "grid_row": null,
      "grid_template_areas": null,
      "grid_template_columns": null,
      "grid_template_rows": null,
      "height": null,
      "justify_content": null,
      "justify_items": null,
      "left": null,
      "margin": null,
      "max_height": null,
      "max_width": null,
      "min_height": null,
      "min_width": null,
      "object_fit": null,
      "object_position": null,
      "order": null,
      "overflow": null,
      "overflow_x": null,
      "overflow_y": null,
      "padding": null,
      "right": null,
      "top": null,
      "visibility": null,
      "width": null
     }
    },
    "9dc02b0b70264d6bb918d16235f4de86": {
     "model_module": "@jupyter-widgets/base",
     "model_name": "LayoutModel",
     "state": {
      "_model_module": "@jupyter-widgets/base",
      "_model_module_version": "1.2.0",
      "_model_name": "LayoutModel",
      "_view_count": null,
      "_view_module": "@jupyter-widgets/base",
      "_view_module_version": "1.2.0",
      "_view_name": "LayoutView",
      "align_content": null,
      "align_items": null,
      "align_self": null,
      "border": null,
      "bottom": null,
      "display": null,
      "flex": null,
      "flex_flow": null,
      "grid_area": null,
      "grid_auto_columns": null,
      "grid_auto_flow": null,
      "grid_auto_rows": null,
      "grid_column": null,
      "grid_gap": null,
      "grid_row": null,
      "grid_template_areas": null,
      "grid_template_columns": null,
      "grid_template_rows": null,
      "height": null,
      "justify_content": null,
      "justify_items": null,
      "left": null,
      "margin": null,
      "max_height": null,
      "max_width": null,
      "min_height": null,
      "min_width": null,
      "object_fit": null,
      "object_position": null,
      "order": null,
      "overflow": null,
      "overflow_x": null,
      "overflow_y": null,
      "padding": null,
      "right": null,
      "top": null,
      "visibility": null,
      "width": null
     }
    },
    "9e43c5fa01fc4f0b88232bb0bacf325d": {
     "model_module": "@jupyter-widgets/controls",
     "model_name": "HTMLModel",
     "state": {
      "_dom_classes": [],
      "_model_module": "@jupyter-widgets/controls",
      "_model_module_version": "1.5.0",
      "_model_name": "HTMLModel",
      "_view_count": null,
      "_view_module": "@jupyter-widgets/controls",
      "_view_module_version": "1.5.0",
      "_view_name": "HTMLView",
      "description": "",
      "description_tooltip": null,
      "layout": "IPY_MODEL_eb9264d5f02d4cf8b704c372d5043e23",
      "placeholder": "​",
      "style": "IPY_MODEL_647256962afa4989bedb290545411f24",
      "value": " 186/186 [01:31&lt;00:00,  2.03it/s]"
     }
    },
    "a02f859d12ba4d3d98e79f7364b73347": {
     "model_module": "@jupyter-widgets/base",
     "model_name": "LayoutModel",
     "state": {
      "_model_module": "@jupyter-widgets/base",
      "_model_module_version": "1.2.0",
      "_model_name": "LayoutModel",
      "_view_count": null,
      "_view_module": "@jupyter-widgets/base",
      "_view_module_version": "1.2.0",
      "_view_name": "LayoutView",
      "align_content": null,
      "align_items": null,
      "align_self": null,
      "border": null,
      "bottom": null,
      "display": null,
      "flex": null,
      "flex_flow": null,
      "grid_area": null,
      "grid_auto_columns": null,
      "grid_auto_flow": null,
      "grid_auto_rows": null,
      "grid_column": null,
      "grid_gap": null,
      "grid_row": null,
      "grid_template_areas": null,
      "grid_template_columns": null,
      "grid_template_rows": null,
      "height": null,
      "justify_content": null,
      "justify_items": null,
      "left": null,
      "margin": null,
      "max_height": null,
      "max_width": null,
      "min_height": null,
      "min_width": null,
      "object_fit": null,
      "object_position": null,
      "order": null,
      "overflow": null,
      "overflow_x": null,
      "overflow_y": null,
      "padding": null,
      "right": null,
      "top": null,
      "visibility": null,
      "width": null
     }
    },
    "a0774fb2a9f644c881bd33b9e0a6293e": {
     "model_module": "@jupyter-widgets/controls",
     "model_name": "HTMLModel",
     "state": {
      "_dom_classes": [],
      "_model_module": "@jupyter-widgets/controls",
      "_model_module_version": "1.5.0",
      "_model_name": "HTMLModel",
      "_view_count": null,
      "_view_module": "@jupyter-widgets/controls",
      "_view_module_version": "1.5.0",
      "_view_name": "HTMLView",
      "description": "",
      "description_tooltip": null,
      "layout": "IPY_MODEL_8d04bc8b7d01474d986060876ebdd286",
      "placeholder": "​",
      "style": "IPY_MODEL_acb312f8e05744efab35fdd24c9c4a49",
      "value": " 1670/1670 [55:28&lt;00:00,  1.99s/it]"
     }
    },
    "a187b61e99c74d69a863ac0865b639c8": {
     "model_module": "@jupyter-widgets/controls",
     "model_name": "ProgressStyleModel",
     "state": {
      "_model_module": "@jupyter-widgets/controls",
      "_model_module_version": "1.5.0",
      "_model_name": "ProgressStyleModel",
      "_view_count": null,
      "_view_module": "@jupyter-widgets/base",
      "_view_module_version": "1.2.0",
      "_view_name": "StyleView",
      "bar_color": null,
      "description_width": ""
     }
    },
    "a1b7858a93dc4158bc7315246b4ca608": {
     "model_module": "@jupyter-widgets/controls",
     "model_name": "DescriptionStyleModel",
     "state": {
      "_model_module": "@jupyter-widgets/controls",
      "_model_module_version": "1.5.0",
      "_model_name": "DescriptionStyleModel",
      "_view_count": null,
      "_view_module": "@jupyter-widgets/base",
      "_view_module_version": "1.2.0",
      "_view_name": "StyleView",
      "description_width": ""
     }
    },
    "a1dd4e5b17f5469291c7ef92036281ac": {
     "model_module": "@jupyter-widgets/controls",
     "model_name": "HBoxModel",
     "state": {
      "_dom_classes": [],
      "_model_module": "@jupyter-widgets/controls",
      "_model_module_version": "1.5.0",
      "_model_name": "HBoxModel",
      "_view_count": null,
      "_view_module": "@jupyter-widgets/controls",
      "_view_module_version": "1.5.0",
      "_view_name": "HBoxView",
      "box_style": "",
      "children": [
       "IPY_MODEL_d4029dac7ba4467ca404e75d01a0f554",
       "IPY_MODEL_5cfdd460e9cc45b6ae733f13d435cd5a",
       "IPY_MODEL_bc3d2367ff39459494110a30ed6de93a"
      ],
      "layout": "IPY_MODEL_11984f38592442e0bbb2e7dea1ea8824"
     }
    },
    "a76bd2bb0d564c44be43f2d459f4a6d7": {
     "model_module": "@jupyter-widgets/base",
     "model_name": "LayoutModel",
     "state": {
      "_model_module": "@jupyter-widgets/base",
      "_model_module_version": "1.2.0",
      "_model_name": "LayoutModel",
      "_view_count": null,
      "_view_module": "@jupyter-widgets/base",
      "_view_module_version": "1.2.0",
      "_view_name": "LayoutView",
      "align_content": null,
      "align_items": null,
      "align_self": null,
      "border": null,
      "bottom": null,
      "display": null,
      "flex": null,
      "flex_flow": null,
      "grid_area": null,
      "grid_auto_columns": null,
      "grid_auto_flow": null,
      "grid_auto_rows": null,
      "grid_column": null,
      "grid_gap": null,
      "grid_row": null,
      "grid_template_areas": null,
      "grid_template_columns": null,
      "grid_template_rows": null,
      "height": null,
      "justify_content": null,
      "justify_items": null,
      "left": null,
      "margin": null,
      "max_height": null,
      "max_width": null,
      "min_height": null,
      "min_width": null,
      "object_fit": null,
      "object_position": null,
      "order": null,
      "overflow": null,
      "overflow_x": null,
      "overflow_y": null,
      "padding": null,
      "right": null,
      "top": null,
      "visibility": null,
      "width": null
     }
    },
    "a8c53530a4514673be58090234e7748f": {
     "model_module": "@jupyter-widgets/base",
     "model_name": "LayoutModel",
     "state": {
      "_model_module": "@jupyter-widgets/base",
      "_model_module_version": "1.2.0",
      "_model_name": "LayoutModel",
      "_view_count": null,
      "_view_module": "@jupyter-widgets/base",
      "_view_module_version": "1.2.0",
      "_view_name": "LayoutView",
      "align_content": null,
      "align_items": null,
      "align_self": null,
      "border": null,
      "bottom": null,
      "display": null,
      "flex": null,
      "flex_flow": null,
      "grid_area": null,
      "grid_auto_columns": null,
      "grid_auto_flow": null,
      "grid_auto_rows": null,
      "grid_column": null,
      "grid_gap": null,
      "grid_row": null,
      "grid_template_areas": null,
      "grid_template_columns": null,
      "grid_template_rows": null,
      "height": null,
      "justify_content": null,
      "justify_items": null,
      "left": null,
      "margin": null,
      "max_height": null,
      "max_width": null,
      "min_height": null,
      "min_width": null,
      "object_fit": null,
      "object_position": null,
      "order": null,
      "overflow": null,
      "overflow_x": null,
      "overflow_y": null,
      "padding": null,
      "right": null,
      "top": null,
      "visibility": null,
      "width": null
     }
    },
    "ac905a56ef4c4e91af54a05b051e4cbf": {
     "model_module": "@jupyter-widgets/controls",
     "model_name": "DescriptionStyleModel",
     "state": {
      "_model_module": "@jupyter-widgets/controls",
      "_model_module_version": "1.5.0",
      "_model_name": "DescriptionStyleModel",
      "_view_count": null,
      "_view_module": "@jupyter-widgets/base",
      "_view_module_version": "1.2.0",
      "_view_name": "StyleView",
      "description_width": ""
     }
    },
    "acb312f8e05744efab35fdd24c9c4a49": {
     "model_module": "@jupyter-widgets/controls",
     "model_name": "DescriptionStyleModel",
     "state": {
      "_model_module": "@jupyter-widgets/controls",
      "_model_module_version": "1.5.0",
      "_model_name": "DescriptionStyleModel",
      "_view_count": null,
      "_view_module": "@jupyter-widgets/base",
      "_view_module_version": "1.2.0",
      "_view_name": "StyleView",
      "description_width": ""
     }
    },
    "af8eb84cd6a047ffb5908bd1ed2689ed": {
     "model_module": "@jupyter-widgets/controls",
     "model_name": "DescriptionStyleModel",
     "state": {
      "_model_module": "@jupyter-widgets/controls",
      "_model_module_version": "1.5.0",
      "_model_name": "DescriptionStyleModel",
      "_view_count": null,
      "_view_module": "@jupyter-widgets/base",
      "_view_module_version": "1.2.0",
      "_view_name": "StyleView",
      "description_width": ""
     }
    },
    "b3a7bb94a93d4c2e815af57d5825439c": {
     "model_module": "@jupyter-widgets/controls",
     "model_name": "HTMLModel",
     "state": {
      "_dom_classes": [],
      "_model_module": "@jupyter-widgets/controls",
      "_model_module_version": "1.5.0",
      "_model_name": "HTMLModel",
      "_view_count": null,
      "_view_module": "@jupyter-widgets/controls",
      "_view_module_version": "1.5.0",
      "_view_name": "HTMLView",
      "description": "",
      "description_tooltip": null,
      "layout": "IPY_MODEL_4417ee98d09b4abdbea261e83c3bd95a",
      "placeholder": "​",
      "style": "IPY_MODEL_da2db46754d04c63a439e42017794977",
      "value": " 1670/1670 [2:14:04&lt;00:00,  4.82s/it]"
     }
    },
    "bb21803b9cb5461aa6a49159c5cc3fb6": {
     "model_module": "@jupyter-widgets/base",
     "model_name": "LayoutModel",
     "state": {
      "_model_module": "@jupyter-widgets/base",
      "_model_module_version": "1.2.0",
      "_model_name": "LayoutModel",
      "_view_count": null,
      "_view_module": "@jupyter-widgets/base",
      "_view_module_version": "1.2.0",
      "_view_name": "LayoutView",
      "align_content": null,
      "align_items": null,
      "align_self": null,
      "border": null,
      "bottom": null,
      "display": null,
      "flex": null,
      "flex_flow": null,
      "grid_area": null,
      "grid_auto_columns": null,
      "grid_auto_flow": null,
      "grid_auto_rows": null,
      "grid_column": null,
      "grid_gap": null,
      "grid_row": null,
      "grid_template_areas": null,
      "grid_template_columns": null,
      "grid_template_rows": null,
      "height": null,
      "justify_content": null,
      "justify_items": null,
      "left": null,
      "margin": null,
      "max_height": null,
      "max_width": null,
      "min_height": null,
      "min_width": null,
      "object_fit": null,
      "object_position": null,
      "order": null,
      "overflow": null,
      "overflow_x": null,
      "overflow_y": null,
      "padding": null,
      "right": null,
      "top": null,
      "visibility": null,
      "width": null
     }
    },
    "bc3d2367ff39459494110a30ed6de93a": {
     "model_module": "@jupyter-widgets/controls",
     "model_name": "HTMLModel",
     "state": {
      "_dom_classes": [],
      "_model_module": "@jupyter-widgets/controls",
      "_model_module_version": "1.5.0",
      "_model_name": "HTMLModel",
      "_view_count": null,
      "_view_module": "@jupyter-widgets/controls",
      "_view_module_version": "1.5.0",
      "_view_name": "HTMLView",
      "description": "",
      "description_tooltip": null,
      "layout": "IPY_MODEL_ecbda474938d49c6983a25210f53a9c6",
      "placeholder": "​",
      "style": "IPY_MODEL_31b029d95a284c4585d29b6694afa866",
      "value": " 1670/1670 [2:53:25&lt;00:00,  6.23s/it]"
     }
    },
    "be2dbefa81a4446e920d6349ce5a25fa": {
     "model_module": "@jupyter-widgets/base",
     "model_name": "LayoutModel",
     "state": {
      "_model_module": "@jupyter-widgets/base",
      "_model_module_version": "1.2.0",
      "_model_name": "LayoutModel",
      "_view_count": null,
      "_view_module": "@jupyter-widgets/base",
      "_view_module_version": "1.2.0",
      "_view_name": "LayoutView",
      "align_content": null,
      "align_items": null,
      "align_self": null,
      "border": null,
      "bottom": null,
      "display": null,
      "flex": null,
      "flex_flow": null,
      "grid_area": null,
      "grid_auto_columns": null,
      "grid_auto_flow": null,
      "grid_auto_rows": null,
      "grid_column": null,
      "grid_gap": null,
      "grid_row": null,
      "grid_template_areas": null,
      "grid_template_columns": null,
      "grid_template_rows": null,
      "height": null,
      "justify_content": null,
      "justify_items": null,
      "left": null,
      "margin": null,
      "max_height": null,
      "max_width": null,
      "min_height": null,
      "min_width": null,
      "object_fit": null,
      "object_position": null,
      "order": null,
      "overflow": null,
      "overflow_x": null,
      "overflow_y": null,
      "padding": null,
      "right": null,
      "top": null,
      "visibility": null,
      "width": null
     }
    },
    "bf9834bc73f64df39202d6aca6c189a7": {
     "model_module": "@jupyter-widgets/base",
     "model_name": "LayoutModel",
     "state": {
      "_model_module": "@jupyter-widgets/base",
      "_model_module_version": "1.2.0",
      "_model_name": "LayoutModel",
      "_view_count": null,
      "_view_module": "@jupyter-widgets/base",
      "_view_module_version": "1.2.0",
      "_view_name": "LayoutView",
      "align_content": null,
      "align_items": null,
      "align_self": null,
      "border": null,
      "bottom": null,
      "display": null,
      "flex": null,
      "flex_flow": null,
      "grid_area": null,
      "grid_auto_columns": null,
      "grid_auto_flow": null,
      "grid_auto_rows": null,
      "grid_column": null,
      "grid_gap": null,
      "grid_row": null,
      "grid_template_areas": null,
      "grid_template_columns": null,
      "grid_template_rows": null,
      "height": null,
      "justify_content": null,
      "justify_items": null,
      "left": null,
      "margin": null,
      "max_height": null,
      "max_width": null,
      "min_height": null,
      "min_width": null,
      "object_fit": null,
      "object_position": null,
      "order": null,
      "overflow": null,
      "overflow_x": null,
      "overflow_y": null,
      "padding": null,
      "right": null,
      "top": null,
      "visibility": null,
      "width": null
     }
    },
    "bfedc5b60fe04bd8bc46be6c2767611d": {
     "model_module": "@jupyter-widgets/base",
     "model_name": "LayoutModel",
     "state": {
      "_model_module": "@jupyter-widgets/base",
      "_model_module_version": "1.2.0",
      "_model_name": "LayoutModel",
      "_view_count": null,
      "_view_module": "@jupyter-widgets/base",
      "_view_module_version": "1.2.0",
      "_view_name": "LayoutView",
      "align_content": null,
      "align_items": null,
      "align_self": null,
      "border": null,
      "bottom": null,
      "display": null,
      "flex": null,
      "flex_flow": null,
      "grid_area": null,
      "grid_auto_columns": null,
      "grid_auto_flow": null,
      "grid_auto_rows": null,
      "grid_column": null,
      "grid_gap": null,
      "grid_row": null,
      "grid_template_areas": null,
      "grid_template_columns": null,
      "grid_template_rows": null,
      "height": null,
      "justify_content": null,
      "justify_items": null,
      "left": null,
      "margin": null,
      "max_height": null,
      "max_width": null,
      "min_height": null,
      "min_width": null,
      "object_fit": null,
      "object_position": null,
      "order": null,
      "overflow": null,
      "overflow_x": null,
      "overflow_y": null,
      "padding": null,
      "right": null,
      "top": null,
      "visibility": null,
      "width": null
     }
    },
    "c41b11a61f00412285f81f02a08bcd1a": {
     "model_module": "@jupyter-widgets/controls",
     "model_name": "DescriptionStyleModel",
     "state": {
      "_model_module": "@jupyter-widgets/controls",
      "_model_module_version": "1.5.0",
      "_model_name": "DescriptionStyleModel",
      "_view_count": null,
      "_view_module": "@jupyter-widgets/base",
      "_view_module_version": "1.2.0",
      "_view_name": "StyleView",
      "description_width": ""
     }
    },
    "c5d041b787ec405aba9812a47414a126": {
     "model_module": "@jupyter-widgets/base",
     "model_name": "LayoutModel",
     "state": {
      "_model_module": "@jupyter-widgets/base",
      "_model_module_version": "1.2.0",
      "_model_name": "LayoutModel",
      "_view_count": null,
      "_view_module": "@jupyter-widgets/base",
      "_view_module_version": "1.2.0",
      "_view_name": "LayoutView",
      "align_content": null,
      "align_items": null,
      "align_self": null,
      "border": null,
      "bottom": null,
      "display": null,
      "flex": null,
      "flex_flow": null,
      "grid_area": null,
      "grid_auto_columns": null,
      "grid_auto_flow": null,
      "grid_auto_rows": null,
      "grid_column": null,
      "grid_gap": null,
      "grid_row": null,
      "grid_template_areas": null,
      "grid_template_columns": null,
      "grid_template_rows": null,
      "height": null,
      "justify_content": null,
      "justify_items": null,
      "left": null,
      "margin": null,
      "max_height": null,
      "max_width": null,
      "min_height": null,
      "min_width": null,
      "object_fit": null,
      "object_position": null,
      "order": null,
      "overflow": null,
      "overflow_x": null,
      "overflow_y": null,
      "padding": null,
      "right": null,
      "top": null,
      "visibility": null,
      "width": null
     }
    },
    "c8b4a8310a8245869e8f81c5f2080df6": {
     "model_module": "@jupyter-widgets/controls",
     "model_name": "HTMLModel",
     "state": {
      "_dom_classes": [],
      "_model_module": "@jupyter-widgets/controls",
      "_model_module_version": "1.5.0",
      "_model_name": "HTMLModel",
      "_view_count": null,
      "_view_module": "@jupyter-widgets/controls",
      "_view_module_version": "1.5.0",
      "_view_name": "HTMLView",
      "description": "",
      "description_tooltip": null,
      "layout": "IPY_MODEL_c5d041b787ec405aba9812a47414a126",
      "placeholder": "​",
      "style": "IPY_MODEL_418b19bc0e7a4e59800de4e861e96591",
      "value": "100%"
     }
    },
    "c98a2981eac541e4835881a08f7c7850": {
     "model_module": "@jupyter-widgets/controls",
     "model_name": "HBoxModel",
     "state": {
      "_dom_classes": [],
      "_model_module": "@jupyter-widgets/controls",
      "_model_module_version": "1.5.0",
      "_model_name": "HBoxModel",
      "_view_count": null,
      "_view_module": "@jupyter-widgets/controls",
      "_view_module_version": "1.5.0",
      "_view_name": "HBoxView",
      "box_style": "",
      "children": [
       "IPY_MODEL_11deed0df886450c907a6d223cd9553e",
       "IPY_MODEL_8e0ccd0b2a1d4c5eb52cc29f95754ac0",
       "IPY_MODEL_dfead09f90084ec0be3359901ed5c11f"
      ],
      "layout": "IPY_MODEL_a8c53530a4514673be58090234e7748f"
     }
    },
    "ca7c3da9848642e399e0109d494a02a3": {
     "model_module": "@jupyter-widgets/controls",
     "model_name": "DescriptionStyleModel",
     "state": {
      "_model_module": "@jupyter-widgets/controls",
      "_model_module_version": "1.5.0",
      "_model_name": "DescriptionStyleModel",
      "_view_count": null,
      "_view_module": "@jupyter-widgets/base",
      "_view_module_version": "1.2.0",
      "_view_name": "StyleView",
      "description_width": ""
     }
    },
    "cb467482b582470899bfca4fa318162f": {
     "model_module": "@jupyter-widgets/controls",
     "model_name": "ProgressStyleModel",
     "state": {
      "_model_module": "@jupyter-widgets/controls",
      "_model_module_version": "1.5.0",
      "_model_name": "ProgressStyleModel",
      "_view_count": null,
      "_view_module": "@jupyter-widgets/base",
      "_view_module_version": "1.2.0",
      "_view_name": "StyleView",
      "bar_color": null,
      "description_width": ""
     }
    },
    "cc70cc053ad74f98ac1b3e54506e6fc1": {
     "model_module": "@jupyter-widgets/controls",
     "model_name": "FloatProgressModel",
     "state": {
      "_dom_classes": [],
      "_model_module": "@jupyter-widgets/controls",
      "_model_module_version": "1.5.0",
      "_model_name": "FloatProgressModel",
      "_view_count": null,
      "_view_module": "@jupyter-widgets/controls",
      "_view_module_version": "1.5.0",
      "_view_name": "ProgressView",
      "bar_style": "success",
      "description": "",
      "description_tooltip": null,
      "layout": "IPY_MODEL_d624cd583dcc43c8b664a5a0a8ccfe89",
      "max": 186,
      "min": 0,
      "orientation": "horizontal",
      "style": "IPY_MODEL_352240d649644a37a5cfa7c46c9247c1",
      "value": 186
     }
    },
    "cda846bb16a04cbeb60e7b7d642fe132": {
     "model_module": "@jupyter-widgets/controls",
     "model_name": "DescriptionStyleModel",
     "state": {
      "_model_module": "@jupyter-widgets/controls",
      "_model_module_version": "1.5.0",
      "_model_name": "DescriptionStyleModel",
      "_view_count": null,
      "_view_module": "@jupyter-widgets/base",
      "_view_module_version": "1.2.0",
      "_view_name": "StyleView",
      "description_width": ""
     }
    },
    "cf196bb356d14f839d1072a9e39ceacb": {
     "model_module": "@jupyter-widgets/controls",
     "model_name": "DescriptionStyleModel",
     "state": {
      "_model_module": "@jupyter-widgets/controls",
      "_model_module_version": "1.5.0",
      "_model_name": "DescriptionStyleModel",
      "_view_count": null,
      "_view_module": "@jupyter-widgets/base",
      "_view_module_version": "1.2.0",
      "_view_name": "StyleView",
      "description_width": ""
     }
    },
    "d197517168c74c95b39f03de4c430dbc": {
     "model_module": "@jupyter-widgets/base",
     "model_name": "LayoutModel",
     "state": {
      "_model_module": "@jupyter-widgets/base",
      "_model_module_version": "1.2.0",
      "_model_name": "LayoutModel",
      "_view_count": null,
      "_view_module": "@jupyter-widgets/base",
      "_view_module_version": "1.2.0",
      "_view_name": "LayoutView",
      "align_content": null,
      "align_items": null,
      "align_self": null,
      "border": null,
      "bottom": null,
      "display": null,
      "flex": null,
      "flex_flow": null,
      "grid_area": null,
      "grid_auto_columns": null,
      "grid_auto_flow": null,
      "grid_auto_rows": null,
      "grid_column": null,
      "grid_gap": null,
      "grid_row": null,
      "grid_template_areas": null,
      "grid_template_columns": null,
      "grid_template_rows": null,
      "height": null,
      "justify_content": null,
      "justify_items": null,
      "left": null,
      "margin": null,
      "max_height": null,
      "max_width": null,
      "min_height": null,
      "min_width": null,
      "object_fit": null,
      "object_position": null,
      "order": null,
      "overflow": null,
      "overflow_x": null,
      "overflow_y": null,
      "padding": null,
      "right": null,
      "top": null,
      "visibility": null,
      "width": null
     }
    },
    "d4029dac7ba4467ca404e75d01a0f554": {
     "model_module": "@jupyter-widgets/controls",
     "model_name": "HTMLModel",
     "state": {
      "_dom_classes": [],
      "_model_module": "@jupyter-widgets/controls",
      "_model_module_version": "1.5.0",
      "_model_name": "HTMLModel",
      "_view_count": null,
      "_view_module": "@jupyter-widgets/controls",
      "_view_module_version": "1.5.0",
      "_view_name": "HTMLView",
      "description": "",
      "description_tooltip": null,
      "layout": "IPY_MODEL_3a2b1e5909754794b92c5a8721078bb4",
      "placeholder": "​",
      "style": "IPY_MODEL_43a1bf9349e644318db2baec08de544f",
      "value": "100%"
     }
    },
    "d624cd583dcc43c8b664a5a0a8ccfe89": {
     "model_module": "@jupyter-widgets/base",
     "model_name": "LayoutModel",
     "state": {
      "_model_module": "@jupyter-widgets/base",
      "_model_module_version": "1.2.0",
      "_model_name": "LayoutModel",
      "_view_count": null,
      "_view_module": "@jupyter-widgets/base",
      "_view_module_version": "1.2.0",
      "_view_name": "LayoutView",
      "align_content": null,
      "align_items": null,
      "align_self": null,
      "border": null,
      "bottom": null,
      "display": null,
      "flex": null,
      "flex_flow": null,
      "grid_area": null,
      "grid_auto_columns": null,
      "grid_auto_flow": null,
      "grid_auto_rows": null,
      "grid_column": null,
      "grid_gap": null,
      "grid_row": null,
      "grid_template_areas": null,
      "grid_template_columns": null,
      "grid_template_rows": null,
      "height": null,
      "justify_content": null,
      "justify_items": null,
      "left": null,
      "margin": null,
      "max_height": null,
      "max_width": null,
      "min_height": null,
      "min_width": null,
      "object_fit": null,
      "object_position": null,
      "order": null,
      "overflow": null,
      "overflow_x": null,
      "overflow_y": null,
      "padding": null,
      "right": null,
      "top": null,
      "visibility": null,
      "width": null
     }
    },
    "da2db46754d04c63a439e42017794977": {
     "model_module": "@jupyter-widgets/controls",
     "model_name": "DescriptionStyleModel",
     "state": {
      "_model_module": "@jupyter-widgets/controls",
      "_model_module_version": "1.5.0",
      "_model_name": "DescriptionStyleModel",
      "_view_count": null,
      "_view_module": "@jupyter-widgets/base",
      "_view_module_version": "1.2.0",
      "_view_name": "StyleView",
      "description_width": ""
     }
    },
    "dea38f653c8d4fcbbf1ed1556bf27975": {
     "model_module": "@jupyter-widgets/base",
     "model_name": "LayoutModel",
     "state": {
      "_model_module": "@jupyter-widgets/base",
      "_model_module_version": "1.2.0",
      "_model_name": "LayoutModel",
      "_view_count": null,
      "_view_module": "@jupyter-widgets/base",
      "_view_module_version": "1.2.0",
      "_view_name": "LayoutView",
      "align_content": null,
      "align_items": null,
      "align_self": null,
      "border": null,
      "bottom": null,
      "display": null,
      "flex": null,
      "flex_flow": null,
      "grid_area": null,
      "grid_auto_columns": null,
      "grid_auto_flow": null,
      "grid_auto_rows": null,
      "grid_column": null,
      "grid_gap": null,
      "grid_row": null,
      "grid_template_areas": null,
      "grid_template_columns": null,
      "grid_template_rows": null,
      "height": null,
      "justify_content": null,
      "justify_items": null,
      "left": null,
      "margin": null,
      "max_height": null,
      "max_width": null,
      "min_height": null,
      "min_width": null,
      "object_fit": null,
      "object_position": null,
      "order": null,
      "overflow": null,
      "overflow_x": null,
      "overflow_y": null,
      "padding": null,
      "right": null,
      "top": null,
      "visibility": null,
      "width": null
     }
    },
    "df16d6f14a5f418eac2a574e12d74b93": {
     "model_module": "@jupyter-widgets/controls",
     "model_name": "DescriptionStyleModel",
     "state": {
      "_model_module": "@jupyter-widgets/controls",
      "_model_module_version": "1.5.0",
      "_model_name": "DescriptionStyleModel",
      "_view_count": null,
      "_view_module": "@jupyter-widgets/base",
      "_view_module_version": "1.2.0",
      "_view_name": "StyleView",
      "description_width": ""
     }
    },
    "dfead09f90084ec0be3359901ed5c11f": {
     "model_module": "@jupyter-widgets/controls",
     "model_name": "HTMLModel",
     "state": {
      "_dom_classes": [],
      "_model_module": "@jupyter-widgets/controls",
      "_model_module_version": "1.5.0",
      "_model_name": "HTMLModel",
      "_view_count": null,
      "_view_module": "@jupyter-widgets/controls",
      "_view_module_version": "1.5.0",
      "_view_name": "HTMLView",
      "description": "",
      "description_tooltip": null,
      "layout": "IPY_MODEL_9dc02b0b70264d6bb918d16235f4de86",
      "placeholder": "​",
      "style": "IPY_MODEL_3296e44da614494db93501ef7b3a244a",
      "value": " 1670/1670 [3:32:41&lt;00:00,  7.64s/it]"
     }
    },
    "e3efd41b642847298a7f7e679b15f9ac": {
     "model_module": "@jupyter-widgets/controls",
     "model_name": "ProgressStyleModel",
     "state": {
      "_model_module": "@jupyter-widgets/controls",
      "_model_module_version": "1.5.0",
      "_model_name": "ProgressStyleModel",
      "_view_count": null,
      "_view_module": "@jupyter-widgets/base",
      "_view_module_version": "1.2.0",
      "_view_name": "StyleView",
      "bar_color": null,
      "description_width": ""
     }
    },
    "e5556553830a4b30badd751cb548feaa": {
     "model_module": "@jupyter-widgets/base",
     "model_name": "LayoutModel",
     "state": {
      "_model_module": "@jupyter-widgets/base",
      "_model_module_version": "1.2.0",
      "_model_name": "LayoutModel",
      "_view_count": null,
      "_view_module": "@jupyter-widgets/base",
      "_view_module_version": "1.2.0",
      "_view_name": "LayoutView",
      "align_content": null,
      "align_items": null,
      "align_self": null,
      "border": null,
      "bottom": null,
      "display": null,
      "flex": null,
      "flex_flow": null,
      "grid_area": null,
      "grid_auto_columns": null,
      "grid_auto_flow": null,
      "grid_auto_rows": null,
      "grid_column": null,
      "grid_gap": null,
      "grid_row": null,
      "grid_template_areas": null,
      "grid_template_columns": null,
      "grid_template_rows": null,
      "height": null,
      "justify_content": null,
      "justify_items": null,
      "left": null,
      "margin": null,
      "max_height": null,
      "max_width": null,
      "min_height": null,
      "min_width": null,
      "object_fit": null,
      "object_position": null,
      "order": null,
      "overflow": null,
      "overflow_x": null,
      "overflow_y": null,
      "padding": null,
      "right": null,
      "top": null,
      "visibility": null,
      "width": null
     }
    },
    "e5e7af591999473c91e23bf2be486c1c": {
     "model_module": "@jupyter-widgets/controls",
     "model_name": "HTMLModel",
     "state": {
      "_dom_classes": [],
      "_model_module": "@jupyter-widgets/controls",
      "_model_module_version": "1.5.0",
      "_model_name": "HTMLModel",
      "_view_count": null,
      "_view_module": "@jupyter-widgets/controls",
      "_view_module_version": "1.5.0",
      "_view_name": "HTMLView",
      "description": "",
      "description_tooltip": null,
      "layout": "IPY_MODEL_e5556553830a4b30badd751cb548feaa",
      "placeholder": "​",
      "style": "IPY_MODEL_13f256f3b6654b6281b7669bfe9031c7",
      "value": "100%"
     }
    },
    "e70cc8fefaf7477aa8fc067df1d033a6": {
     "model_module": "@jupyter-widgets/base",
     "model_name": "LayoutModel",
     "state": {
      "_model_module": "@jupyter-widgets/base",
      "_model_module_version": "1.2.0",
      "_model_name": "LayoutModel",
      "_view_count": null,
      "_view_module": "@jupyter-widgets/base",
      "_view_module_version": "1.2.0",
      "_view_name": "LayoutView",
      "align_content": null,
      "align_items": null,
      "align_self": null,
      "border": null,
      "bottom": null,
      "display": null,
      "flex": null,
      "flex_flow": null,
      "grid_area": null,
      "grid_auto_columns": null,
      "grid_auto_flow": null,
      "grid_auto_rows": null,
      "grid_column": null,
      "grid_gap": null,
      "grid_row": null,
      "grid_template_areas": null,
      "grid_template_columns": null,
      "grid_template_rows": null,
      "height": null,
      "justify_content": null,
      "justify_items": null,
      "left": null,
      "margin": null,
      "max_height": null,
      "max_width": null,
      "min_height": null,
      "min_width": null,
      "object_fit": null,
      "object_position": null,
      "order": null,
      "overflow": null,
      "overflow_x": null,
      "overflow_y": null,
      "padding": null,
      "right": null,
      "top": null,
      "visibility": null,
      "width": null
     }
    },
    "eb9264d5f02d4cf8b704c372d5043e23": {
     "model_module": "@jupyter-widgets/base",
     "model_name": "LayoutModel",
     "state": {
      "_model_module": "@jupyter-widgets/base",
      "_model_module_version": "1.2.0",
      "_model_name": "LayoutModel",
      "_view_count": null,
      "_view_module": "@jupyter-widgets/base",
      "_view_module_version": "1.2.0",
      "_view_name": "LayoutView",
      "align_content": null,
      "align_items": null,
      "align_self": null,
      "border": null,
      "bottom": null,
      "display": null,
      "flex": null,
      "flex_flow": null,
      "grid_area": null,
      "grid_auto_columns": null,
      "grid_auto_flow": null,
      "grid_auto_rows": null,
      "grid_column": null,
      "grid_gap": null,
      "grid_row": null,
      "grid_template_areas": null,
      "grid_template_columns": null,
      "grid_template_rows": null,
      "height": null,
      "justify_content": null,
      "justify_items": null,
      "left": null,
      "margin": null,
      "max_height": null,
      "max_width": null,
      "min_height": null,
      "min_width": null,
      "object_fit": null,
      "object_position": null,
      "order": null,
      "overflow": null,
      "overflow_x": null,
      "overflow_y": null,
      "padding": null,
      "right": null,
      "top": null,
      "visibility": null,
      "width": null
     }
    },
    "ecbda474938d49c6983a25210f53a9c6": {
     "model_module": "@jupyter-widgets/base",
     "model_name": "LayoutModel",
     "state": {
      "_model_module": "@jupyter-widgets/base",
      "_model_module_version": "1.2.0",
      "_model_name": "LayoutModel",
      "_view_count": null,
      "_view_module": "@jupyter-widgets/base",
      "_view_module_version": "1.2.0",
      "_view_name": "LayoutView",
      "align_content": null,
      "align_items": null,
      "align_self": null,
      "border": null,
      "bottom": null,
      "display": null,
      "flex": null,
      "flex_flow": null,
      "grid_area": null,
      "grid_auto_columns": null,
      "grid_auto_flow": null,
      "grid_auto_rows": null,
      "grid_column": null,
      "grid_gap": null,
      "grid_row": null,
      "grid_template_areas": null,
      "grid_template_columns": null,
      "grid_template_rows": null,
      "height": null,
      "justify_content": null,
      "justify_items": null,
      "left": null,
      "margin": null,
      "max_height": null,
      "max_width": null,
      "min_height": null,
      "min_width": null,
      "object_fit": null,
      "object_position": null,
      "order": null,
      "overflow": null,
      "overflow_x": null,
      "overflow_y": null,
      "padding": null,
      "right": null,
      "top": null,
      "visibility": null,
      "width": null
     }
    },
    "ee27dd4c7fea4595a95c97da5bff5deb": {
     "model_module": "@jupyter-widgets/base",
     "model_name": "LayoutModel",
     "state": {
      "_model_module": "@jupyter-widgets/base",
      "_model_module_version": "1.2.0",
      "_model_name": "LayoutModel",
      "_view_count": null,
      "_view_module": "@jupyter-widgets/base",
      "_view_module_version": "1.2.0",
      "_view_name": "LayoutView",
      "align_content": null,
      "align_items": null,
      "align_self": null,
      "border": null,
      "bottom": null,
      "display": null,
      "flex": null,
      "flex_flow": null,
      "grid_area": null,
      "grid_auto_columns": null,
      "grid_auto_flow": null,
      "grid_auto_rows": null,
      "grid_column": null,
      "grid_gap": null,
      "grid_row": null,
      "grid_template_areas": null,
      "grid_template_columns": null,
      "grid_template_rows": null,
      "height": null,
      "justify_content": null,
      "justify_items": null,
      "left": null,
      "margin": null,
      "max_height": null,
      "max_width": null,
      "min_height": null,
      "min_width": null,
      "object_fit": null,
      "object_position": null,
      "order": null,
      "overflow": null,
      "overflow_x": null,
      "overflow_y": null,
      "padding": null,
      "right": null,
      "top": null,
      "visibility": null,
      "width": null
     }
    },
    "eec7d254dfc14c0496af1abbb913e0d1": {
     "model_module": "@jupyter-widgets/controls",
     "model_name": "FloatProgressModel",
     "state": {
      "_dom_classes": [],
      "_model_module": "@jupyter-widgets/controls",
      "_model_module_version": "1.5.0",
      "_model_name": "FloatProgressModel",
      "_view_count": null,
      "_view_module": "@jupyter-widgets/controls",
      "_view_module_version": "1.5.0",
      "_view_name": "ProgressView",
      "bar_style": "success",
      "description": "",
      "description_tooltip": null,
      "layout": "IPY_MODEL_a76bd2bb0d564c44be43f2d459f4a6d7",
      "max": 186,
      "min": 0,
      "orientation": "horizontal",
      "style": "IPY_MODEL_5116a4591366412ead734b9104a63307",
      "value": 186
     }
    },
    "f0431c6690c64d83be73b376d6e34232": {
     "model_module": "@jupyter-widgets/controls",
     "model_name": "HTMLModel",
     "state": {
      "_dom_classes": [],
      "_model_module": "@jupyter-widgets/controls",
      "_model_module_version": "1.5.0",
      "_model_name": "HTMLModel",
      "_view_count": null,
      "_view_module": "@jupyter-widgets/controls",
      "_view_module_version": "1.5.0",
      "_view_name": "HTMLView",
      "description": "",
      "description_tooltip": null,
      "layout": "IPY_MODEL_058d5a1cd5d44ac9827c58a7235d0666",
      "placeholder": "​",
      "style": "IPY_MODEL_cda846bb16a04cbeb60e7b7d642fe132",
      "value": "100%"
     }
    },
    "f1da887358ca43219a83979a4de05e49": {
     "model_module": "@jupyter-widgets/controls",
     "model_name": "HTMLModel",
     "state": {
      "_dom_classes": [],
      "_model_module": "@jupyter-widgets/controls",
      "_model_module_version": "1.5.0",
      "_model_name": "HTMLModel",
      "_view_count": null,
      "_view_module": "@jupyter-widgets/controls",
      "_view_module_version": "1.5.0",
      "_view_name": "HTMLView",
      "description": "",
      "description_tooltip": null,
      "layout": "IPY_MODEL_e70cc8fefaf7477aa8fc067df1d033a6",
      "placeholder": "​",
      "style": "IPY_MODEL_a1b7858a93dc4158bc7315246b4ca608",
      "value": "100%"
     }
    },
    "f3fb4720437a4a2183b19d2defd78d83": {
     "model_module": "@jupyter-widgets/controls",
     "model_name": "HTMLModel",
     "state": {
      "_dom_classes": [],
      "_model_module": "@jupyter-widgets/controls",
      "_model_module_version": "1.5.0",
      "_model_name": "HTMLModel",
      "_view_count": null,
      "_view_module": "@jupyter-widgets/controls",
      "_view_module_version": "1.5.0",
      "_view_name": "HTMLView",
      "description": "",
      "description_tooltip": null,
      "layout": "IPY_MODEL_d197517168c74c95b39f03de4c430dbc",
      "placeholder": "​",
      "style": "IPY_MODEL_7df71741772c4f99a0323e7a93a391ff",
      "value": "100%"
     }
    },
    "f6c808fabe5747f69aabdc057e307379": {
     "model_module": "@jupyter-widgets/controls",
     "model_name": "HBoxModel",
     "state": {
      "_dom_classes": [],
      "_model_module": "@jupyter-widgets/controls",
      "_model_module_version": "1.5.0",
      "_model_name": "HBoxModel",
      "_view_count": null,
      "_view_module": "@jupyter-widgets/controls",
      "_view_module_version": "1.5.0",
      "_view_name": "HBoxView",
      "box_style": "",
      "children": [
       "IPY_MODEL_f3fb4720437a4a2183b19d2defd78d83",
       "IPY_MODEL_79fc02e8e4b448a8b7aa34da40352d3d",
       "IPY_MODEL_74d74da072a44a7db20085c80082c8fb"
      ],
      "layout": "IPY_MODEL_9c11e40551c24fc0b84055059a7139ae"
     }
    },
    "f7da054b351a477096bf85a3ef28092a": {
     "model_module": "@jupyter-widgets/base",
     "model_name": "LayoutModel",
     "state": {
      "_model_module": "@jupyter-widgets/base",
      "_model_module_version": "1.2.0",
      "_model_name": "LayoutModel",
      "_view_count": null,
      "_view_module": "@jupyter-widgets/base",
      "_view_module_version": "1.2.0",
      "_view_name": "LayoutView",
      "align_content": null,
      "align_items": null,
      "align_self": null,
      "border": null,
      "bottom": null,
      "display": null,
      "flex": null,
      "flex_flow": null,
      "grid_area": null,
      "grid_auto_columns": null,
      "grid_auto_flow": null,
      "grid_auto_rows": null,
      "grid_column": null,
      "grid_gap": null,
      "grid_row": null,
      "grid_template_areas": null,
      "grid_template_columns": null,
      "grid_template_rows": null,
      "height": null,
      "justify_content": null,
      "justify_items": null,
      "left": null,
      "margin": null,
      "max_height": null,
      "max_width": null,
      "min_height": null,
      "min_width": null,
      "object_fit": null,
      "object_position": null,
      "order": null,
      "overflow": null,
      "overflow_x": null,
      "overflow_y": null,
      "padding": null,
      "right": null,
      "top": null,
      "visibility": null,
      "width": null
     }
    },
    "fa80c7f551f24481b2952e47143a893c": {
     "model_module": "@jupyter-widgets/base",
     "model_name": "LayoutModel",
     "state": {
      "_model_module": "@jupyter-widgets/base",
      "_model_module_version": "1.2.0",
      "_model_name": "LayoutModel",
      "_view_count": null,
      "_view_module": "@jupyter-widgets/base",
      "_view_module_version": "1.2.0",
      "_view_name": "LayoutView",
      "align_content": null,
      "align_items": null,
      "align_self": null,
      "border": null,
      "bottom": null,
      "display": null,
      "flex": null,
      "flex_flow": null,
      "grid_area": null,
      "grid_auto_columns": null,
      "grid_auto_flow": null,
      "grid_auto_rows": null,
      "grid_column": null,
      "grid_gap": null,
      "grid_row": null,
      "grid_template_areas": null,
      "grid_template_columns": null,
      "grid_template_rows": null,
      "height": null,
      "justify_content": null,
      "justify_items": null,
      "left": null,
      "margin": null,
      "max_height": null,
      "max_width": null,
      "min_height": null,
      "min_width": null,
      "object_fit": null,
      "object_position": null,
      "order": null,
      "overflow": null,
      "overflow_x": null,
      "overflow_y": null,
      "padding": null,
      "right": null,
      "top": null,
      "visibility": null,
      "width": null
     }
    },
    "faea4ceb39e4448b934627db235c656c": {
     "model_module": "@jupyter-widgets/controls",
     "model_name": "HBoxModel",
     "state": {
      "_dom_classes": [],
      "_model_module": "@jupyter-widgets/controls",
      "_model_module_version": "1.5.0",
      "_model_name": "HBoxModel",
      "_view_count": null,
      "_view_module": "@jupyter-widgets/controls",
      "_view_module_version": "1.5.0",
      "_view_name": "HBoxView",
      "box_style": "",
      "children": [
       "IPY_MODEL_8ac81cc8813143dd88c79feeb0e37e39",
       "IPY_MODEL_eec7d254dfc14c0496af1abbb913e0d1",
       "IPY_MODEL_25fb1fea023745e3a0cfd41e71a5da39"
      ],
      "layout": "IPY_MODEL_7ef964977e304bf2b0c7948e694c75aa"
     }
    },
    "fd1fa231c54a48fdbc8c6b49a76638f6": {
     "model_module": "@jupyter-widgets/controls",
     "model_name": "HBoxModel",
     "state": {
      "_dom_classes": [],
      "_model_module": "@jupyter-widgets/controls",
      "_model_module_version": "1.5.0",
      "_model_name": "HBoxModel",
      "_view_count": null,
      "_view_module": "@jupyter-widgets/controls",
      "_view_module_version": "1.5.0",
      "_view_name": "HBoxView",
      "box_style": "",
      "children": [
       "IPY_MODEL_1318350d57b2427e9dac62b2e12daf03",
       "IPY_MODEL_993616c281724c8ca60629099e402f93",
       "IPY_MODEL_b3a7bb94a93d4c2e815af57d5825439c"
      ],
      "layout": "IPY_MODEL_325c4395bc914bb4aab2d3263a2d5159"
     }
    },
    "fd697e1dd07b4301abd4b39d0fd2ee03": {
     "model_module": "@jupyter-widgets/controls",
     "model_name": "HTMLModel",
     "state": {
      "_dom_classes": [],
      "_model_module": "@jupyter-widgets/controls",
      "_model_module_version": "1.5.0",
      "_model_name": "HTMLModel",
      "_view_count": null,
      "_view_module": "@jupyter-widgets/controls",
      "_view_module_version": "1.5.0",
      "_view_name": "HTMLView",
      "description": "",
      "description_tooltip": null,
      "layout": "IPY_MODEL_5ac4ddaa84f1451c84cfef215867336a",
      "placeholder": "​",
      "style": "IPY_MODEL_ac905a56ef4c4e91af54a05b051e4cbf",
      "value": " 186/186 [01:30&lt;00:00,  2.04it/s]"
     }
    },
    "fd97cf4c5bd041f392bb96486e73870b": {
     "model_module": "@jupyter-widgets/controls",
     "model_name": "DescriptionStyleModel",
     "state": {
      "_model_module": "@jupyter-widgets/controls",
      "_model_module_version": "1.5.0",
      "_model_name": "DescriptionStyleModel",
      "_view_count": null,
      "_view_module": "@jupyter-widgets/base",
      "_view_module_version": "1.2.0",
      "_view_name": "StyleView",
      "description_width": ""
     }
    }
   }
  }
 },
 "nbformat": 4,
 "nbformat_minor": 1
}
