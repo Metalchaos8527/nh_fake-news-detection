{
 "cells": [
  {
   "cell_type": "markdown",
   "metadata": {},
   "source": [
    "## input데이터 전처리 방안 수립\n",
    "**대회에서 제공하는 원자료는 모두 삭제되었습니다**\n",
    "- NH투자증권이 제공하는 금융 뉴스 데이터셋의 전처리 방안을 수립하고자 데이터의 다양한 탐색을 시도하였습니다\n",
    "- 향후 BERT모델을 적용하기 위해서 KoBERT 라이브러리를 시범적으로 사용해봤습니다\n",
    "\n",
    "<br>\n",
    "\n",
    "## 발견한 점\n",
    "- 데이터셋 내에서 특정한 데이터들의 **문장길이가 과도하게 긴 것**을 파악하였습니다\n",
    "    - 12.04에 해당사항을 주최측에 문의하였는데 데이터 자체에는 문제가 없는 것으로 밝혀주셨습니다\n",
    "    - 위의 내용을 견지하고 데이터셋 전처리 및 모델 학습에 유의를 기울여야 함을 알게되었습니다\n",
    "- 위 문제는 train, test데이터셋 모두에서 나타났습니다. 따라서 모델 학습에 있어서 해당 사항을 처리할 방안을 고민해야 합니다\n",
    "    - Padding길이와 관련된 문제가 될 것으로 추정됩니다"
   ]
  },
  {
   "cell_type": "code",
   "execution_count": null,
   "metadata": {
    "colab": {
     "base_uri": "https://localhost:8080/"
    },
    "executionInfo": {
     "elapsed": 18900,
     "status": "ok",
     "timestamp": 1606900220677,
     "user": {
      "displayName": "Metalchaos",
      "photoUrl": "https://lh3.googleusercontent.com/a-/AOh14Ghlgn0MI3bNmK1nVrlfaZHBhr8IHW8BwHTyoNn4qg=s64",
      "userId": "01329456307028669382"
     },
     "user_tz": -540
    },
    "id": "PQfXUwuQtkMU",
    "outputId": "cf4ab239-6f69-4032-f712-dece280401b0"
   },
   "outputs": [
    {
     "name": "stdout",
     "output_type": "stream",
     "text": [
      "Mounted at /content/drive\n"
     ]
    }
   ],
   "source": [
    "import os, sys\n",
    "from google.colab import drive\n",
    "\n",
    "#내 구글드라이브 디렉토리 설정\n",
    "drive.mount('/content/drive')\n",
    "\n",
    "my_path = '/content/notebooks'\n",
    "# Colab Notebooks 안에 package_collection 폴더에 패키지 저장\n",
    "#매 실행마다 이 코드를 재실행해야 해당 디렉토리에 있는 패키지를 사용할 수 있음\n",
    "os.symlink('/content/drive/MyDrive/Colab Notebooks/py_env', my_path)\n",
    "sys.path.insert(0, my_path)"
   ]
  },
  {
   "cell_type": "markdown",
   "metadata": {},
   "source": [
    "### 1. KoBERT 출력 자료 이해해보기"
   ]
  },
  {
   "cell_type": "code",
   "execution_count": null,
   "metadata": {
    "id": "e4yzMSDytxug"
   },
   "outputs": [],
   "source": [
    "import torch\n",
    "from kobert.utils import get_tokenizer\n",
    "#모델불러오는데 좀 걸림"
   ]
  },
  {
   "cell_type": "code",
   "execution_count": null,
   "metadata": {
    "colab": {
     "base_uri": "https://localhost:8080/"
    },
    "executionInfo": {
     "elapsed": 131085,
     "status": "ok",
     "timestamp": 1606901038719,
     "user": {
      "displayName": "Metalchaos",
      "photoUrl": "https://lh3.googleusercontent.com/a-/AOh14Ghlgn0MI3bNmK1nVrlfaZHBhr8IHW8BwHTyoNn4qg=s64",
      "userId": "01329456307028669382"
     },
     "user_tz": -540
    },
    "id": "Zt9jb8HhuSHL",
    "outputId": "9bb0efa5-24de-450c-a541-9b45923449e2"
   },
   "outputs": [
    {
     "name": "stdout",
     "output_type": "stream",
     "text": [
      "[██████████████████████████████████████████████████]\n",
      "[██████████████████████████████████████████████████]\n"
     ]
    }
   ],
   "source": [
    "#다음의 모델을 사용함\n",
    "# https://github.com/SKTBrain/KoBERT \n",
    "\n",
    "from kobert.pytorch_kobert import get_pytorch_kobert_model #시간 5 ~ 10분 소요\n",
    "\n",
    "bertmodel, vocab = get_pytorch_kobert_model()"
   ]
  },
  {
   "cell_type": "code",
   "execution_count": null,
   "metadata": {
    "colab": {
     "base_uri": "https://localhost:8080/",
     "height": 204
    },
    "executionInfo": {
     "elapsed": 2233,
     "status": "ok",
     "timestamp": 1606901197552,
     "user": {
      "displayName": "Metalchaos",
      "photoUrl": "https://lh3.googleusercontent.com/a-/AOh14Ghlgn0MI3bNmK1nVrlfaZHBhr8IHW8BwHTyoNn4qg=s64",
      "userId": "01329456307028669382"
     },
     "user_tz": -540
    },
    "id": "gOgx5M7Uxafx",
    "outputId": "72d535da-1146-4a98-88e8-109db09c552a"
   },
   "outputs": [
    {
     "data": {
      "text/html": [
       "<div>\n",
       "<style scoped>\n",
       "    .dataframe tbody tr th:only-of-type {\n",
       "        vertical-align: middle;\n",
       "    }\n",
       "\n",
       "    .dataframe tbody tr th {\n",
       "        vertical-align: top;\n",
       "    }\n",
       "\n",
       "    .dataframe thead th {\n",
       "        text-align: right;\n",
       "    }\n",
       "</style>\n",
       "<table border=\"1\" class=\"dataframe\">\n",
       "  <thead>\n",
       "    <tr style=\"text-align: right;\">\n",
       "      <th></th>\n",
       "      <th>n_id</th>\n",
       "      <th>date</th>\n",
       "      <th>title</th>\n",
       "      <th>content</th>\n",
       "      <th>ord</th>\n",
       "      <th>info</th>\n",
       "    </tr>\n",
       "  </thead>\n",
       "  <tbody>\n",
       "    <tr>\n",
       "      <th>0</th>\n",
       "      <td>NEWS02580</td>\n",
       "      <td>20200605</td>\n",
       "      <td>[마감]코스닥 기관 678억 순매도</td>\n",
       "      <td>[이데일리 MARKETPOINT]15:32 현재 코스닥 기관 678억 순매도</td>\n",
       "      <td>1</td>\n",
       "      <td>0</td>\n",
       "    </tr>\n",
       "    <tr>\n",
       "      <th>1</th>\n",
       "      <td>NEWS02580</td>\n",
       "      <td>20200605</td>\n",
       "      <td>[마감]코스닥 기관 678억 순매도</td>\n",
       "      <td>\"실적기반\" 저가에 매집해야 할 8월 급등유망주 TOP 5 전격공개</td>\n",
       "      <td>2</td>\n",
       "      <td>1</td>\n",
       "    </tr>\n",
       "    <tr>\n",
       "      <th>2</th>\n",
       "      <td>NEWS02580</td>\n",
       "      <td>20200605</td>\n",
       "      <td>[마감]코스닥 기관 678억 순매도</td>\n",
       "      <td>하이스탁론, 선취수수료 없는 월 0.4% 최저금리 상품 출시</td>\n",
       "      <td>3</td>\n",
       "      <td>1</td>\n",
       "    </tr>\n",
       "    <tr>\n",
       "      <th>3</th>\n",
       "      <td>NEWS02580</td>\n",
       "      <td>20200605</td>\n",
       "      <td>[마감]코스닥 기관 678억 순매도</td>\n",
       "      <td>종합 경제정보 미디어 이데일리 - 무단전재 &amp; 재배포 금지</td>\n",
       "      <td>4</td>\n",
       "      <td>0</td>\n",
       "    </tr>\n",
       "    <tr>\n",
       "      <th>4</th>\n",
       "      <td>NEWS09727</td>\n",
       "      <td>20200626</td>\n",
       "      <td>롯데·공영 등 7개 TV 홈쇼핑들, 동행세일 동참</td>\n",
       "      <td>전국적인 소비 붐 조성에 기여할 예정</td>\n",
       "      <td>1</td>\n",
       "      <td>0</td>\n",
       "    </tr>\n",
       "  </tbody>\n",
       "</table>\n",
       "</div>"
      ],
      "text/plain": [
       "        n_id      date  ... ord info\n",
       "0  NEWS02580  20200605  ...   1    0\n",
       "1  NEWS02580  20200605  ...   2    1\n",
       "2  NEWS02580  20200605  ...   3    1\n",
       "3  NEWS02580  20200605  ...   4    0\n",
       "4  NEWS09727  20200626  ...   1    0\n",
       "\n",
       "[5 rows x 6 columns]"
      ]
     },
     "execution_count": 12,
     "metadata": {
      "tags": []
     },
     "output_type": "execute_result"
    }
   ],
   "source": [
    "import pandas as pd\n",
    "import numpy as np\n",
    "\n",
    "train_df = pd.read_csv('/content/drive/MyDrive/dacon/news_train.csv')\n",
    "train_df.head()"
   ]
  },
  {
   "cell_type": "code",
   "execution_count": null,
   "metadata": {
    "id": "eCOVIeThxmGh"
   },
   "outputs": [],
   "source": [
    "#대회 데이터를 바탕으로 문장 하나를 토큰화해보기\n",
    "import re\n",
    "\n",
    "stopwords_kr = pd.read_csv('/content/drive/MyDrive/dacon/stopwords_kr.txt',sep = '\\n', header = None)\n",
    "stop_kr_list = list(stopwords_kr.iloc[:,0])\n",
    "\n",
    "url_with_https = re.compile(r'(https?:\\/\\/){1,}([\\w.\\/%-]+){1,}')\n",
    "rm_email = re.compile(r'([a-zA-Z0-9\\.\\_]+)@([\\w\\.]+){1,}')\n",
    "useless_words = re.compile(r'[-=+,#/\\?:^$.@*\\\"※~&%ㆍ!』\\\\‘|\\(\\)\\[\\]\\<\\>`\\'…》]+')\n",
    "rm_num = re.compile(r'(\\d+\\.?\\,?\\d+)+')\n",
    "\n",
    "#지난 여름 자율프로젝트에서 사용했던 텍스트 전처리 방식 가져옴\n",
    "def clean_kor_text(kor_text):\n",
    "    text = url_with_https.sub('',kor_text)\n",
    "    text = rm_email.sub('', text)\n",
    "    text = useless_words.sub('',text)\n",
    "    text = rm_num.sub('',text)\n",
    "    text = ' '.join(word for word in text.split() if word not in stop_kr_list)\n",
    "    return text"
   ]
  },
  {
   "cell_type": "code",
   "execution_count": null,
   "metadata": {
    "id": "lcB9XBSax7uh"
   },
   "outputs": [],
   "source": [
    "train_df['clean_content'] = train_df['content'].apply(clean_kor_text)"
   ]
  },
  {
   "cell_type": "code",
   "execution_count": null,
   "metadata": {
    "colab": {
     "base_uri": "https://localhost:8080/"
    },
    "executionInfo": {
     "elapsed": 982,
     "status": "ok",
     "timestamp": 1606901315526,
     "user": {
      "displayName": "Metalchaos",
      "photoUrl": "https://lh3.googleusercontent.com/a-/AOh14Ghlgn0MI3bNmK1nVrlfaZHBhr8IHW8BwHTyoNn4qg=s64",
      "userId": "01329456307028669382"
     },
     "user_tz": -540
    },
    "id": "3MOHT8YOx9VR",
    "outputId": "5c2c667b-b608-424b-f55b-0f246ef01715"
   },
   "outputs": [
    {
     "name": "stdout",
     "output_type": "stream",
     "text": [
      "using cached model\n"
     ]
    },
    {
     "data": {
      "text/plain": [
       "['▁이데일리',\n",
       " '▁M',\n",
       " 'AR',\n",
       " 'K',\n",
       " 'E',\n",
       " 'T',\n",
       " 'P',\n",
       " 'O',\n",
       " 'IN',\n",
       " 'T',\n",
       " '▁현재',\n",
       " '▁코스닥',\n",
       " '▁기관',\n",
       " '▁',\n",
       " '억',\n",
       " '▁순매도']"
      ]
     },
     "execution_count": 15,
     "metadata": {
      "tags": []
     },
     "output_type": "execute_result"
    }
   ],
   "source": [
    "#clean_content가지고 텍스트 전처리 하기\n",
    "from gluonnlp.data import SentencepieceTokenizer\n",
    "from kobert.utils import get_tokenizer\n",
    "tok_path = get_tokenizer()\n",
    "sp  = SentencepieceTokenizer(tok_path)\n",
    "\n",
    "sp(train_df['clean_content'][0]) #문장이 다음과 같이 토큰화 되었음, 그런데 영어가 조금 이상하게 토큰화된것으로 보임"
   ]
  },
  {
   "cell_type": "code",
   "execution_count": null,
   "metadata": {
    "id": "3CHixL_HyDPR"
   },
   "outputs": [],
   "source": [
    "#kobert 에서 제공하는 패키지를 사용하여 생성한 word_to_id, id_to_word\n",
    "word_to_id = vocab.token_to_idx\n",
    "id_to_word = vocab.idx_to_token"
   ]
  },
  {
   "cell_type": "code",
   "execution_count": null,
   "metadata": {
    "colab": {
     "base_uri": "https://localhost:8080/"
    },
    "executionInfo": {
     "elapsed": 991,
     "status": "ok",
     "timestamp": 1606901353386,
     "user": {
      "displayName": "Metalchaos",
      "photoUrl": "https://lh3.googleusercontent.com/a-/AOh14Ghlgn0MI3bNmK1nVrlfaZHBhr8IHW8BwHTyoNn4qg=s64",
      "userId": "01329456307028669382"
     },
     "user_tz": -540
    },
    "id": "X0iCtDuzyF0B",
    "outputId": "92cad2a6-f5c0-4b67-e1b3-158a86d261c5"
   },
   "outputs": [
    {
     "name": "stdout",
     "output_type": "stream",
     "text": [
      "▁이데일리 : 3661\n",
      "▁M : 671\n",
      "AR : 267\n",
      "K : 307\n",
      "E : 282\n",
      "T : 351\n",
      "P : 333\n",
      "O : 329\n",
      "IN : 302\n",
      "T : 351\n",
      "▁현재 : 5064\n",
      "▁코스닥 : 4671\n",
      "▁기관 : 1261\n",
      "▁ : 517\n",
      "억 : 6858\n",
      "▁순매도 : 2914\n"
     ]
    }
   ],
   "source": [
    "#vcoab의 인덱스와 매칭시켜보기\n",
    "\n",
    "test_s = sp(train_df['clean_content'][0])\n",
    "\n",
    "test_corpus = []\n",
    "for word in test_s:\n",
    "  if word_to_id[word] == None:\n",
    "    pass\n",
    "  else:\n",
    "    print(id_to_word[word_to_id[word]],':',word_to_id[word])\n",
    "    test_corpus.append(word_to_id[word])\n",
    "#매칭이 잘 됨"
   ]
  },
  {
   "cell_type": "code",
   "execution_count": null,
   "metadata": {
    "id": "cXF4VNBzyMep"
   },
   "outputs": [],
   "source": [
    "#모델에 넣어서 pre-trianed된 분산표현을 얻기\n",
    "input_test_ids = torch.LongTensor([test_corpus])\n",
    "\n",
    "test_output = model(input_test_ids) "
   ]
  },
  {
   "cell_type": "code",
   "execution_count": null,
   "metadata": {
    "colab": {
     "base_uri": "https://localhost:8080/"
    },
    "executionInfo": {
     "elapsed": 1027,
     "status": "ok",
     "timestamp": 1606901389640,
     "user": {
      "displayName": "Metalchaos",
      "photoUrl": "https://lh3.googleusercontent.com/a-/AOh14Ghlgn0MI3bNmK1nVrlfaZHBhr8IHW8BwHTyoNn4qg=s64",
      "userId": "01329456307028669382"
     },
     "user_tz": -540
    },
    "id": "nvlXT9zAyUtu",
    "outputId": "02dd11da-8d4a-4641-d737-518456779c92"
   },
   "outputs": [
    {
     "data": {
      "text/plain": [
       "torch.Size([1, 16])"
      ]
     },
     "execution_count": 19,
     "metadata": {
      "tags": []
     },
     "output_type": "execute_result"
    }
   ],
   "source": [
    "input_test_ids.shape"
   ]
  },
  {
   "cell_type": "code",
   "execution_count": null,
   "metadata": {
    "colab": {
     "base_uri": "https://localhost:8080/"
    },
    "executionInfo": {
     "elapsed": 1067,
     "status": "ok",
     "timestamp": 1606901396777,
     "user": {
      "displayName": "Metalchaos",
      "photoUrl": "https://lh3.googleusercontent.com/a-/AOh14Ghlgn0MI3bNmK1nVrlfaZHBhr8IHW8BwHTyoNn4qg=s64",
      "userId": "01329456307028669382"
     },
     "user_tz": -540
    },
    "id": "cHFEIydHyVUm",
    "outputId": "6ffb0915-bf14-4cd1-ed1d-4c65ab0e913b"
   },
   "outputs": [
    {
     "data": {
      "text/plain": [
       "tensor([[[ 0.2621, -0.3518,  0.0953,  ...,  0.5056,  0.0253,  0.3087],\n",
       "         [ 0.0574,  0.1657,  0.7197,  ...,  0.3358,  0.2369,  0.1387],\n",
       "         [ 0.5170,  0.0986,  0.0568,  ...,  0.6123,  0.1260, -0.2050],\n",
       "         ...,\n",
       "         [ 0.0369, -0.1059, -0.1182,  ..., -0.0907, -0.0451, -0.2258],\n",
       "         [ 0.4354, -0.1167,  0.0652,  ...,  0.2816,  0.2113,  0.1638],\n",
       "         [ 0.2923,  0.0289, -0.0418,  ...,  0.3647,  0.3210, -0.0797]]],\n",
       "       grad_fn=<NativeLayerNormBackward>)"
      ]
     },
     "execution_count": 20,
     "metadata": {
      "tags": []
     },
     "output_type": "execute_result"
    }
   ],
   "source": [
    "test_output[0]"
   ]
  },
  {
   "cell_type": "code",
   "execution_count": null,
   "metadata": {
    "colab": {
     "base_uri": "https://localhost:8080/"
    },
    "executionInfo": {
     "elapsed": 996,
     "status": "ok",
     "timestamp": 1606901401803,
     "user": {
      "displayName": "Metalchaos",
      "photoUrl": "https://lh3.googleusercontent.com/a-/AOh14Ghlgn0MI3bNmK1nVrlfaZHBhr8IHW8BwHTyoNn4qg=s64",
      "userId": "01329456307028669382"
     },
     "user_tz": -540
    },
    "id": "XnDm26r7yXDe",
    "outputId": "f74a30dd-16b3-4da5-c019-208199fd7026"
   },
   "outputs": [
    {
     "data": {
      "text/plain": [
       "torch.Size([1, 16, 768])"
      ]
     },
     "execution_count": 21,
     "metadata": {
      "tags": []
     },
     "output_type": "execute_result"
    }
   ],
   "source": [
    "test_output[0].shape\n"
   ]
  },
  {
   "cell_type": "markdown",
   "metadata": {},
   "source": [
    "### 2. 데이터셋 들여다보기"
   ]
  },
  {
   "cell_type": "code",
   "execution_count": null,
   "metadata": {
    "id": "dAH3yJUFyYTG"
   },
   "outputs": [],
   "source": [
    "#모든 문장들에 대해서 sentencepiece기반 토큰화 실시\n",
    "\n",
    "#토큰화와 매핑을 동시에 수행하는 함수 실행\n",
    "def tokenize_and_mapping(sent_tokenizer, sentence, word_to_id):\n",
    "\n",
    "  temp = []\n",
    "  corpus = sent_tokenizer(sentence)\n",
    "\n",
    "  for word in corpus:\n",
    "    temp.append(word_to_id[word])\n",
    "\n",
    "  return torch.LongTensor([temp])"
   ]
  },
  {
   "cell_type": "code",
   "execution_count": null,
   "metadata": {
    "id": "QKBI1ZKLyaE2"
   },
   "outputs": [],
   "source": [
    "train_df['tokenized_cont'] = train_df['clean_content'].apply(lambda x: tokenize_and_mapping(sp, x, word_to_id))"
   ]
  },
  {
   "cell_type": "code",
   "execution_count": null,
   "metadata": {
    "colab": {
     "base_uri": "https://localhost:8080/",
     "height": 204
    },
    "executionInfo": {
     "elapsed": 945,
     "status": "ok",
     "timestamp": 1606901424341,
     "user": {
      "displayName": "Metalchaos",
      "photoUrl": "https://lh3.googleusercontent.com/a-/AOh14Ghlgn0MI3bNmK1nVrlfaZHBhr8IHW8BwHTyoNn4qg=s64",
      "userId": "01329456307028669382"
     },
     "user_tz": -540
    },
    "id": "b48eZEcxybJG",
    "outputId": "8dc80fa1-9e78-406a-bff5-cb64ac93ba9e"
   },
   "outputs": [
    {
     "data": {
      "text/html": [
       "<div>\n",
       "<style scoped>\n",
       "    .dataframe tbody tr th:only-of-type {\n",
       "        vertical-align: middle;\n",
       "    }\n",
       "\n",
       "    .dataframe tbody tr th {\n",
       "        vertical-align: top;\n",
       "    }\n",
       "\n",
       "    .dataframe thead th {\n",
       "        text-align: right;\n",
       "    }\n",
       "</style>\n",
       "<table border=\"1\" class=\"dataframe\">\n",
       "  <thead>\n",
       "    <tr style=\"text-align: right;\">\n",
       "      <th></th>\n",
       "      <th>n_id</th>\n",
       "      <th>date</th>\n",
       "      <th>title</th>\n",
       "      <th>content</th>\n",
       "      <th>ord</th>\n",
       "      <th>info</th>\n",
       "      <th>clean_content</th>\n",
       "      <th>tokenized_cont</th>\n",
       "    </tr>\n",
       "  </thead>\n",
       "  <tbody>\n",
       "    <tr>\n",
       "      <th>0</th>\n",
       "      <td>NEWS02580</td>\n",
       "      <td>20200605</td>\n",
       "      <td>[마감]코스닥 기관 678억 순매도</td>\n",
       "      <td>[이데일리 MARKETPOINT]15:32 현재 코스닥 기관 678억 순매도</td>\n",
       "      <td>1</td>\n",
       "      <td>0</td>\n",
       "      <td>이데일리 MARKETPOINT 현재 코스닥 기관 억 순매도</td>\n",
       "      <td>[[tensor(3661), tensor(671), tensor(267), tens...</td>\n",
       "    </tr>\n",
       "    <tr>\n",
       "      <th>1</th>\n",
       "      <td>NEWS02580</td>\n",
       "      <td>20200605</td>\n",
       "      <td>[마감]코스닥 기관 678억 순매도</td>\n",
       "      <td>\"실적기반\" 저가에 매집해야 할 8월 급등유망주 TOP 5 전격공개</td>\n",
       "      <td>2</td>\n",
       "      <td>1</td>\n",
       "      <td>실적기반 저가에 매집해야 할 8월 급등유망주 TOP 5 전격공개</td>\n",
       "      <td>[[tensor(3047), tensor(5561), tensor(6286), te...</td>\n",
       "    </tr>\n",
       "    <tr>\n",
       "      <th>2</th>\n",
       "      <td>NEWS02580</td>\n",
       "      <td>20200605</td>\n",
       "      <td>[마감]코스닥 기관 678억 순매도</td>\n",
       "      <td>하이스탁론, 선취수수료 없는 월 0.4% 최저금리 상품 출시</td>\n",
       "      <td>3</td>\n",
       "      <td>1</td>\n",
       "      <td>하이스탁론 선취수수료 없는 최저금리 상품 출시</td>\n",
       "      <td>[[tensor(4942), tensor(6664), tensor(7589), te...</td>\n",
       "    </tr>\n",
       "    <tr>\n",
       "      <th>3</th>\n",
       "      <td>NEWS02580</td>\n",
       "      <td>20200605</td>\n",
       "      <td>[마감]코스닥 기관 678억 순매도</td>\n",
       "      <td>종합 경제정보 미디어 이데일리 - 무단전재 &amp; 재배포 금지</td>\n",
       "      <td>4</td>\n",
       "      <td>0</td>\n",
       "      <td>종합 경제정보 미디어 이데일리 무단전재 재배포 금지</td>\n",
       "      <td>[[tensor(4203), tensor(972), tensor(7229), ten...</td>\n",
       "    </tr>\n",
       "    <tr>\n",
       "      <th>4</th>\n",
       "      <td>NEWS09727</td>\n",
       "      <td>20200626</td>\n",
       "      <td>롯데·공영 등 7개 TV 홈쇼핑들, 동행세일 동참</td>\n",
       "      <td>전국적인 소비 붐 조성에 기여할 예정</td>\n",
       "      <td>1</td>\n",
       "      <td>0</td>\n",
       "      <td>전국적인 소비 붐 조성에 기여할 예정</td>\n",
       "      <td>[[tensor(4014), tensor(7206), tensor(2832), te...</td>\n",
       "    </tr>\n",
       "  </tbody>\n",
       "</table>\n",
       "</div>"
      ],
      "text/plain": [
       "        n_id  ...                                     tokenized_cont\n",
       "0  NEWS02580  ...  [[tensor(3661), tensor(671), tensor(267), tens...\n",
       "1  NEWS02580  ...  [[tensor(3047), tensor(5561), tensor(6286), te...\n",
       "2  NEWS02580  ...  [[tensor(4942), tensor(6664), tensor(7589), te...\n",
       "3  NEWS02580  ...  [[tensor(4203), tensor(972), tensor(7229), ten...\n",
       "4  NEWS09727  ...  [[tensor(4014), tensor(7206), tensor(2832), te...\n",
       "\n",
       "[5 rows x 8 columns]"
      ]
     },
     "execution_count": 24,
     "metadata": {
      "tags": []
     },
     "output_type": "execute_result"
    }
   ],
   "source": [
    "train_df.head()"
   ]
  },
  {
   "cell_type": "code",
   "execution_count": null,
   "metadata": {
    "id": "mPQ5YmlNyd0A"
   },
   "outputs": [],
   "source": [
    "#문장 최대 길이는?\n",
    "sent_size = train_df['tokenized_cont'].apply(lambda x: x.shape[1])"
   ]
  },
  {
   "cell_type": "code",
   "execution_count": null,
   "metadata": {
    "colab": {
     "base_uri": "https://localhost:8080/"
    },
    "executionInfo": {
     "elapsed": 942,
     "status": "ok",
     "timestamp": 1606901448064,
     "user": {
      "displayName": "Metalchaos",
      "photoUrl": "https://lh3.googleusercontent.com/a-/AOh14Ghlgn0MI3bNmK1nVrlfaZHBhr8IHW8BwHTyoNn4qg=s64",
      "userId": "01329456307028669382"
     },
     "user_tz": -540
    },
    "id": "Xhv0s2zhygKQ",
    "outputId": "6ecdd3be-fe9d-47ac-83a6-51d0f1defa30"
   },
   "outputs": [
    {
     "data": {
      "text/plain": [
       "37707"
      ]
     },
     "execution_count": 26,
     "metadata": {
      "tags": []
     },
     "output_type": "execute_result"
    }
   ],
   "source": [
    "sent_size.values.argmax() #가장길이가 긴 문장의 위치, 길이는 1675"
   ]
  },
  {
   "cell_type": "code",
   "execution_count": null,
   "metadata": {
    "colab": {
     "base_uri": "https://localhost:8080/",
     "height": 143
    },
    "executionInfo": {
     "elapsed": 974,
     "status": "ok",
     "timestamp": 1606901457500,
     "user": {
      "displayName": "Metalchaos",
      "photoUrl": "https://lh3.googleusercontent.com/a-/AOh14Ghlgn0MI3bNmK1nVrlfaZHBhr8IHW8BwHTyoNn4qg=s64",
      "userId": "01329456307028669382"
     },
     "user_tz": -540
    },
    "id": "HNm_tASxyjmx",
    "outputId": "e9f08464-1c37-4d7f-8a6d-eec6b82f1a3d",
    "scrolled": true
   },
   "outputs": [
    {
     "data": {
      "application/vnd.google.colaboratory.intrinsic+json": {
       "type": "string"
      },
      "text/plain": [
       "'지난 02월 아파트 월세 실거래가는 다음과 같다.서울지역의 아파트 월세가를 살펴보면 보증금은 최저 0만원에서 최고 17억원, 월세는 최저 1만원에서 최고 800만원인데, 강서구 등촌동 등촌1,2단지주공아파트 아파트(전용면적 26.37)가 보증금 264만원에 월세 5만원으로 최저가에, 서초구 반포동 반포자이 아파트(전용면적 194.515)가 보증금 17억원에 월세 180만원으로 최고가에 계약되었다.부산지역의 아파트 월세가는 보증금은 최저 70만원에서 최고 3억원, 월세는 최저 2만원에서 최고 200만원인데, 동래구 사직동 동일 아파트(전용면적 46.17)가 보증금 500만원에 월세 15만원으로 최저가에, 금정구 장전동 래미안장전 아파트(전용면적 84.8952)가 보증금 3억원에 월세 40만원으로 최고가에 계약되었다.대구지역의 아파트 월세가는 보증금은 최저 0만원에서 최고 9억원, 월세는 최저 5만원에서 최고 330만원인데, 달서구 월성동 월성주공3단지 아파트(전용면적 26.37)가 보증금 250만원에 월세 5만원으로 최저가에, 수성구 범어동 두산위브더제니스 아파트(전용면적 146.9701)가 보증금 9억원에 월세 330만원으로 최고가에 계약되었다.인천지역의 아파트 월세가는 보증금은 최저 100만원에서 최고 3억2000만원, 월세는 최저 6만원에서 최고 180만원인데, 중구 운서동 영종엘에이치2단지 아파트(전용면적 16.57)가 보증금 1360만원에 월세 6만원으로 최저가에, 부평구 삼산동 신성미소지움3단지 아파트(전용면적 101.48)가 보증금 3억2000만원에 월세 30만원으로 최고가에 계약되었다.광주지역의 아파트 월세가는 보증금은 최저 200만원에서 최고 3억3000만원, 월세는 최저 3만원에서 최고 100만원인데, 광산구 선암동 광주선운휴먼시아 아파트(전용면적 36.38)가 보증금 521만원에 월세 12만원으로 최저가에, 서구 화정동 현대힐스테이트3단지 아파트(전용면적 84.98)가 보증금 3억3000만원에 월세 20만원으로 최고가에 계약되었다.대전지역의 아파트 월세가는 보증금은 최저 0만원에서 최고 4억5000만원, 월세는 최저 5만원에서 최고 95만원인데, 서구 도안동 금성백조예미지 아파트(전용면적 84.9542)가 보증금 500만원에 월세 10만원으로 최저가에, 유성구 상대동 트리풀시티 아파트(전용면적 139.09)가 보증금 4억5000만원에 월세 50만원으로 최고가에 계약되었다.울산지역의 아파트 월세가는 보증금은 최저 200만원에서 최고 3억7000만원, 월세는 최저 5만원에서 최고 80만원인데, 남구 달동 달동주공3단지 아파트(전용면적 26.37)가 보증금 237만원에 월세 5만원으로 최저가에, 남구 신정동 문수로2차IPARK2단지 아파트(전용면적 84.9424)가 보증금 3억7000만원에 월세 20만원으로 최고가에 계약되었다.세종지역의 아파트 월세가는 보증금은 최저 300만원에서 최고 1억5000만원, 월세는 최저 5만원에서 최고 80만원인데, 세종특별자치시 보람동 호려울마을2단지 아파트(전용면적 21.99)가 보증금 879만원에 월세 12만원으로 최저가에, 세종특별자치시 아름동 범지기마을3단지(중흥에듀하이) 아파트(전용면적 84.9968)가 보증금 1억5000만원에 월세 20만원으로 최고가에 계약되었다.경기지역의 아파트 월세가는 보증금은 최저 0만원에서 최고 9억원, 월세는 최저 1만원에서 최고 300만원인데, 하남시 망월동 미사강변도시13단지 아파트(전용면적 21.98)가 보증금 207만원에 월세 4만원으로 최저가에, 성남시 분당구 삼평동 봇들마을9단지(금호어울림) 아파트(전용면적 115.18)가 보증금 9억원에 월세 15만원으로 최고가에 계약되었다.강원지역의 아파트 월세가는 보증금은 최저 0만원에서 최고 1억7845만원, 월세는 최저 4만원에서 최고 70만원인데, 원주시 태장동 백운3차 아파트(전용면적 40.83)가 보증금 200만원에 월세 10만원으로 최저가에, 춘천시 동면 장학리 춘천장학사랑으로부영 아파트(전용면적 84.9933)가 보증금 1억7845만원에 월세 10만원으로 최고가에 계약되었다.충북지역의 아파트 월세가는 보증금은 최저 100만원에서 최고 1억3212만원, 월세는 최저 3만원에서 최고 100만원인데, 청주시 서원구 남이면 척북리 삼포 아파트(전용면적 36.62)가 보증금 300만원에 월세 5만원으로 최저가에, 진천군 덕산읍 용몽리 진천덕산우방아이유쉘 아파트(전용면적 84.9946)가 보증금 1억0710만원에 월세 45만원으로 최고가에 계약되었다.충남지역의 아파트 월세가는 보증금은 최저 50만원에서 최고 2억원, 월세는 최저 1만원에서 최고 200만원인데, 충청남도 천안시 서북구 쌍용동 주공7단지1차 아파트(전용면적 26.37)가 보증금 225만원에 월세 4만원으로 최저가에, 충청남도 천안시 서북구 불당동 펜타포트(101동 102동) 아파트(전용면적 162.649)가 보증금 5000만원에 월세 200만원으로 최고가에 계약되었다.전북지역의 아파트 월세가는 보증금은 최저 0만원에서 최고 2억원, 월세는 최저 2만원에서 최고 70만원인데, 김제시 신풍동 부영(3차) 아파트(전용면적 49.896)가 보증금 300만원에 월세 10만원으로 최저가에, 전주시 완산구 효자동2가 휴먼시아아이린 아파트(전용면적 84.95)가 보증금 2억원에 월세 20만원으로 최고가에 계약되었다.전남지역의 아파트 월세가는 보증금은 최저 200만원에서 최고 1억7355만원, 월세는 최저 4만원에서 최고 110만원인데, 여수시 화장동 무선주공1차(임대) 아파트(전용면적 26.37)가 보증금 397만원에 월세 7만원으로 최저가에, 여수시 웅천동 여수웅천부영2차 아파트(전용면적 84.3616)가 보증금 1억7355만원에 월세 5만원으로 최고가에 계약되었다.경북지역의 아파트 월세가는 보증금은 최저 0만원에서 최고 1억3269만원, 월세는 최저 4만원에서 최고 330만원인데, 포항시 북구 창포동 창포주공1단지아파트 아파트(전용면적 31.32)가 보증금 281만원에 월세 6만원으로 최저가에, 김천시 응명동 김천대신코아루 아파트(전용면적 84.9826)가 보증금 2000만원에 월세 330만원으로 최고가에 계약되었다.경남지역의 아파트 월세가는 보증금은 최저 0만원에서 최고 2억원, 월세는 최저 3만원에서 최고 130만원인데, 창원시 진해구 석동 석동주공 아파트(전용면적 32.76)가 보증금 700만원에 월세 10만원으로 최저가에, 창원시 마산회원구 합성동 롯데캐슬더퍼스트 아파트(전용면적 84.9874)가 보증금 2억원에 월세 25만원으로 최고가에 계약되었다.제주지역의 아파트 월세가는 보증금은 최저 50만원에서 최고 1억5000만원, 월세는 최저 6만원에서 최고 88만원인데, 서귀포시 대정읍 하모리 서귀포대정휴먼시아 아파트(전용면적 39.51)가 보증금 1060만원에 월세 8만원으로 최저가에, 제주시 노형동 부영3차 아파트(전용면적 84.9508)가 보증금 1억원에 월세 75만원으로 최고가에 계약되었다. 월세 매물의 최저/최고가는 평가금액 기준으로 산출해냈으며, 평가금액은 보증금(월세100만원)으로 계산하였다'"
      ]
     },
     "execution_count": 27,
     "metadata": {
      "tags": []
     },
     "output_type": "execute_result"
    }
   ],
   "source": [
    "train_df.iloc[37707, 3] #유독 이 문장만 길이가 긴것으로 나타남\n",
    "  #이 문장이 속한 기사를 찾아보니 이 기사만이 문장단위로 분류가 되어 있지가 않다\n",
    "  #데이터 수집 오류인가?"
   ]
  },
  {
   "cell_type": "code",
   "execution_count": null,
   "metadata": {
    "colab": {
     "base_uri": "https://localhost:8080/"
    },
    "executionInfo": {
     "elapsed": 941,
     "status": "ok",
     "timestamp": 1606901467117,
     "user": {
      "displayName": "Metalchaos",
      "photoUrl": "https://lh3.googleusercontent.com/a-/AOh14Ghlgn0MI3bNmK1nVrlfaZHBhr8IHW8BwHTyoNn4qg=s64",
      "userId": "01329456307028669382"
     },
     "user_tz": -540
    },
    "id": "Wt-B41wDyl5x",
    "outputId": "a01439c5-9c16-472c-baac-e878e2ffbd58"
   },
   "outputs": [
    {
     "data": {
      "text/plain": [
       "count    118745.000000\n",
       "mean         23.136831\n",
       "std          18.225367\n",
       "min           0.000000\n",
       "25%          12.000000\n",
       "50%          18.000000\n",
       "75%          29.000000\n",
       "max        1675.000000\n",
       "Name: tokenized_cont, dtype: float64"
      ]
     },
     "execution_count": 28,
     "metadata": {
      "tags": []
     },
     "output_type": "execute_result"
    }
   ],
   "source": [
    "sent_size.describe()\n",
    "  #아무리 문장길이가 길어도 75%분위수가 29이다."
   ]
  },
  {
   "cell_type": "code",
   "execution_count": null,
   "metadata": {
    "colab": {
     "base_uri": "https://localhost:8080/"
    },
    "executionInfo": {
     "elapsed": 972,
     "status": "ok",
     "timestamp": 1606901474366,
     "user": {
      "displayName": "Metalchaos",
      "photoUrl": "https://lh3.googleusercontent.com/a-/AOh14Ghlgn0MI3bNmK1nVrlfaZHBhr8IHW8BwHTyoNn4qg=s64",
      "userId": "01329456307028669382"
     },
     "user_tz": -540
    },
    "id": "FdiFxkGiyoQh",
    "outputId": "8926fe90-4ad0-4d89-d96c-7e428a4c8ab8"
   },
   "outputs": [
    {
     "data": {
      "text/plain": [
       "array([1675, 1289, 1080,  807,  538,  466,  450,  413,  393,  384,  358,\n",
       "        351,  332,  286,  285,  285,  284,  283,  279,  276])"
      ]
     },
     "execution_count": 29,
     "metadata": {
      "tags": []
     },
     "output_type": "execute_result"
    }
   ],
   "source": [
    "#문장길이가 긴 경우가 다수 존재\n",
    "sent_size.values[sent_size.values.argsort()[::-1]][:20] #상위 20개만 추출해봄"
   ]
  },
  {
   "cell_type": "code",
   "execution_count": null,
   "metadata": {
    "colab": {
     "base_uri": "https://localhost:8080/"
    },
    "executionInfo": {
     "elapsed": 940,
     "status": "ok",
     "timestamp": 1606901479165,
     "user": {
      "displayName": "Metalchaos",
      "photoUrl": "https://lh3.googleusercontent.com/a-/AOh14Ghlgn0MI3bNmK1nVrlfaZHBhr8IHW8BwHTyoNn4qg=s64",
      "userId": "01329456307028669382"
     },
     "user_tz": -540
    },
    "id": "JxE77NTYyqBR",
    "outputId": "a17c1416-472b-45b2-e589-58c16171f83b"
   },
   "outputs": [
    {
     "data": {
      "text/plain": [
       "array([37707,  3319,  2253, 42666, 16199,  6426, 20205,  2287,  9534,\n",
       "       47409, 18586,  8565,  4769, 16277, 15771, 12160,  5712,    61,\n",
       "        7249,  2032])"
      ]
     },
     "execution_count": 30,
     "metadata": {
      "tags": []
     },
     "output_type": "execute_result"
    }
   ],
   "source": [
    "sent_size.values.argsort()[::-1][:20]"
   ]
  },
  {
   "cell_type": "code",
   "execution_count": null,
   "metadata": {
    "colab": {
     "base_uri": "https://localhost:8080/",
     "height": 1000
    },
    "collapsed": true,
    "executionInfo": {
     "elapsed": 1035,
     "status": "ok",
     "timestamp": 1606901487789,
     "user": {
      "displayName": "Metalchaos",
      "photoUrl": "https://lh3.googleusercontent.com/a-/AOh14Ghlgn0MI3bNmK1nVrlfaZHBhr8IHW8BwHTyoNn4qg=s64",
      "userId": "01329456307028669382"
     },
     "user_tz": -540
    },
    "id": "FOa-8D5AyrMx",
    "outputId": "35df56e0-846e-4731-e340-8f6aad67996f"
   },
   "outputs": [
    {
     "data": {
      "text/html": [
       "<div>\n",
       "<style scoped>\n",
       "    .dataframe tbody tr th:only-of-type {\n",
       "        vertical-align: middle;\n",
       "    }\n",
       "\n",
       "    .dataframe tbody tr th {\n",
       "        vertical-align: top;\n",
       "    }\n",
       "\n",
       "    .dataframe thead th {\n",
       "        text-align: right;\n",
       "    }\n",
       "</style>\n",
       "<table border=\"1\" class=\"dataframe\">\n",
       "  <thead>\n",
       "    <tr style=\"text-align: right;\">\n",
       "      <th></th>\n",
       "      <th>n_id</th>\n",
       "      <th>date</th>\n",
       "      <th>title</th>\n",
       "      <th>content</th>\n",
       "      <th>ord</th>\n",
       "      <th>info</th>\n",
       "      <th>clean_content</th>\n",
       "      <th>tokenized_cont</th>\n",
       "    </tr>\n",
       "  </thead>\n",
       "  <tbody>\n",
       "    <tr>\n",
       "      <th>37707</th>\n",
       "      <td>NEWS08612</td>\n",
       "      <td>20200304</td>\n",
       "      <td>지난달(02월) 아파트 월세 실거래가</td>\n",
       "      <td>지난 02월 아파트 월세 실거래가는 다음과 같다.서울지역의 아파트 월세가를 살펴보면...</td>\n",
       "      <td>1</td>\n",
       "      <td>0</td>\n",
       "      <td>지난 아파트 월세 실거래가는 다음과 같다서울지역의 아파트 월세가를 살펴보면 보증금은...</td>\n",
       "      <td>[[tensor(4304), tensor(3131), tensor(517), ten...</td>\n",
       "    </tr>\n",
       "    <tr>\n",
       "      <th>3319</th>\n",
       "      <td>NEWS04734</td>\n",
       "      <td>20200615</td>\n",
       "      <td>[미리보는 이데일리신문]대학 원격강의 제한 푼다…사이버대 긴장</td>\n",
       "      <td>[이데일리 최정훈 기자] 다음은 16일자 이데일리 신문 주요 뉴스다.1면-대학 원격...</td>\n",
       "      <td>1</td>\n",
       "      <td>0</td>\n",
       "      <td>이데일리 최정훈 기자 다음은 일자 이데일리 신문 주요 뉴스다1면대학 원격강의 제한 ...</td>\n",
       "      <td>[[tensor(3661), tensor(4519), tensor(7227), te...</td>\n",
       "    </tr>\n",
       "    <tr>\n",
       "      <th>2253</th>\n",
       "      <td>NEWS03462</td>\n",
       "      <td>20200112</td>\n",
       "      <td>[미리보는 이데일리신문]벤처투자 붐에도..M&amp;A출구 꽉 막혔다</td>\n",
       "      <td>[이데일리 양희동 기자] 다음은 13일자 이데일리 신문 주요 뉴스다.1면-벤처투자 ...</td>\n",
       "      <td>1</td>\n",
       "      <td>0</td>\n",
       "      <td>이데일리 양희동 기자 다음은 일자 이데일리 신문 주요 뉴스다1면벤처투자 붐에도MA출...</td>\n",
       "      <td>[[tensor(3661), tensor(3214), tensor(7993), te...</td>\n",
       "    </tr>\n",
       "    <tr>\n",
       "      <th>42666</th>\n",
       "      <td>NEWS09295</td>\n",
       "      <td>20200311</td>\n",
       "      <td>지난 10일간 주요 부동산거래</td>\n",
       "      <td>1일에서 11일사이 각 지역별 주요 부동산 실거래가는 다음과 같다.서울지역 아파트 ...</td>\n",
       "      <td>1</td>\n",
       "      <td>0</td>\n",
       "      <td>1일에서 일사이 지역별 주요 부동산 실거래가는 다음과 같다서울지역 아파트 서초구 반...</td>\n",
       "      <td>[[tensor(529), tensor(7126), tensor(6903), ten...</td>\n",
       "    </tr>\n",
       "    <tr>\n",
       "      <th>16199</th>\n",
       "      <td>NEWS03552</td>\n",
       "      <td>20200529</td>\n",
       "      <td>엔케이맥스, 한국 임상 1/2a상 마지막환자 투약…추적관찰 시작</td>\n",
       "      <td>엔케이맥스는 키트루다 병용 임상인  슈퍼NK(SNK01) 의 한국 임상1/2a상에서...</td>\n",
       "      <td>2</td>\n",
       "      <td>0</td>\n",
       "      <td>엔케이맥스는 키트루다 병용 임상인 슈퍼NKSNK 한국 임상a상에서 마지막 번째 환자...</td>\n",
       "      <td>[[tensor(3292), tensor(7525), tensor(6172), te...</td>\n",
       "    </tr>\n",
       "    <tr>\n",
       "      <th>6426</th>\n",
       "      <td>NEWS06180</td>\n",
       "      <td>20200214</td>\n",
       "      <td>11조원대 글로벌 시장 석권할 2월 Best종목!</td>\n",
       "      <td>오늘 종목 긴말 필요없다. 오늘 장 마감 직전이라도 상한가로 말아올릴만큼 매물의 씨...</td>\n",
       "      <td>1</td>\n",
       "      <td>1</td>\n",
       "      <td>오늘 종목 긴말 필요없다 오늘 장 마감 직전이라도 상한가로 말아올릴만큼 매물의 씨가...</td>\n",
       "      <td>[[tensor(3419), tensor(4202), tensor(1311), te...</td>\n",
       "    </tr>\n",
       "    <tr>\n",
       "      <th>20205</th>\n",
       "      <td>NEWS04588</td>\n",
       "      <td>20200623</td>\n",
       "      <td>현대차그룹, 로드아일랜드 디자인스쿨과 미래 모빌리티 디자인 혁신 위한 협업</td>\n",
       "      <td>자연 생명체와 생태계에 대한 다양하고 심도 깊은 연구활동을 지원하고 있으며 RISD...</td>\n",
       "      <td>4</td>\n",
       "      <td>0</td>\n",
       "      <td>자연 생명체와 생태계에 대한 다양하고 심도 깊은 연구활동을 지원하고 있으며 RISD...</td>\n",
       "      <td>[[tensor(3916), tensor(2712), tensor(7436), te...</td>\n",
       "    </tr>\n",
       "    <tr>\n",
       "      <th>2287</th>\n",
       "      <td>NEWS01541</td>\n",
       "      <td>20200627</td>\n",
       "      <td>과학기술정보통신부 주간계획(6월 29~7월 3일)</td>\n",
       "      <td>[이데일리 이후섭 기자] 다음주(6월 29~7월 3일) 과학기술정보통신부 주요일정 ...</td>\n",
       "      <td>2</td>\n",
       "      <td>0</td>\n",
       "      <td>이데일리 이후섭 기자 다음주6월 3일 과학기술정보통신부 주요일정 보도계획이다주간 주...</td>\n",
       "      <td>[[tensor(3661), tensor(3756), tensor(6570), te...</td>\n",
       "    </tr>\n",
       "    <tr>\n",
       "      <th>9534</th>\n",
       "      <td>NEWS03256</td>\n",
       "      <td>20200611</td>\n",
       "      <td>KOSPI 200 Closing Price List-4</td>\n",
       "      <td>KOSPI 200 Closing Price List-4KOSPI 200 Closin...</td>\n",
       "      <td>1</td>\n",
       "      <td>0</td>\n",
       "      <td>KOSPI Closing Price List4KOSPI Closing Price L...</td>\n",
       "      <td>[[tensor(659), tensor(331), tensor(337), tenso...</td>\n",
       "    </tr>\n",
       "    <tr>\n",
       "      <th>47409</th>\n",
       "      <td>NEWS01166</td>\n",
       "      <td>20200325</td>\n",
       "      <td>전국 소상공인 단체 \"이동주 더불어시민당 비례대표 후보 환영\"</td>\n",
       "      <td>(소속단체) 한국지역경제살리기중앙회, 한국소상공인정책포럼, 전국수퍼마켓협동조합연합회...</td>\n",
       "      <td>16</td>\n",
       "      <td>0</td>\n",
       "      <td>소속단체 한국지역경제살리기중앙회 한국소상공인정책포럼 전국수퍼마켓협동조합연합회 한국발...</td>\n",
       "      <td>[[tensor(2837), tensor(5791), tensor(4958), te...</td>\n",
       "    </tr>\n",
       "    <tr>\n",
       "      <th>18586</th>\n",
       "      <td>NEWS09051</td>\n",
       "      <td>20200424</td>\n",
       "      <td>농업기술실용화재단, ‘인산가’와 국유특허 전용실시 기술이전 체결</td>\n",
       "      <td>특히 잇꽃씨와 흰민들레 추출물은 인지기능과 관련해서는 종래 공지된 다수의 약물과는 ...</td>\n",
       "      <td>3</td>\n",
       "      <td>0</td>\n",
       "      <td>특히 잇꽃씨와 흰민들레 추출물은 인지기능과 관련해서는 종래 공지된 다수의 약물과는 ...</td>\n",
       "      <td>[[tensor(4792), tensor(3852), tensor(5622), te...</td>\n",
       "    </tr>\n",
       "    <tr>\n",
       "      <th>8565</th>\n",
       "      <td>NEWS02823</td>\n",
       "      <td>20200226</td>\n",
       "      <td>KOSPI 200 Closing Price List-2</td>\n",
       "      <td>KOSPI 200 Closing Price List-2KOSPI 200 Closin...</td>\n",
       "      <td>1</td>\n",
       "      <td>0</td>\n",
       "      <td>KOSPI Closing Price List2KOSPI Closing Price L...</td>\n",
       "      <td>[[tensor(659), tensor(331), tensor(337), tenso...</td>\n",
       "    </tr>\n",
       "    <tr>\n",
       "      <th>4769</th>\n",
       "      <td>NEWS02326</td>\n",
       "      <td>20200526</td>\n",
       "      <td>5월 26일 퀸스탁 구미영 투자전략</td>\n",
       "      <td>우량기업조차도 자금 구하기 어렵다.25일(현지시간) 미국 증시는 메모리얼 데이를 맞...</td>\n",
       "      <td>1</td>\n",
       "      <td>1</td>\n",
       "      <td>우량기업조차도 자금 구하기 어렵다일현지시간 미국 증시는 메모리얼 데이를 맞아 휴장 ...</td>\n",
       "      <td>[[tensor(3498), tensor(6035), tensor(5577), te...</td>\n",
       "    </tr>\n",
       "    <tr>\n",
       "      <th>16277</th>\n",
       "      <td>NEWS02410</td>\n",
       "      <td>20200116</td>\n",
       "      <td>5거래일 기준 누적하락률 상위 종목(코스피)</td>\n",
       "      <td>제목 : 5거래일 기준 누적하락률 상위 종목(코스피).b_table table{bo...</td>\n",
       "      <td>1</td>\n",
       "      <td>0</td>\n",
       "      <td>제목 5거래일 기준 누적하락률 상위 종목코스피b_table table{borderc...</td>\n",
       "      <td>[[tensor(4128), tensor(6217), tensor(611), ten...</td>\n",
       "    </tr>\n",
       "    <tr>\n",
       "      <th>15771</th>\n",
       "      <td>NEWS04213</td>\n",
       "      <td>20200306</td>\n",
       "      <td>[Closing] KOSDAQ 150 Price List</td>\n",
       "      <td>34,000\\t\\t\\t-1400\\t\\t\\t-3.95%\\t\\t\\t\\t\\t\\t\\tCel...</td>\n",
       "      <td>5</td>\n",
       "      <td>0</td>\n",
       "      <td>Celltrion Healthcare Celltrionph Chunbo CJ ENM...</td>\n",
       "      <td>[[tensor(638), tensor(391), tensor(420), tenso...</td>\n",
       "    </tr>\n",
       "    <tr>\n",
       "      <th>12160</th>\n",
       "      <td>NEWS03398</td>\n",
       "      <td>20200423</td>\n",
       "      <td>대우건설, 印尼 LNG 액화 플랜트 본계약 체결…“新 남방시장 개척 본격화”</td>\n",
       "      <td>대우건설(대표이사 김형)이 지난 22일 인도네시아 LNG 액화 플랜트 공사인 Tan...</td>\n",
       "      <td>2</td>\n",
       "      <td>0</td>\n",
       "      <td>대우건설대표이사 김형이 지난 인도네시아 LNG 액화 플랜트 공사인 Tangguh E...</td>\n",
       "      <td>[[tensor(1658), tensor(5386), tensor(5822), te...</td>\n",
       "    </tr>\n",
       "    <tr>\n",
       "      <th>5712</th>\n",
       "      <td>NEWS05613</td>\n",
       "      <td>20200114</td>\n",
       "      <td>사드 이슈 완화 기대감…들썩이는 화장품주에 관심 높여간다면</td>\n",
       "      <td>한편, 스탁론에 대한 관심이 날로 높아지고 있다. 모처럼 잡은 투자기회를 놓치지 않...</td>\n",
       "      <td>2</td>\n",
       "      <td>1</td>\n",
       "      <td>한편 스탁론에 대한 관심이 날로 높아지고 모처럼 잡은 투자기회를 놓치지 않으려는 투...</td>\n",
       "      <td>[[tensor(4974), tensor(2929), tensor(7589), te...</td>\n",
       "    </tr>\n",
       "    <tr>\n",
       "      <th>61</th>\n",
       "      <td>NEWS07957</td>\n",
       "      <td>20200414</td>\n",
       "      <td>온라인 결제株, 코로나19 사태로 최대 수혜를?</td>\n",
       "      <td>한편, 스탁론에 대한 관심이 날로 높아지고 있다. 모처럼 잡은 투자기회를 놓치지 않...</td>\n",
       "      <td>2</td>\n",
       "      <td>1</td>\n",
       "      <td>한편 스탁론에 대한 관심이 날로 높아지고 모처럼 잡은 투자기회를 놓치지 않으려는 투...</td>\n",
       "      <td>[[tensor(4974), tensor(2929), tensor(7589), te...</td>\n",
       "    </tr>\n",
       "    <tr>\n",
       "      <th>7249</th>\n",
       "      <td>NEWS02007</td>\n",
       "      <td>20200109</td>\n",
       "      <td>7월에 달린다? 자율주행차 관련주로 이동하는 시선</td>\n",
       "      <td>한편, 스탁론에 대한 관심이 날로 높아지고 있다. 모처럼 잡은 투자기회를 놓치지 않...</td>\n",
       "      <td>2</td>\n",
       "      <td>1</td>\n",
       "      <td>한편 스탁론에 대한 관심이 날로 높아지고 모처럼 잡은 투자기회를 놓치지 않으려는 투...</td>\n",
       "      <td>[[tensor(4974), tensor(2929), tensor(7589), te...</td>\n",
       "    </tr>\n",
       "    <tr>\n",
       "      <th>2032</th>\n",
       "      <td>NEWS08071</td>\n",
       "      <td>20200325</td>\n",
       "      <td>PBR 0.5배 미달 기업 속출…앞으로의 투자전략은?</td>\n",
       "      <td>한편, 스탁론에 대한 관심이 날로 높아지고 있다. 모처럼 잡은 투자기회를 놓치지 않...</td>\n",
       "      <td>2</td>\n",
       "      <td>1</td>\n",
       "      <td>한편 스탁론에 대한 관심이 날로 높아지고 모처럼 잡은 투자기회를 놓치지 않으려는 투...</td>\n",
       "      <td>[[tensor(4974), tensor(2929), tensor(7589), te...</td>\n",
       "    </tr>\n",
       "  </tbody>\n",
       "</table>\n",
       "</div>"
      ],
      "text/plain": [
       "            n_id  ...                                     tokenized_cont\n",
       "37707  NEWS08612  ...  [[tensor(4304), tensor(3131), tensor(517), ten...\n",
       "3319   NEWS04734  ...  [[tensor(3661), tensor(4519), tensor(7227), te...\n",
       "2253   NEWS03462  ...  [[tensor(3661), tensor(3214), tensor(7993), te...\n",
       "42666  NEWS09295  ...  [[tensor(529), tensor(7126), tensor(6903), ten...\n",
       "16199  NEWS03552  ...  [[tensor(3292), tensor(7525), tensor(6172), te...\n",
       "6426   NEWS06180  ...  [[tensor(3419), tensor(4202), tensor(1311), te...\n",
       "20205  NEWS04588  ...  [[tensor(3916), tensor(2712), tensor(7436), te...\n",
       "2287   NEWS01541  ...  [[tensor(3661), tensor(3756), tensor(6570), te...\n",
       "9534   NEWS03256  ...  [[tensor(659), tensor(331), tensor(337), tenso...\n",
       "47409  NEWS01166  ...  [[tensor(2837), tensor(5791), tensor(4958), te...\n",
       "18586  NEWS09051  ...  [[tensor(4792), tensor(3852), tensor(5622), te...\n",
       "8565   NEWS02823  ...  [[tensor(659), tensor(331), tensor(337), tenso...\n",
       "4769   NEWS02326  ...  [[tensor(3498), tensor(6035), tensor(5577), te...\n",
       "16277  NEWS02410  ...  [[tensor(4128), tensor(6217), tensor(611), ten...\n",
       "15771  NEWS04213  ...  [[tensor(638), tensor(391), tensor(420), tenso...\n",
       "12160  NEWS03398  ...  [[tensor(1658), tensor(5386), tensor(5822), te...\n",
       "5712   NEWS05613  ...  [[tensor(4974), tensor(2929), tensor(7589), te...\n",
       "61     NEWS07957  ...  [[tensor(4974), tensor(2929), tensor(7589), te...\n",
       "7249   NEWS02007  ...  [[tensor(4974), tensor(2929), tensor(7589), te...\n",
       "2032   NEWS08071  ...  [[tensor(4974), tensor(2929), tensor(7589), te...\n",
       "\n",
       "[20 rows x 8 columns]"
      ]
     },
     "execution_count": 31,
     "metadata": {
      "tags": []
     },
     "output_type": "execute_result"
    }
   ],
   "source": [
    "train_df.iloc[sent_size.values.argsort()[::-1][:20], :]\n",
    "  #이렇게 문장길이가 긴 content들은 대부분 문장단위로 구분이 된 데이터가 아니고\n",
    "  #기사가 통으로 들어있는 데이터임\n",
    "  #그렇다면 이를 다시 문장단위로 구분을 시켜야 하나? 그런데 info는 매핑이 불가능한데?"
   ]
  },
  {
   "cell_type": "code",
   "execution_count": null,
   "metadata": {
    "colab": {
     "base_uri": "https://localhost:8080/",
     "height": 204
    },
    "collapsed": true,
    "executionInfo": {
     "elapsed": 2162,
     "status": "ok",
     "timestamp": 1606901534489,
     "user": {
      "displayName": "Metalchaos",
      "photoUrl": "https://lh3.googleusercontent.com/a-/AOh14Ghlgn0MI3bNmK1nVrlfaZHBhr8IHW8BwHTyoNn4qg=s64",
      "userId": "01329456307028669382"
     },
     "user_tz": -540
    },
    "id": "mKcJKiXXytSB",
    "outputId": "bad97810-a9d1-4e1d-be94-e96d864bdecf"
   },
   "outputs": [
    {
     "data": {
      "text/html": [
       "<div>\n",
       "<style scoped>\n",
       "    .dataframe tbody tr th:only-of-type {\n",
       "        vertical-align: middle;\n",
       "    }\n",
       "\n",
       "    .dataframe tbody tr th {\n",
       "        vertical-align: top;\n",
       "    }\n",
       "\n",
       "    .dataframe thead th {\n",
       "        text-align: right;\n",
       "    }\n",
       "</style>\n",
       "<table border=\"1\" class=\"dataframe\">\n",
       "  <thead>\n",
       "    <tr style=\"text-align: right;\">\n",
       "      <th></th>\n",
       "      <th>n_id</th>\n",
       "      <th>date</th>\n",
       "      <th>title</th>\n",
       "      <th>content</th>\n",
       "      <th>ord</th>\n",
       "      <th>id</th>\n",
       "    </tr>\n",
       "  </thead>\n",
       "  <tbody>\n",
       "    <tr>\n",
       "      <th>0</th>\n",
       "      <td>NEWS00237</td>\n",
       "      <td>20200118</td>\n",
       "      <td>[주목!e스몰캡]코세스, 마이크로LED 시장 개화 최대수혜 기대</td>\n",
       "      <td>마이크로 LED TV 장비 양산 돌입- 전방업체 투자 확대로 본업도 호조연일 '신고가'</td>\n",
       "      <td>1</td>\n",
       "      <td>NEWS00237_1</td>\n",
       "    </tr>\n",
       "    <tr>\n",
       "      <th>1</th>\n",
       "      <td>NEWS00237</td>\n",
       "      <td>20200118</td>\n",
       "      <td>[주목!e스몰캡]코세스, 마이크로LED 시장 개화 최대수혜 기대</td>\n",
       "      <td>[이데일리 김대웅 기자] 반도체 장비 업체 코세스(089890)의 기술력이 마이크로...</td>\n",
       "      <td>2</td>\n",
       "      <td>NEWS00237_2</td>\n",
       "    </tr>\n",
       "    <tr>\n",
       "      <th>2</th>\n",
       "      <td>NEWS00237</td>\n",
       "      <td>20200118</td>\n",
       "      <td>[주목!e스몰캡]코세스, 마이크로LED 시장 개화 최대수혜 기대</td>\n",
       "      <td>최근 대형 업체들과 거래를 맺고 관련 장비들의 양산에 돌입하면서 주가도 연일 신고가...</td>\n",
       "      <td>3</td>\n",
       "      <td>NEWS00237_3</td>\n",
       "    </tr>\n",
       "    <tr>\n",
       "      <th>3</th>\n",
       "      <td>NEWS00237</td>\n",
       "      <td>20200118</td>\n",
       "      <td>[주목!e스몰캡]코세스, 마이크로LED 시장 개화 최대수혜 기대</td>\n",
       "      <td>TV를 필두로 올해부터 마이크로 LED의 시대가 본격적으로 개화할 것으로 예상되면서...</td>\n",
       "      <td>4</td>\n",
       "      <td>NEWS00237_4</td>\n",
       "    </tr>\n",
       "    <tr>\n",
       "      <th>4</th>\n",
       "      <td>NEWS00237</td>\n",
       "      <td>20200118</td>\n",
       "      <td>[주목!e스몰캡]코세스, 마이크로LED 시장 개화 최대수혜 기대</td>\n",
       "      <td>코세스는 반도체 장비를 제조, 판매하는 업체로 지난 2006년 11월 코스닥 시장에...</td>\n",
       "      <td>5</td>\n",
       "      <td>NEWS00237_5</td>\n",
       "    </tr>\n",
       "  </tbody>\n",
       "</table>\n",
       "</div>"
      ],
      "text/plain": [
       "        n_id      date  ... ord           id\n",
       "0  NEWS00237  20200118  ...   1  NEWS00237_1\n",
       "1  NEWS00237  20200118  ...   2  NEWS00237_2\n",
       "2  NEWS00237  20200118  ...   3  NEWS00237_3\n",
       "3  NEWS00237  20200118  ...   4  NEWS00237_4\n",
       "4  NEWS00237  20200118  ...   5  NEWS00237_5\n",
       "\n",
       "[5 rows x 6 columns]"
      ]
     },
     "execution_count": 32,
     "metadata": {
      "tags": []
     },
     "output_type": "execute_result"
    }
   ],
   "source": [
    "#test 데이터의 경우에는? 어떤가?\n",
    "\n",
    "test_df = pd.read_csv('/content/drive/MyDrive/dacon/news_test.csv')\n",
    "test_df.head()"
   ]
  },
  {
   "cell_type": "code",
   "execution_count": null,
   "metadata": {
    "id": "NvzIfppqy4VR"
   },
   "outputs": [],
   "source": [
    "#내용 전처리\n",
    "test_df['clean_content'] = test_df['content'].apply(clean_kor_text)\n",
    "\n",
    "#토큰화 및 매핑\n",
    "test_df['tokenized_cont'] = test_df['clean_content'].apply(lambda x: tokenize_and_mapping(sp, x, word_to_id))"
   ]
  },
  {
   "cell_type": "code",
   "execution_count": null,
   "metadata": {
    "colab": {
     "base_uri": "https://localhost:8080/",
     "height": 289
    },
    "executionInfo": {
     "elapsed": 978,
     "status": "ok",
     "timestamp": 1606901868242,
     "user": {
      "displayName": "Metalchaos",
      "photoUrl": "https://lh3.googleusercontent.com/a-/AOh14Ghlgn0MI3bNmK1nVrlfaZHBhr8IHW8BwHTyoNn4qg=s64",
      "userId": "01329456307028669382"
     },
     "user_tz": -540
    },
    "id": "2ptZH9kY0JMp",
    "outputId": "cc4fbae4-7137-4895-8c0c-8cd3f80d3af6"
   },
   "outputs": [
    {
     "data": {
      "text/html": [
       "<div>\n",
       "<style scoped>\n",
       "    .dataframe tbody tr th:only-of-type {\n",
       "        vertical-align: middle;\n",
       "    }\n",
       "\n",
       "    .dataframe tbody tr th {\n",
       "        vertical-align: top;\n",
       "    }\n",
       "\n",
       "    .dataframe thead th {\n",
       "        text-align: right;\n",
       "    }\n",
       "</style>\n",
       "<table border=\"1\" class=\"dataframe\">\n",
       "  <thead>\n",
       "    <tr style=\"text-align: right;\">\n",
       "      <th></th>\n",
       "      <th>n_id</th>\n",
       "      <th>date</th>\n",
       "      <th>title</th>\n",
       "      <th>content</th>\n",
       "      <th>ord</th>\n",
       "      <th>id</th>\n",
       "      <th>clean_content</th>\n",
       "      <th>tokenized_cont</th>\n",
       "    </tr>\n",
       "  </thead>\n",
       "  <tbody>\n",
       "    <tr>\n",
       "      <th>0</th>\n",
       "      <td>NEWS00237</td>\n",
       "      <td>20200118</td>\n",
       "      <td>[주목!e스몰캡]코세스, 마이크로LED 시장 개화 최대수혜 기대</td>\n",
       "      <td>마이크로 LED TV 장비 양산 돌입- 전방업체 투자 확대로 본업도 호조연일 '신고가'</td>\n",
       "      <td>1</td>\n",
       "      <td>NEWS00237_1</td>\n",
       "      <td>마이크로 LED TV 장비 양산 돌입 전방업체 투자 확대로 본업도 호조연일 신고가</td>\n",
       "      <td>[[tensor(1907), tensor(7096), tensor(7565), te...</td>\n",
       "    </tr>\n",
       "    <tr>\n",
       "      <th>1</th>\n",
       "      <td>NEWS00237</td>\n",
       "      <td>20200118</td>\n",
       "      <td>[주목!e스몰캡]코세스, 마이크로LED 시장 개화 최대수혜 기대</td>\n",
       "      <td>[이데일리 김대웅 기자] 반도체 장비 업체 코세스(089890)의 기술력이 마이크로...</td>\n",
       "      <td>2</td>\n",
       "      <td>NEWS00237_2</td>\n",
       "      <td>이데일리 김대웅 기자 반도체 장비 업체 코세스의 기술력이 마이크로 발광다이오드LED...</td>\n",
       "      <td>[[tensor(3661), tensor(1316), tensor(5808), te...</td>\n",
       "    </tr>\n",
       "    <tr>\n",
       "      <th>2</th>\n",
       "      <td>NEWS00237</td>\n",
       "      <td>20200118</td>\n",
       "      <td>[주목!e스몰캡]코세스, 마이크로LED 시장 개화 최대수혜 기대</td>\n",
       "      <td>최근 대형 업체들과 거래를 맺고 관련 장비들의 양산에 돌입하면서 주가도 연일 신고가...</td>\n",
       "      <td>3</td>\n",
       "      <td>NEWS00237_3</td>\n",
       "      <td>최근 대형 업체들과 거래를 맺고 관련 장비들의 양산에 돌입하면서 주가도 연일 신고가...</td>\n",
       "      <td>[[tensor(4525), tensor(1690), tensor(3269), te...</td>\n",
       "    </tr>\n",
       "    <tr>\n",
       "      <th>3</th>\n",
       "      <td>NEWS00237</td>\n",
       "      <td>20200118</td>\n",
       "      <td>[주목!e스몰캡]코세스, 마이크로LED 시장 개화 최대수혜 기대</td>\n",
       "      <td>TV를 필두로 올해부터 마이크로 LED의 시대가 본격적으로 개화할 것으로 예상되면서...</td>\n",
       "      <td>4</td>\n",
       "      <td>NEWS00237_4</td>\n",
       "      <td>TV를 필두로 올해부터 마이크로 LED의 시대가 본격적으로 개화할 것으로 예상되면서...</td>\n",
       "      <td>[[tensor(694), tensor(6116), tensor(4916), ten...</td>\n",
       "    </tr>\n",
       "    <tr>\n",
       "      <th>4</th>\n",
       "      <td>NEWS00237</td>\n",
       "      <td>20200118</td>\n",
       "      <td>[주목!e스몰캡]코세스, 마이크로LED 시장 개화 최대수혜 기대</td>\n",
       "      <td>코세스는 반도체 장비를 제조, 판매하는 업체로 지난 2006년 11월 코스닥 시장에...</td>\n",
       "      <td>5</td>\n",
       "      <td>NEWS00237_5</td>\n",
       "      <td>코세스는 반도체 장비를 제조 판매하는 업체로 지난 코스닥 시장에 상장했고 창업주인 ...</td>\n",
       "      <td>[[tensor(4665), tensor(6579), tensor(6666), te...</td>\n",
       "    </tr>\n",
       "  </tbody>\n",
       "</table>\n",
       "</div>"
      ],
      "text/plain": [
       "        n_id  ...                                     tokenized_cont\n",
       "0  NEWS00237  ...  [[tensor(1907), tensor(7096), tensor(7565), te...\n",
       "1  NEWS00237  ...  [[tensor(3661), tensor(1316), tensor(5808), te...\n",
       "2  NEWS00237  ...  [[tensor(4525), tensor(1690), tensor(3269), te...\n",
       "3  NEWS00237  ...  [[tensor(694), tensor(6116), tensor(4916), ten...\n",
       "4  NEWS00237  ...  [[tensor(4665), tensor(6579), tensor(6666), te...\n",
       "\n",
       "[5 rows x 8 columns]"
      ]
     },
     "execution_count": 34,
     "metadata": {
      "tags": []
     },
     "output_type": "execute_result"
    }
   ],
   "source": [
    "test_df.head()"
   ]
  },
  {
   "cell_type": "code",
   "execution_count": null,
   "metadata": {
    "id": "AjhyQrQv0C54"
   },
   "outputs": [],
   "source": [
    "test_sent_size = test_df['tokenized_cont'].apply(lambda x: x.shape[1])"
   ]
  },
  {
   "cell_type": "code",
   "execution_count": null,
   "metadata": {
    "colab": {
     "base_uri": "https://localhost:8080/"
    },
    "executionInfo": {
     "elapsed": 1118,
     "status": "ok",
     "timestamp": 1606901886559,
     "user": {
      "displayName": "Metalchaos",
      "photoUrl": "https://lh3.googleusercontent.com/a-/AOh14Ghlgn0MI3bNmK1nVrlfaZHBhr8IHW8BwHTyoNn4qg=s64",
      "userId": "01329456307028669382"
     },
     "user_tz": -540
    },
    "id": "bexGVYAv0Mp5",
    "outputId": "e5ded9e8-7292-4761-d7dc-c550ff4126fc"
   },
   "outputs": [
    {
     "data": {
      "text/plain": [
       "count    142565.00000\n",
       "mean         23.29764\n",
       "std          17.28816\n",
       "min           0.00000\n",
       "25%          12.00000\n",
       "50%          19.00000\n",
       "75%          30.00000\n",
       "max        1575.00000\n",
       "Name: tokenized_cont, dtype: float64"
      ]
     },
     "execution_count": 36,
     "metadata": {
      "tags": []
     },
     "output_type": "execute_result"
    }
   ],
   "source": [
    "test_sent_size.describe()\n",
    "  #테스트 문서 내에도 문장단위로 처리되지 않은 데이터가 있음"
   ]
  },
  {
   "cell_type": "code",
   "execution_count": null,
   "metadata": {
    "colab": {
     "base_uri": "https://localhost:8080/"
    },
    "executionInfo": {
     "elapsed": 975,
     "status": "ok",
     "timestamp": 1606901959763,
     "user": {
      "displayName": "Metalchaos",
      "photoUrl": "https://lh3.googleusercontent.com/a-/AOh14Ghlgn0MI3bNmK1nVrlfaZHBhr8IHW8BwHTyoNn4qg=s64",
      "userId": "01329456307028669382"
     },
     "user_tz": -540
    },
    "id": "mA22Wt4V0OaR",
    "outputId": "4b5c8ff7-64ba-4712-9933-9da7ec2f5d23"
   },
   "outputs": [
    {
     "data": {
      "text/plain": [
       "array([1575,  771,  572,  542,  441,  382,  340,  312,  311,  307,  283,\n",
       "        283,  281,  275,  275,  275,  275,  272,  271,  261,  260,  256,\n",
       "        254,  253,  251,  251,  239,  239,  228,  225,  223,  223,  218,\n",
       "        214,  213,  211,  210,  209,  209,  208,  208,  203,  200,  197,\n",
       "        195,  194,  192,  192,  191,  190])"
      ]
     },
     "execution_count": 39,
     "metadata": {
      "tags": []
     },
     "output_type": "execute_result"
    }
   ],
   "source": [
    "test_sent_size.values[test_sent_size.values.argsort()[::-1]][:50] #상위 50개만 추출해봄"
   ]
  }
 ],
 "metadata": {
  "colab": {
   "authorship_tag": "ABX9TyMqI9cZq9L56K7ZIih5MrNO",
   "collapsed_sections": [],
   "name": "input작업_정리.ipynb",
   "provenance": []
  },
  "kernelspec": {
   "display_name": "Python 3",
   "language": "python",
   "name": "python3"
  },
  "language_info": {
   "codemirror_mode": {
    "name": "ipython",
    "version": 3
   },
   "file_extension": ".py",
   "mimetype": "text/x-python",
   "name": "python",
   "nbconvert_exporter": "python",
   "pygments_lexer": "ipython3",
   "version": "3.7.7"
  }
 },
 "nbformat": 4,
 "nbformat_minor": 1
}
